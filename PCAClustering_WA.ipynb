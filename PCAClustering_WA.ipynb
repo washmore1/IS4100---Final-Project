{
  "nbformat": 4,
  "nbformat_minor": 0,
  "metadata": {
    "colab": {
      "provenance": []
    },
    "kernelspec": {
      "name": "python3",
      "display_name": "Python 3"
    },
    "language_info": {
      "name": "python"
    }
  },
  "cells": [
    {
      "cell_type": "markdown",
      "source": [
        "\n",
        "# IS-4100: PCA and Clustering with NFL Data\n",
        "\n",
        "**Objective:**\n",
        "\n",
        "This lab will introduce you to principal component analysis (PCA) and clustering techniques to analyze and interpret NFL data. You will explore how dimensionality reduction can simplify data and how clustering can reveal patterns within NFL team or player performance metrics.\n",
        "\n",
        "---\n",
        "\n",
        "## Section 1: Data Preparation and Exploration\n",
        "\n",
        "### Load the Data\n",
        "- Use either `nflfastR` or `nfl_data_py` to load the play-by-play data or season stats for a specific range.\n",
        "- Filter the data to focus on key columns such as `yards_gained`, `pass_attempt`, `rush_attempt`, `touchdown`, `interception`, `sack`, etc.\n",
        "\n",
        "### Feature Engineering\n",
        "- Create aggregated metrics for each team or player, such as:\n",
        "  - Average yards per game\n",
        "  - Touchdowns per game\n",
        "  - Passing and rushing attempts per game\n",
        "  - Average turnovers per game\n",
        "- Ensure the final dataset has all numeric columns necessary for PCA and clustering.\n",
        "\n",
        "### Data Cleaning\n",
        "- Check for missing values, handling them appropriately.\n",
        "- Standardize or normalize data to ensure comparability across features.\n",
        "\n",
        "---\n",
        "\n",
        "## Section 2: Principal Component Analysis (PCA)\n",
        "\n",
        "### Perform PCA\n",
        "- Apply PCA to the dataset to reduce it to two or three principal components.\n",
        "- Use a scree plot to determine the number of components that capture the majority of variance.\n",
        "\n",
        "### Interpret PCA Results\n",
        "- Examine the component loadings to understand which metrics contribute most to each principal component.\n",
        "- Discuss how PCA has simplified the data and retained the most critical information.\n",
        "\n",
        "### Visualization\n",
        "- Plot the data points in a 2D or 3D scatterplot using the principal components as axes.\n",
        "- Label data points by team or player for better insights.\n",
        "\n",
        "---\n",
        "\n",
        "## Section 3: Clustering\n",
        "\n",
        "### Choosing a Clustering Algorithm\n",
        "- Select either K-means or hierarchical clustering for this analysis.\n",
        "- Determine an appropriate number of clusters by using techniques like the elbow method or silhouette score.\n",
        "\n",
        "### Run Clustering Algorithm\n",
        "- Apply the chosen clustering algorithm to the PCA-reduced dataset.\n",
        "- Assign a cluster label to each team or player based on the results.\n",
        "\n",
        "### Visualize Clusters\n",
        "- Create a scatter plot showing the clusters with different colors, and label key data points.\n",
        "- Discuss the composition of each cluster (e.g., are certain teams or players consistently high-performing in specific metrics?).\n",
        "\n",
        "---\n",
        "\n",
        "## Section 4: Interpretation and Analysis\n",
        "\n",
        "### Analyze Cluster Characteristics\n",
        "- Compare clusters to identify patterns, such as clusters of teams with strong passing vs. rushing stats or players with high-risk, high-reward play styles.\n",
        "\n",
        "### Discuss Findings\n",
        "- Write a summary explaining how PCA helped to reduce data complexity and what the clusters reveal about NFL team or player performance.\n",
        "\n",
        "\n",
        "---\n",
        "\n",
        "## Questions for Reflection:\n",
        "1. How did PCA simplify the dataset, and what insights were preserved?\n",
        "2. Were there any clusters that grouped similar types of players or teams? Describe these patterns.\n",
        "3. If you were to adjust the clustering parameters, what changes might you explore?"
      ],
      "metadata": {
        "id": "HqenwBlfb25f"
      }
    },
    {
      "cell_type": "code",
      "execution_count": null,
      "metadata": {
        "id": "bMyADEDkb093",
        "colab": {
          "base_uri": "https://localhost:8080/"
        },
        "outputId": "9f44077a-619c-47a2-b262-37eea18d9dcc",
        "collapsed": true
      },
      "outputs": [
        {
          "output_type": "stream",
          "name": "stdout",
          "text": [
            "Requirement already satisfied: nfl_data_py in /usr/local/lib/python3.10/dist-packages (0.3.3)\n",
            "Requirement already satisfied: numpy<2.0,>=1.0 in /usr/local/lib/python3.10/dist-packages (from nfl_data_py) (1.26.4)\n",
            "Requirement already satisfied: pandas<2.0,>=1.0 in /usr/local/lib/python3.10/dist-packages (from nfl_data_py) (1.5.3)\n",
            "Requirement already satisfied: appdirs>1 in /usr/local/lib/python3.10/dist-packages (from nfl_data_py) (1.4.4)\n",
            "Requirement already satisfied: fastparquet>0.5 in /usr/local/lib/python3.10/dist-packages (from nfl_data_py) (2024.11.0)\n",
            "Requirement already satisfied: cramjam>=2.3 in /usr/local/lib/python3.10/dist-packages (from fastparquet>0.5->nfl_data_py) (2.9.0)\n",
            "Requirement already satisfied: fsspec in /usr/local/lib/python3.10/dist-packages (from fastparquet>0.5->nfl_data_py) (2024.10.0)\n",
            "Requirement already satisfied: packaging in /usr/local/lib/python3.10/dist-packages (from fastparquet>0.5->nfl_data_py) (24.2)\n",
            "Requirement already satisfied: python-dateutil>=2.8.1 in /usr/local/lib/python3.10/dist-packages (from pandas<2.0,>=1.0->nfl_data_py) (2.8.2)\n",
            "Requirement already satisfied: pytz>=2020.1 in /usr/local/lib/python3.10/dist-packages (from pandas<2.0,>=1.0->nfl_data_py) (2024.2)\n",
            "Requirement already satisfied: six>=1.5 in /usr/local/lib/python3.10/dist-packages (from python-dateutil>=2.8.1->pandas<2.0,>=1.0->nfl_data_py) (1.16.0)\n"
          ]
        }
      ],
      "source": [
        "# Load Packages\n",
        "!pip install nfl_data_py\n",
        "import nfl_data_py as nfl\n",
        "import statsmodels.formula.api as smf\n",
        "import statsmodels.api as sm\n",
        "import pandas as pd\n",
        "import seaborn as sns\n",
        "import matplotlib.pyplot as plt\n",
        "import matplotlib\n",
        "import numpy as np\n",
        "import os\n",
        "from sklearn.impute import KNNImputer\n",
        "from sklearn.decomposition import PCA\n",
        "from scipy.cluster.vq import vq, kmeans"
      ]
    },
    {
      "cell_type": "code",
      "source": [
        "## I want to look at specifically the 2023 season\n",
        "pbp = nfl.import_pbp_data([2023])"
      ],
      "metadata": {
        "colab": {
          "base_uri": "https://localhost:8080/"
        },
        "id": "9c_84FHme_08",
        "outputId": "3a29670d-6f8a-4153-f699-709e50bae350"
      },
      "execution_count": null,
      "outputs": [
        {
          "output_type": "stream",
          "name": "stdout",
          "text": [
            "2023 done.\n",
            "Downcasting floats.\n"
          ]
        }
      ]
    },
    {
      "cell_type": "code",
      "source": [
        "# filtering for columns that could be relevant for my research\n",
        "offense_columns = [\n",
        "    'game_id',\n",
        "    'posteam',\n",
        "    'defteam',\n",
        "    'yards_gained',\n",
        "    'pass_attempt',\n",
        "    'rush_attempt',\n",
        "    'touchdown',\n",
        "    'interception',\n",
        "    'sack'\n",
        "]\n",
        "\n",
        "# apply the filter to my play by play df\n",
        "filtered_pbp = pbp[offense_columns]\n",
        "\n",
        "# Drop rows with missing values to ensure there are no NaN's\n",
        "filtered_pbp = filtered_pbp.dropna()"
      ],
      "metadata": {
        "id": "Q8QZIfdMh1hA"
      },
      "execution_count": null,
      "outputs": []
    },
    {
      "cell_type": "code",
      "source": [
        "# Aggregate the data by team and by game\n",
        "gbg_data = filtered_pbp.groupby(['posteam', 'game_id']).agg(\n",
        "    total_yards=('yards_gained', 'sum'),\n",
        "    td_scored=('touchdown', 'sum'),\n",
        "    total_pass_attempts=('pass_attempt', 'sum'),\n",
        "    total_rush_attempts=('rush_attempt', 'sum'),\n",
        "    total_int=('interception', 'sum'),\n",
        "    total_sacks=('sack', 'sum')\n",
        ")\n",
        "\n",
        "gbg_data = gbg_data.reset_index()"
      ],
      "metadata": {
        "id": "kNvsHqkFi-fL"
      },
      "execution_count": null,
      "outputs": []
    },
    {
      "cell_type": "code",
      "source": [
        "sns.scatterplot(data=gbg_data, x='total_pass_attempts', y='total_rush_attempts')"
      ],
      "metadata": {
        "colab": {
          "base_uri": "https://localhost:8080/",
          "height": 468
        },
        "id": "amOoi0o69yo8",
        "outputId": "103194ba-0a90-4f73-a896-a68d9518200f"
      },
      "execution_count": null,
      "outputs": [
        {
          "output_type": "execute_result",
          "data": {
            "text/plain": [
              "<Axes: xlabel='total_pass_attempts', ylabel='total_rush_attempts'>"
            ]
          },
          "metadata": {},
          "execution_count": 205
        },
        {
          "output_type": "display_data",
          "data": {
            "text/plain": [
              "<Figure size 640x480 with 1 Axes>"
            ],
            "image/png": "[encoded data removed]"
          },
          "metadata": {}
        }
      ]
    },
    {
      "cell_type": "code",
      "source": [
        "# Filter for only my teams\n",
        "my_teams = ['MIA', 'PIT', 'HOU', 'DEN', 'WAS', 'CHI', 'TB', 'SF']\n",
        "filtered_teams_data = gbg_data[gbg_data['posteam'].isin(my_teams)]\n",
        "\n",
        "# create a facetgrid\n",
        "g = sns.FacetGrid(filtered_teams_data, col='posteam', col_wrap=4)\n",
        "g.map(sns.scatterplot, 'total_pass_attempts', 'total_rush_attempts')"
      ],
      "metadata": {
        "colab": {
          "base_uri": "https://localhost:8080/",
          "height": 625
        },
        "id": "A8IMB12D93sX",
        "outputId": "c3d546a9-2dfa-418e-9670-cdac6bdbe450"
      },
      "execution_count": null,
      "outputs": [
        {
          "output_type": "execute_result",
          "data": {
            "text/plain": [
              "<seaborn.axisgrid.FacetGrid at 0x782a001a6410>"
            ]
          },
          "metadata": {},
          "execution_count": 206
        },
        {
          "output_type": "display_data",
          "data": {
            "text/plain": [
              "<Figure size 1200x600 with 8 Axes>"
            ],
            "image/png": "[encoded data removed]"
          },
          "metadata": {}
        }
      ]
    },
    {
      "cell_type": "code",
      "source": [
        "# use KNNImputer to impute missing values\n",
        "\n",
        "# create a list of columns to impute\n",
        "cols_impute = ['total_yards', 'td_scored', 'total_pass_attempts', 'total_rush_attempts',\n",
        "               'total_int', 'total_sacks']\n",
        "\n",
        "# create a KNN combine object\n",
        "# axis = 1 refers to the column axis\n",
        "gbg_knn_py = gbg_data.drop(cols_impute, axis = 1)\n",
        "\n",
        "# create an instance of the KNN imputer class\n",
        "imputer = KNNImputer(n_neighbors = 9)\n",
        "\n",
        "# now, fit_transform this object on our data\n",
        "# most models have 3 modes: fit, transform, fit_transform\n",
        "# fit - train a model on the data passed to it\n",
        "# transform - transform the data but it must be fit first\n",
        "# fit_transform - fit on the data, then transform it\n",
        "knn_out_py = imputer.fit_transform(gbg_data[cols_impute])\n",
        "\n",
        "# convert back to a df\n",
        "knn_out_py = pd.DataFrame(knn_out_py)\n",
        "\n",
        "# change column names from imputer to match og object\n",
        "knn_out_py.columns = cols_impute\n",
        "\n",
        "#combine this data back with original\n",
        "# axes typically 0 or 1\n",
        "# o refers to the rows; 1 to the columns\n",
        "gbg_knn_py = pd.concat(\n",
        "    [gbg_knn_py, knn_out_py], axis = 1\n",
        ")"
      ],
      "metadata": {
        "id": "J9vN4RtejUvH"
      },
      "execution_count": null,
      "outputs": []
    },
    {
      "cell_type": "code",
      "source": [
        "# loop through and check for missing values\n",
        "for i in range(len(cols_impute)):\n",
        "  print(gbg_knn_py[cols_impute[i]].isna().sum())"
      ],
      "metadata": {
        "colab": {
          "base_uri": "https://localhost:8080/"
        },
        "id": "Zelm_-pulzYJ",
        "outputId": "53ff4dc5-dc92-4900-fa38-342dd74ad6d1"
      },
      "execution_count": null,
      "outputs": [
        {
          "output_type": "stream",
          "name": "stdout",
          "text": [
            "0\n",
            "0\n",
            "0\n",
            "0\n",
            "0\n",
            "0\n"
          ]
        }
      ]
    },
    {
      "cell_type": "markdown",
      "source": [
        "##**PCA**: Team Pass Attempts and Rush Attempts"
      ],
      "metadata": {
        "id": "4JZRafdE01-Y"
      }
    },
    {
      "cell_type": "code",
      "source": [
        "pca_pass_rush = PCA(svd_solver = 'full')\n",
        "\n",
        "# fix the pass attempt and rush attempt data\n",
        "pass_rush_py = gbg_data[['total_pass_attempts', 'total_rush_attempts']].query(\n",
        "    'total_pass_attempts.notnull() & total_rush_attempts.notnull()'\n",
        ").copy()\n",
        "\n",
        "# fit the PCA model to the data\n",
        "# then project the data to the new PCs\n",
        "pca_fit_pass_rush_py = pca_pass_rush.fit_transform(pass_rush_py)"
      ],
      "metadata": {
        "id": "tRYut5xymBaU"
      },
      "execution_count": null,
      "outputs": []
    },
    {
      "cell_type": "code",
      "source": [
        "# explained variance ratio\n",
        "pca_pass_rush.explained_variance_ratio_"
      ],
      "metadata": {
        "colab": {
          "base_uri": "https://localhost:8080/"
        },
        "id": "lUFAGLMwm0dl",
        "outputId": "69e49ff8-9c64-423c-a00b-516a67a1d8e6"
      },
      "execution_count": null,
      "outputs": [
        {
          "output_type": "execute_result",
          "data": {
            "text/plain": [
              "array([0.69509125, 0.30490875], dtype=float32)"
            ]
          },
          "metadata": {},
          "execution_count": 210
        }
      ]
    },
    {
      "cell_type": "markdown",
      "source": [
        "- The 1st Component explains nearly 70% of the variance, the 2nd component explains the other 30%"
      ],
      "metadata": {
        "id": "Ui0-jb6P1UAh"
      }
    },
    {
      "cell_type": "code",
      "source": [
        "# plot our PC1 and PC2\n",
        "plt.plot(\n",
        "    pca_fit_pass_rush_py[:,0],\n",
        "    pca_fit_pass_rush_py[:,1],\n",
        "    'x'\n",
        ")\n",
        "\n",
        "plt.show();"
      ],
      "metadata": {
        "colab": {
          "base_uri": "https://localhost:8080/",
          "height": 430
        },
        "id": "KgiWXMs2m7_J",
        "outputId": "c21bbda5-0abb-48b7-eabf-e7f679c0dbde"
      },
      "execution_count": null,
      "outputs": [
        {
          "output_type": "display_data",
          "data": {
            "text/plain": [
              "<Figure size 640x480 with 1 Axes>"
            ],
            "image/png": "[encoded data removed]"
          },
          "metadata": {}
        }
      ]
    },
    {
      "cell_type": "code",
      "source": [
        "# pull out the components\n",
        "pca_pass_rush.components_"
      ],
      "metadata": {
        "colab": {
          "base_uri": "https://localhost:8080/"
        },
        "id": "GvJfMBeKnFw8",
        "outputId": "1f0f57d1-4af5-4026-9acc-94ce9a9db617"
      },
      "execution_count": null,
      "outputs": [
        {
          "output_type": "execute_result",
          "data": {
            "text/plain": [
              "array([[ 0.73813736, -0.6746505 ],\n",
              "       [ 0.6746505 ,  0.73813736]], dtype=float32)"
            ]
          },
          "metadata": {},
          "execution_count": 212
        }
      ]
    },
    {
      "cell_type": "code",
      "source": [
        "# KNN is sensitive to scale\n",
        "# subtract mean & divide by std for select cols\n",
        "scaled_gbg_knn_py = (\n",
        "    gbg_knn_py[cols_impute] - gbg_knn_py[cols_impute].mean()\n",
        ") / gbg_knn_py[cols_impute].std()"
      ],
      "metadata": {
        "id": "WVETZLNanQ1v"
      },
      "execution_count": null,
      "outputs": []
    },
    {
      "cell_type": "code",
      "source": [
        "scaled_gbg_knn_py.head() # standard deviations above/below the mean"
      ],
      "metadata": {
        "colab": {
          "base_uri": "https://localhost:8080/",
          "height": 206
        },
        "id": "ZPNQWbPKncp_",
        "outputId": "7abb6fef-e0af-4d8d-94f3-336c923f398f"
      },
      "execution_count": null,
      "outputs": [
        {
          "output_type": "execute_result",
          "data": {
            "text/plain": [
              "   total_yards  td_scored  total_pass_attempts  total_rush_attempts  \\\n",
              "0    -1.444418  -1.670161            -0.448147            -0.252729   \n",
              "1     0.555914   0.403895            -0.705262             0.412962   \n",
              "2     0.778174   0.403895            -1.605165             0.546101   \n",
              "3     0.333655  -0.287457             0.708871            -0.119591   \n",
              "4    -0.461798   1.095247            -0.191032            -0.652144   \n",
              "\n",
              "   total_int  total_sacks  \n",
              "0  -0.863721     0.241585  \n",
              "1  -0.863721    -1.404272  \n",
              "2  -0.863721    -0.307034  \n",
              "3  -0.863721    -0.855653  \n",
              "4   1.358947     0.241585  "
            ],
            "text/html": [
              "\n",
              "  <div id=\"df-74e25087-d744-45ee-aaf3-6a4d3b366a86\" class=\"colab-df-container\">\n",
              "    <div>\n",
              "<style scoped>\n",
              "    .dataframe tbody tr th:only-of-type {\n",
              "        vertical-align: middle;\n",
              "    }\n",
              "\n",
              "    .dataframe tbody tr th {\n",
              "        vertical-align: top;\n",
              "    }\n",
              "\n",
              "    .dataframe thead th {\n",
              "        text-align: right;\n",
              "    }\n",
              "</style>\n",
              "<table border=\"1\" class=\"dataframe\">\n",
              "  <thead>\n",
              "    <tr style=\"text-align: right;\">\n",
              "      <th></th>\n",
              "      <th>total_yards</th>\n",
              "      <th>td_scored</th>\n",
              "      <th>total_pass_attempts</th>\n",
              "      <th>total_rush_attempts</th>\n",
              "      <th>total_int</th>\n",
              "      <th>total_sacks</th>\n",
              "    </tr>\n",
              "  </thead>\n",
              "  <tbody>\n",
              "    <tr>\n",
              "      <th>0</th>\n",
              "      <td>-1.444418</td>\n",
              "      <td>-1.670161</td>\n",
              "      <td>-0.448147</td>\n",
              "      <td>-0.252729</td>\n",
              "      <td>-0.863721</td>\n",
              "      <td>0.241585</td>\n",
              "    </tr>\n",
              "    <tr>\n",
              "      <th>1</th>\n",
              "      <td>0.555914</td>\n",
              "      <td>0.403895</td>\n",
              "      <td>-0.705262</td>\n",
              "      <td>0.412962</td>\n",
              "      <td>-0.863721</td>\n",
              "      <td>-1.404272</td>\n",
              "    </tr>\n",
              "    <tr>\n",
              "      <th>2</th>\n",
              "      <td>0.778174</td>\n",
              "      <td>0.403895</td>\n",
              "      <td>-1.605165</td>\n",
              "      <td>0.546101</td>\n",
              "      <td>-0.863721</td>\n",
              "      <td>-0.307034</td>\n",
              "    </tr>\n",
              "    <tr>\n",
              "      <th>3</th>\n",
              "      <td>0.333655</td>\n",
              "      <td>-0.287457</td>\n",
              "      <td>0.708871</td>\n",
              "      <td>-0.119591</td>\n",
              "      <td>-0.863721</td>\n",
              "      <td>-0.855653</td>\n",
              "    </tr>\n",
              "    <tr>\n",
              "      <th>4</th>\n",
              "      <td>-0.461798</td>\n",
              "      <td>1.095247</td>\n",
              "      <td>-0.191032</td>\n",
              "      <td>-0.652144</td>\n",
              "      <td>1.358947</td>\n",
              "      <td>0.241585</td>\n",
              "    </tr>\n",
              "  </tbody>\n",
              "</table>\n",
              "</div>\n",
              "    <div class=\"colab-df-buttons\">\n",
              "\n",
              "  <div class=\"colab-df-container\">\n",
              "    <button class=\"colab-df-convert\" onclick=\"convertToInteractive('df-74e25087-d744-45ee-aaf3-6a4d3b366a86')\"\n",
              "            title=\"Convert this dataframe to an interactive table.\"\n",
              "            style=\"display:none;\">\n",
              "\n",
              "  <svg xmlns=\"http://www.w3.org/2000/svg\" height=\"24px\" viewBox=\"0 -960 960 960\">\n",
              "    <path d=\"M120-120v-720h720v720H120Zm60-500h600v-160H180v160Zm220 220h160v-160H400v160Zm0 220h160v-160H400v160ZM180-400h160v-160H180v160Zm440 0h160v-160H620v160ZM180-180h160v-160H180v160Zm440 0h160v-160H620v160Z\"/>\n",
              "  </svg>\n",
              "    </button>\n",
              "\n",
              "  <style>\n",
              "    .colab-df-container {\n",
              "      display:flex;\n",
              "      gap: 12px;\n",
              "    }\n",
              "\n",
              "    .colab-df-convert {\n",
              "      background-color: #E8F0FE;\n",
              "      border: none;\n",
              "      border-radius: 50%;\n",
              "      cursor: pointer;\n",
              "      display: none;\n",
              "      fill: #1967D2;\n",
              "      height: 32px;\n",
              "      padding: 0 0 0 0;\n",
              "      width: 32px;\n",
              "    }\n",
              "\n",
              "    .colab-df-convert:hover {\n",
              "      background-color: #E2EBFA;\n",
              "      box-shadow: 0px 1px 2px rgba(60, 64, 67, 0.3), 0px 1px 3px 1px rgba(60, 64, 67, 0.15);\n",
              "      fill: #174EA6;\n",
              "    }\n",
              "\n",
              "    .colab-df-buttons div {\n",
              "      margin-bottom: 4px;\n",
              "    }\n",
              "\n",
              "    [theme=dark] .colab-df-convert {\n",
              "      background-color: #3B4455;\n",
              "      fill: #D2E3FC;\n",
              "    }\n",
              "\n",
              "    [theme=dark] .colab-df-convert:hover {\n",
              "      background-color: #434B5C;\n",
              "      box-shadow: 0px 1px 3px 1px rgba(0, 0, 0, 0.15);\n",
              "      filter: drop-shadow(0px 1px 2px rgba(0, 0, 0, 0.3));\n",
              "      fill: #FFFFFF;\n",
              "    }\n",
              "  </style>\n",
              "\n",
              "    <script>\n",
              "      const buttonEl =\n",
              "        document.querySelector('#df-74e25087-d744-45ee-aaf3-6a4d3b366a86 button.colab-df-convert');\n",
              "      buttonEl.style.display =\n",
              "        google.colab.kernel.accessAllowed ? 'block' : 'none';\n",
              "\n",
              "      async function convertToInteractive(key) {\n",
              "        const element = document.querySelector('#df-74e25087-d744-45ee-aaf3-6a4d3b366a86');\n",
              "        const dataTable =\n",
              "          await google.colab.kernel.invokeFunction('convertToInteractive',\n",
              "                                                    [key], {});\n",
              "        if (!dataTable) return;\n",
              "\n",
              "        const docLinkHtml = 'Like what you see? Visit the ' +\n",
              "          '<a target=\"_blank\" href=https://colab.research.google.com/notebooks/data_table.ipynb>data table notebook</a>'\n",
              "          + ' to learn more about interactive tables.';\n",
              "        element.innerHTML = '';\n",
              "        dataTable['output_type'] = 'display_data';\n",
              "        await google.colab.output.renderOutput(dataTable, element);\n",
              "        const docLink = document.createElement('div');\n",
              "        docLink.innerHTML = docLinkHtml;\n",
              "        element.appendChild(docLink);\n",
              "      }\n",
              "    </script>\n",
              "  </div>\n",
              "\n",
              "\n",
              "<div id=\"df-c920740c-0199-4d33-997b-bb79872e3d1b\">\n",
              "  <button class=\"colab-df-quickchart\" onclick=\"quickchart('df-c920740c-0199-4d33-997b-bb79872e3d1b')\"\n",
              "            title=\"Suggest charts\"\n",
              "            style=\"display:none;\">\n",
              "\n",
              "<svg xmlns=\"http://www.w3.org/2000/svg\" height=\"24px\"viewBox=\"0 0 24 24\"\n",
              "     width=\"24px\">\n",
              "    <g>\n",
              "        <path d=\"M19 3H5c-1.1 0-2 .9-2 2v14c0 1.1.9 2 2 2h14c1.1 0 2-.9 2-2V5c0-1.1-.9-2-2-2zM9 17H7v-7h2v7zm4 0h-2V7h2v10zm4 0h-2v-4h2v4z\"/>\n",
              "    </g>\n",
              "</svg>\n",
              "  </button>\n",
              "\n",
              "<style>\n",
              "  .colab-df-quickchart {\n",
              "      --bg-color: #E8F0FE;\n",
              "      --fill-color: #1967D2;\n",
              "      --hover-bg-color: #E2EBFA;\n",
              "      --hover-fill-color: #174EA6;\n",
              "      --disabled-fill-color: #AAA;\n",
              "      --disabled-bg-color: #DDD;\n",
              "  }\n",
              "\n",
              "  [theme=dark] .colab-df-quickchart {\n",
              "      --bg-color: #3B4455;\n",
              "      --fill-color: #D2E3FC;\n",
              "      --hover-bg-color: #434B5C;\n",
              "      --hover-fill-color: #FFFFFF;\n",
              "      --disabled-bg-color: #3B4455;\n",
              "      --disabled-fill-color: #666;\n",
              "  }\n",
              "\n",
              "  .colab-df-quickchart {\n",
              "    background-color: var(--bg-color);\n",
              "    border: none;\n",
              "    border-radius: 50%;\n",
              "    cursor: pointer;\n",
              "    display: none;\n",
              "    fill: var(--fill-color);\n",
              "    height: 32px;\n",
              "    padding: 0;\n",
              "    width: 32px;\n",
              "  }\n",
              "\n",
              "  .colab-df-quickchart:hover {\n",
              "    background-color: var(--hover-bg-color);\n",
              "    box-shadow: 0 1px 2px rgba(60, 64, 67, 0.3), 0 1px 3px 1px rgba(60, 64, 67, 0.15);\n",
              "    fill: var(--button-hover-fill-color);\n",
              "  }\n",
              "\n",
              "  .colab-df-quickchart-complete:disabled,\n",
              "  .colab-df-quickchart-complete:disabled:hover {\n",
              "    background-color: var(--disabled-bg-color);\n",
              "    fill: var(--disabled-fill-color);\n",
              "    box-shadow: none;\n",
              "  }\n",
              "\n",
              "  .colab-df-spinner {\n",
              "    border: 2px solid var(--fill-color);\n",
              "    border-color: transparent;\n",
              "    border-bottom-color: var(--fill-color);\n",
              "    animation:\n",
              "      spin 1s steps(1) infinite;\n",
              "  }\n",
              "\n",
              "  @keyframes spin {\n",
              "    0% {\n",
              "      border-color: transparent;\n",
              "      border-bottom-color: var(--fill-color);\n",
              "      border-left-color: var(--fill-color);\n",
              "    }\n",
              "    20% {\n",
              "      border-color: transparent;\n",
              "      border-left-color: var(--fill-color);\n",
              "      border-top-color: var(--fill-color);\n",
              "    }\n",
              "    30% {\n",
              "      border-color: transparent;\n",
              "      border-left-color: var(--fill-color);\n",
              "      border-top-color: var(--fill-color);\n",
              "      border-right-color: var(--fill-color);\n",
              "    }\n",
              "    40% {\n",
              "      border-color: transparent;\n",
              "      border-right-color: var(--fill-color);\n",
              "      border-top-color: var(--fill-color);\n",
              "    }\n",
              "    60% {\n",
              "      border-color: transparent;\n",
              "      border-right-color: var(--fill-color);\n",
              "    }\n",
              "    80% {\n",
              "      border-color: transparent;\n",
              "      border-right-color: var(--fill-color);\n",
              "      border-bottom-color: var(--fill-color);\n",
              "    }\n",
              "    90% {\n",
              "      border-color: transparent;\n",
              "      border-bottom-color: var(--fill-color);\n",
              "    }\n",
              "  }\n",
              "</style>\n",
              "\n",
              "  <script>\n",
              "    async function quickchart(key) {\n",
              "      const quickchartButtonEl =\n",
              "        document.querySelector('#' + key + ' button');\n",
              "      quickchartButtonEl.disabled = true;  // To prevent multiple clicks.\n",
              "      quickchartButtonEl.classList.add('colab-df-spinner');\n",
              "      try {\n",
              "        const charts = await google.colab.kernel.invokeFunction(\n",
              "            'suggestCharts', [key], {});\n",
              "      } catch (error) {\n",
              "        console.error('Error during call to suggestCharts:', error);\n",
              "      }\n",
              "      quickchartButtonEl.classList.remove('colab-df-spinner');\n",
              "      quickchartButtonEl.classList.add('colab-df-quickchart-complete');\n",
              "    }\n",
              "    (() => {\n",
              "      let quickchartButtonEl =\n",
              "        document.querySelector('#df-c920740c-0199-4d33-997b-bb79872e3d1b button');\n",
              "      quickchartButtonEl.style.display =\n",
              "        google.colab.kernel.accessAllowed ? 'block' : 'none';\n",
              "    })();\n",
              "  </script>\n",
              "</div>\n",
              "\n",
              "    </div>\n",
              "  </div>\n"
            ],
            "application/vnd.google.colaboratory.intrinsic+json": {
              "type": "dataframe",
              "variable_name": "scaled_gbg_knn_py",
              "summary": "{\n  \"name\": \"scaled_gbg_knn_py\",\n  \"rows\": 570,\n  \"fields\": [\n    {\n      \"column\": \"total_yards\",\n      \"properties\": {\n        \"dtype\": \"float32\",\n        \"num_unique_values\": 282,\n        \"samples\": [\n          -0.719150960445404,\n          -1.3040434122085571,\n          0.4974251985549927\n        ],\n        \"semantic_type\": \"\",\n        \"description\": \"\"\n      }\n    },\n    {\n      \"column\": \"td_scored\",\n      \"properties\": {\n        \"dtype\": \"float32\",\n        \"num_unique_values\": 10,\n        \"samples\": [\n          3.1693029403686523,\n          0.40389519929885864,\n          1.7865991592407227\n        ],\n        \"semantic_type\": \"\",\n        \"description\": \"\"\n      }\n    },\n    {\n      \"column\": \"total_pass_attempts\",\n      \"properties\": {\n        \"dtype\": \"float32\",\n        \"num_unique_values\": 45,\n        \"samples\": [\n          2.3801190853118896,\n          -1.7337229251861572,\n          -0.5767048597335815\n        ],\n        \"semantic_type\": \"\",\n        \"description\": \"\"\n      }\n    },\n    {\n      \"column\": \"total_rush_attempts\",\n      \"properties\": {\n        \"dtype\": \"float32\",\n        \"num_unique_values\": 40,\n        \"samples\": [\n          0.013547506183385849,\n          -0.3858673870563507,\n          0.9455155730247498\n        ],\n        \"semantic_type\": \"\",\n        \"description\": \"\"\n      }\n    },\n    {\n      \"column\": \"total_int\",\n      \"properties\": {\n        \"dtype\": \"float32\",\n        \"num_unique_values\": 6,\n        \"samples\": [\n          -0.8637208342552185,\n          1.358946681022644,\n          4.692947864532471\n        ],\n        \"semantic_type\": \"\",\n        \"description\": \"\"\n      }\n    },\n    {\n      \"column\": \"total_sacks\",\n      \"properties\": {\n        \"dtype\": \"float32\",\n        \"num_unique_values\": 11,\n        \"samples\": [\n          2.4360599517822266,\n          0.24158473312854767,\n          2.9846787452697754\n        ],\n        \"semantic_type\": \"\",\n        \"description\": \"\"\n      }\n    }\n  ]\n}"
            }
          },
          "metadata": {},
          "execution_count": 214
        }
      ]
    },
    {
      "cell_type": "markdown",
      "source": [
        "##**PCA**: All General Offensive Data"
      ],
      "metadata": {
        "id": "48Vx1rWH4DWd"
      }
    },
    {
      "cell_type": "code",
      "source": [
        "pca = PCA(svd_solver = 'full')\n",
        "\n",
        "# fit pca on scaled data and transform it\n",
        "pca_fit_py = pca.fit_transform(scaled_gbg_knn_py)\n",
        "\n",
        "# showcase rotation (PCs) of data\n",
        "rotation = pd.DataFrame(pca.components_, index = cols_impute)\n",
        "print(rotation)"
      ],
      "metadata": {
        "colab": {
          "base_uri": "https://localhost:8080/"
        },
        "id": "1xAebgCQniPS",
        "outputId": "a9481ced-6850-4622-d374-8ed53a6c3705"
      },
      "execution_count": null,
      "outputs": [
        {
          "output_type": "stream",
          "name": "stdout",
          "text": [
            "                            0         1         2         3         4  \\\n",
            "total_yards          0.495085  0.484170 -0.226390  0.471326 -0.255188   \n",
            "td_scored            0.472763  0.305835  0.679326 -0.250559  0.397842   \n",
            "total_pass_attempts -0.103137 -0.031275 -0.376666 -0.036797  0.790697   \n",
            "total_rush_attempts  0.031258  0.199781 -0.159596  0.533795  0.381520   \n",
            "total_int           -0.195782  0.703572 -0.345699 -0.552750 -0.075770   \n",
            "total_sacks          0.693860 -0.368974 -0.447668 -0.351066 -0.010024   \n",
            "\n",
            "                            5  \n",
            "total_yards         -0.426555  \n",
            "td_scored            0.020445  \n",
            "total_pass_attempts -0.468990  \n",
            "total_rush_attempts  0.709327  \n",
            "total_int            0.189406  \n",
            "total_sacks          0.242203  \n"
          ]
        }
      ]
    },
    {
      "cell_type": "code",
      "source": [
        "# print our explained variance\n",
        "pca.explained_variance_"
      ],
      "metadata": {
        "colab": {
          "base_uri": "https://localhost:8080/"
        },
        "id": "REBGU0xXnraz",
        "outputId": "269d9182-39a6-4fd9-ef68-e428d4243c8c"
      },
      "execution_count": null,
      "outputs": [
        {
          "output_type": "execute_result",
          "data": {
            "text/plain": [
              "array([2.2823818 , 1.3793339 , 0.8372936 , 0.73050785, 0.56030995,\n",
              "       0.21016647], dtype=float32)"
            ]
          },
          "metadata": {},
          "execution_count": 216
        }
      ]
    },
    {
      "cell_type": "code",
      "source": [
        "# convert to %\n",
        "pca_percent_py = pca.explained_variance_ratio_.round(4) * 100\n",
        "print(pca_percent_py)"
      ],
      "metadata": {
        "colab": {
          "base_uri": "https://localhost:8080/"
        },
        "id": "QUJh0exjnuB-",
        "outputId": "1355e093-ab96-4f47-9a56-419853b2cbb5"
      },
      "execution_count": null,
      "outputs": [
        {
          "output_type": "stream",
          "name": "stdout",
          "text": [
            "[38.04     22.99     13.950001 12.179999  9.34      3.5     ]\n"
          ]
        }
      ]
    },
    {
      "cell_type": "markdown",
      "source": [
        "38.04 + 22.99 + 13.95001 + 12.179999 = 87.16\n",
        "- Use first 4 PC's\n"
      ],
      "metadata": {
        "id": "bxN0fVsL4Pzk"
      }
    },
    {
      "cell_type": "code",
      "source": [
        "# create a df for PCA\n",
        "pca_fit_py = pd.DataFrame(pca_fit_py)\n",
        "\n",
        "# add column names\n",
        "pca_fit_py.columns = [\"PC\" + str(i + 1) for i in range(len(pca_fit_py.columns))]\n",
        "\n",
        "gbg_knn_py = pd.concat([gbg_knn_py, pca_fit_py], axis = 1)\n",
        "\n",
        "gbg_knn_py.head()"
      ],
      "metadata": {
        "colab": {
          "base_uri": "https://localhost:8080/",
          "height": 226
        },
        "id": "ix2YIp1Hok6u",
        "outputId": "129994d0-f75e-4542-c4b2-85035bb9a4e6"
      },
      "execution_count": null,
      "outputs": [
        {
          "output_type": "execute_result",
          "data": {
            "text/plain": [
              "  posteam          game_id  total_yards  td_scored  total_pass_attempts  \\\n",
              "0     ARI  2023_01_ARI_WAS        210.0        0.0                 33.0   \n",
              "1     ARI  2023_02_NYG_ARI        381.0        3.0                 31.0   \n",
              "2     ARI  2023_03_DAL_ARI        400.0        3.0                 24.0   \n",
              "3     ARI   2023_04_ARI_SF        362.0        2.0                 42.0   \n",
              "4     ARI  2023_05_CIN_ARI        294.0        4.0                 35.0   \n",
              "\n",
              "   total_rush_attempts  total_int  total_sacks       PC1       PC2       PC3  \\\n",
              "0                 25.0        0.0          3.0 -1.424053 -1.773461 -0.416934   \n",
              "1                 30.0        0.0          0.0  1.644493 -0.568570  0.156134   \n",
              "2                 31.0        0.0          2.0  1.552982 -1.085749 -0.047320   \n",
              "3                 26.0        0.0          1.0  0.394557  0.220225 -0.569679   \n",
              "4                 22.0        2.0          3.0 -0.412305  0.695857  1.070542   \n",
              "\n",
              "        PC4       PC5       PC6  \n",
              "0 -0.600364 -0.486465 -0.029461  \n",
              "1 -0.894554 -0.009660  0.075987  \n",
              "2  0.105384  0.392152  0.852073  \n",
              "3 -1.160433 -0.543145 -0.136365  \n",
              "4  0.576580  1.230299 -0.365185  "
            ],
            "text/html": [
              "\n",
              "  <div id=\"df-efefa13d-706b-48b9-abe1-215f841f1264\" class=\"colab-df-container\">\n",
              "    <div>\n",
              "<style scoped>\n",
              "    .dataframe tbody tr th:only-of-type {\n",
              "        vertical-align: middle;\n",
              "    }\n",
              "\n",
              "    .dataframe tbody tr th {\n",
              "        vertical-align: top;\n",
              "    }\n",
              "\n",
              "    .dataframe thead th {\n",
              "        text-align: right;\n",
              "    }\n",
              "</style>\n",
              "<table border=\"1\" class=\"dataframe\">\n",
              "  <thead>\n",
              "    <tr style=\"text-align: right;\">\n",
              "      <th></th>\n",
              "      <th>posteam</th>\n",
              "      <th>game_id</th>\n",
              "      <th>total_yards</th>\n",
              "      <th>td_scored</th>\n",
              "      <th>total_pass_attempts</th>\n",
              "      <th>total_rush_attempts</th>\n",
              "      <th>total_int</th>\n",
              "      <th>total_sacks</th>\n",
              "      <th>PC1</th>\n",
              "      <th>PC2</th>\n",
              "      <th>PC3</th>\n",
              "      <th>PC4</th>\n",
              "      <th>PC5</th>\n",
              "      <th>PC6</th>\n",
              "    </tr>\n",
              "  </thead>\n",
              "  <tbody>\n",
              "    <tr>\n",
              "      <th>0</th>\n",
              "      <td>ARI</td>\n",
              "      <td>2023_01_ARI_WAS</td>\n",
              "      <td>210.0</td>\n",
              "      <td>0.0</td>\n",
              "      <td>33.0</td>\n",
              "      <td>25.0</td>\n",
              "      <td>0.0</td>\n",
              "      <td>3.0</td>\n",
              "      <td>-1.424053</td>\n",
              "      <td>-1.773461</td>\n",
              "      <td>-0.416934</td>\n",
              "      <td>-0.600364</td>\n",
              "      <td>-0.486465</td>\n",
              "      <td>-0.029461</td>\n",
              "    </tr>\n",
              "    <tr>\n",
              "      <th>1</th>\n",
              "      <td>ARI</td>\n",
              "      <td>2023_02_NYG_ARI</td>\n",
              "      <td>381.0</td>\n",
              "      <td>3.0</td>\n",
              "      <td>31.0</td>\n",
              "      <td>30.0</td>\n",
              "      <td>0.0</td>\n",
              "      <td>0.0</td>\n",
              "      <td>1.644493</td>\n",
              "      <td>-0.568570</td>\n",
              "      <td>0.156134</td>\n",
              "      <td>-0.894554</td>\n",
              "      <td>-0.009660</td>\n",
              "      <td>0.075987</td>\n",
              "    </tr>\n",
              "    <tr>\n",
              "      <th>2</th>\n",
              "      <td>ARI</td>\n",
              "      <td>2023_03_DAL_ARI</td>\n",
              "      <td>400.0</td>\n",
              "      <td>3.0</td>\n",
              "      <td>24.0</td>\n",
              "      <td>31.0</td>\n",
              "      <td>0.0</td>\n",
              "      <td>2.0</td>\n",
              "      <td>1.552982</td>\n",
              "      <td>-1.085749</td>\n",
              "      <td>-0.047320</td>\n",
              "      <td>0.105384</td>\n",
              "      <td>0.392152</td>\n",
              "      <td>0.852073</td>\n",
              "    </tr>\n",
              "    <tr>\n",
              "      <th>3</th>\n",
              "      <td>ARI</td>\n",
              "      <td>2023_04_ARI_SF</td>\n",
              "      <td>362.0</td>\n",
              "      <td>2.0</td>\n",
              "      <td>42.0</td>\n",
              "      <td>26.0</td>\n",
              "      <td>0.0</td>\n",
              "      <td>1.0</td>\n",
              "      <td>0.394557</td>\n",
              "      <td>0.220225</td>\n",
              "      <td>-0.569679</td>\n",
              "      <td>-1.160433</td>\n",
              "      <td>-0.543145</td>\n",
              "      <td>-0.136365</td>\n",
              "    </tr>\n",
              "    <tr>\n",
              "      <th>4</th>\n",
              "      <td>ARI</td>\n",
              "      <td>2023_05_CIN_ARI</td>\n",
              "      <td>294.0</td>\n",
              "      <td>4.0</td>\n",
              "      <td>35.0</td>\n",
              "      <td>22.0</td>\n",
              "      <td>2.0</td>\n",
              "      <td>3.0</td>\n",
              "      <td>-0.412305</td>\n",
              "      <td>0.695857</td>\n",
              "      <td>1.070542</td>\n",
              "      <td>0.576580</td>\n",
              "      <td>1.230299</td>\n",
              "      <td>-0.365185</td>\n",
              "    </tr>\n",
              "  </tbody>\n",
              "</table>\n",
              "</div>\n",
              "    <div class=\"colab-df-buttons\">\n",
              "\n",
              "  <div class=\"colab-df-container\">\n",
              "    <button class=\"colab-df-convert\" onclick=\"convertToInteractive('df-efefa13d-706b-48b9-abe1-215f841f1264')\"\n",
              "            title=\"Convert this dataframe to an interactive table.\"\n",
              "            style=\"display:none;\">\n",
              "\n",
              "  <svg xmlns=\"http://www.w3.org/2000/svg\" height=\"24px\" viewBox=\"0 -960 960 960\">\n",
              "    <path d=\"M120-120v-720h720v720H120Zm60-500h600v-160H180v160Zm220 220h160v-160H400v160Zm0 220h160v-160H400v160ZM180-400h160v-160H180v160Zm440 0h160v-160H620v160ZM180-180h160v-160H180v160Zm440 0h160v-160H620v160Z\"/>\n",
              "  </svg>\n",
              "    </button>\n",
              "\n",
              "  <style>\n",
              "    .colab-df-container {\n",
              "      display:flex;\n",
              "      gap: 12px;\n",
              "    }\n",
              "\n",
              "    .colab-df-convert {\n",
              "      background-color: #E8F0FE;\n",
              "      border: none;\n",
              "      border-radius: 50%;\n",
              "      cursor: pointer;\n",
              "      display: none;\n",
              "      fill: #1967D2;\n",
              "      height: 32px;\n",
              "      padding: 0 0 0 0;\n",
              "      width: 32px;\n",
              "    }\n",
              "\n",
              "    .colab-df-convert:hover {\n",
              "      background-color: #E2EBFA;\n",
              "      box-shadow: 0px 1px 2px rgba(60, 64, 67, 0.3), 0px 1px 3px 1px rgba(60, 64, 67, 0.15);\n",
              "      fill: #174EA6;\n",
              "    }\n",
              "\n",
              "    .colab-df-buttons div {\n",
              "      margin-bottom: 4px;\n",
              "    }\n",
              "\n",
              "    [theme=dark] .colab-df-convert {\n",
              "      background-color: #3B4455;\n",
              "      fill: #D2E3FC;\n",
              "    }\n",
              "\n",
              "    [theme=dark] .colab-df-convert:hover {\n",
              "      background-color: #434B5C;\n",
              "      box-shadow: 0px 1px 3px 1px rgba(0, 0, 0, 0.15);\n",
              "      filter: drop-shadow(0px 1px 2px rgba(0, 0, 0, 0.3));\n",
              "      fill: #FFFFFF;\n",
              "    }\n",
              "  </style>\n",
              "\n",
              "    <script>\n",
              "      const buttonEl =\n",
              "        document.querySelector('#df-efefa13d-706b-48b9-abe1-215f841f1264 button.colab-df-convert');\n",
              "      buttonEl.style.display =\n",
              "        google.colab.kernel.accessAllowed ? 'block' : 'none';\n",
              "\n",
              "      async function convertToInteractive(key) {\n",
              "        const element = document.querySelector('#df-efefa13d-706b-48b9-abe1-215f841f1264');\n",
              "        const dataTable =\n",
              "          await google.colab.kernel.invokeFunction('convertToInteractive',\n",
              "                                                    [key], {});\n",
              "        if (!dataTable) return;\n",
              "\n",
              "        const docLinkHtml = 'Like what you see? Visit the ' +\n",
              "          '<a target=\"_blank\" href=https://colab.research.google.com/notebooks/data_table.ipynb>data table notebook</a>'\n",
              "          + ' to learn more about interactive tables.';\n",
              "        element.innerHTML = '';\n",
              "        dataTable['output_type'] = 'display_data';\n",
              "        await google.colab.output.renderOutput(dataTable, element);\n",
              "        const docLink = document.createElement('div');\n",
              "        docLink.innerHTML = docLinkHtml;\n",
              "        element.appendChild(docLink);\n",
              "      }\n",
              "    </script>\n",
              "  </div>\n",
              "\n",
              "\n",
              "<div id=\"df-439c0bae-5955-44f9-86f0-999b5b91902d\">\n",
              "  <button class=\"colab-df-quickchart\" onclick=\"quickchart('df-439c0bae-5955-44f9-86f0-999b5b91902d')\"\n",
              "            title=\"Suggest charts\"\n",
              "            style=\"display:none;\">\n",
              "\n",
              "<svg xmlns=\"http://www.w3.org/2000/svg\" height=\"24px\"viewBox=\"0 0 24 24\"\n",
              "     width=\"24px\">\n",
              "    <g>\n",
              "        <path d=\"M19 3H5c-1.1 0-2 .9-2 2v14c0 1.1.9 2 2 2h14c1.1 0 2-.9 2-2V5c0-1.1-.9-2-2-2zM9 17H7v-7h2v7zm4 0h-2V7h2v10zm4 0h-2v-4h2v4z\"/>\n",
              "    </g>\n",
              "</svg>\n",
              "  </button>\n",
              "\n",
              "<style>\n",
              "  .colab-df-quickchart {\n",
              "      --bg-color: #E8F0FE;\n",
              "      --fill-color: #1967D2;\n",
              "      --hover-bg-color: #E2EBFA;\n",
              "      --hover-fill-color: #174EA6;\n",
              "      --disabled-fill-color: #AAA;\n",
              "      --disabled-bg-color: #DDD;\n",
              "  }\n",
              "\n",
              "  [theme=dark] .colab-df-quickchart {\n",
              "      --bg-color: #3B4455;\n",
              "      --fill-color: #D2E3FC;\n",
              "      --hover-bg-color: #434B5C;\n",
              "      --hover-fill-color: #FFFFFF;\n",
              "      --disabled-bg-color: #3B4455;\n",
              "      --disabled-fill-color: #666;\n",
              "  }\n",
              "\n",
              "  .colab-df-quickchart {\n",
              "    background-color: var(--bg-color);\n",
              "    border: none;\n",
              "    border-radius: 50%;\n",
              "    cursor: pointer;\n",
              "    display: none;\n",
              "    fill: var(--fill-color);\n",
              "    height: 32px;\n",
              "    padding: 0;\n",
              "    width: 32px;\n",
              "  }\n",
              "\n",
              "  .colab-df-quickchart:hover {\n",
              "    background-color: var(--hover-bg-color);\n",
              "    box-shadow: 0 1px 2px rgba(60, 64, 67, 0.3), 0 1px 3px 1px rgba(60, 64, 67, 0.15);\n",
              "    fill: var(--button-hover-fill-color);\n",
              "  }\n",
              "\n",
              "  .colab-df-quickchart-complete:disabled,\n",
              "  .colab-df-quickchart-complete:disabled:hover {\n",
              "    background-color: var(--disabled-bg-color);\n",
              "    fill: var(--disabled-fill-color);\n",
              "    box-shadow: none;\n",
              "  }\n",
              "\n",
              "  .colab-df-spinner {\n",
              "    border: 2px solid var(--fill-color);\n",
              "    border-color: transparent;\n",
              "    border-bottom-color: var(--fill-color);\n",
              "    animation:\n",
              "      spin 1s steps(1) infinite;\n",
              "  }\n",
              "\n",
              "  @keyframes spin {\n",
              "    0% {\n",
              "      border-color: transparent;\n",
              "      border-bottom-color: var(--fill-color);\n",
              "      border-left-color: var(--fill-color);\n",
              "    }\n",
              "    20% {\n",
              "      border-color: transparent;\n",
              "      border-left-color: var(--fill-color);\n",
              "      border-top-color: var(--fill-color);\n",
              "    }\n",
              "    30% {\n",
              "      border-color: transparent;\n",
              "      border-left-color: var(--fill-color);\n",
              "      border-top-color: var(--fill-color);\n",
              "      border-right-color: var(--fill-color);\n",
              "    }\n",
              "    40% {\n",
              "      border-color: transparent;\n",
              "      border-right-color: var(--fill-color);\n",
              "      border-top-color: var(--fill-color);\n",
              "    }\n",
              "    60% {\n",
              "      border-color: transparent;\n",
              "      border-right-color: var(--fill-color);\n",
              "    }\n",
              "    80% {\n",
              "      border-color: transparent;\n",
              "      border-right-color: var(--fill-color);\n",
              "      border-bottom-color: var(--fill-color);\n",
              "    }\n",
              "    90% {\n",
              "      border-color: transparent;\n",
              "      border-bottom-color: var(--fill-color);\n",
              "    }\n",
              "  }\n",
              "</style>\n",
              "\n",
              "  <script>\n",
              "    async function quickchart(key) {\n",
              "      const quickchartButtonEl =\n",
              "        document.querySelector('#' + key + ' button');\n",
              "      quickchartButtonEl.disabled = true;  // To prevent multiple clicks.\n",
              "      quickchartButtonEl.classList.add('colab-df-spinner');\n",
              "      try {\n",
              "        const charts = await google.colab.kernel.invokeFunction(\n",
              "            'suggestCharts', [key], {});\n",
              "      } catch (error) {\n",
              "        console.error('Error during call to suggestCharts:', error);\n",
              "      }\n",
              "      quickchartButtonEl.classList.remove('colab-df-spinner');\n",
              "      quickchartButtonEl.classList.add('colab-df-quickchart-complete');\n",
              "    }\n",
              "    (() => {\n",
              "      let quickchartButtonEl =\n",
              "        document.querySelector('#df-439c0bae-5955-44f9-86f0-999b5b91902d button');\n",
              "      quickchartButtonEl.style.display =\n",
              "        google.colab.kernel.accessAllowed ? 'block' : 'none';\n",
              "    })();\n",
              "  </script>\n",
              "</div>\n",
              "\n",
              "    </div>\n",
              "  </div>\n"
            ],
            "application/vnd.google.colaboratory.intrinsic+json": {
              "type": "dataframe",
              "variable_name": "gbg_knn_py",
              "summary": "{\n  \"name\": \"gbg_knn_py\",\n  \"rows\": 570,\n  \"fields\": [\n    {\n      \"column\": \"posteam\",\n      \"properties\": {\n        \"dtype\": \"category\",\n        \"num_unique_values\": 32,\n        \"samples\": [\n          \"TB\",\n          \"KC\",\n          \"NYJ\"\n        ],\n        \"semantic_type\": \"\",\n        \"description\": \"\"\n      }\n    },\n    {\n      \"column\": \"game_id\",\n      \"properties\": {\n        \"dtype\": \"string\",\n        \"num_unique_values\": 285,\n        \"samples\": [\n          \"2023_10_ATL_ARI\",\n          \"2023_01_PHI_NE\",\n          \"2023_08_LV_DET\"\n        ],\n        \"semantic_type\": \"\",\n        \"description\": \"\"\n      }\n    },\n    {\n      \"column\": \"total_yards\",\n      \"properties\": {\n        \"dtype\": \"float32\",\n        \"num_unique_values\": 282,\n        \"samples\": [\n          272.0,\n          222.0,\n          376.0\n        ],\n        \"semantic_type\": \"\",\n        \"description\": \"\"\n      }\n    },\n    {\n      \"column\": \"td_scored\",\n      \"properties\": {\n        \"dtype\": \"float32\",\n        \"num_unique_values\": 10,\n        \"samples\": [\n          7.0,\n          3.0,\n          5.0\n        ],\n        \"semantic_type\": \"\",\n        \"description\": \"\"\n      }\n    },\n    {\n      \"column\": \"total_pass_attempts\",\n      \"properties\": {\n        \"dtype\": \"float32\",\n        \"num_unique_values\": 45,\n        \"samples\": [\n          55.0,\n          23.0,\n          32.0\n        ],\n        \"semantic_type\": \"\",\n        \"description\": \"\"\n      }\n    },\n    {\n      \"column\": \"total_rush_attempts\",\n      \"properties\": {\n        \"dtype\": \"float32\",\n        \"num_unique_values\": 40,\n        \"samples\": [\n          27.0,\n          24.0,\n          34.0\n        ],\n        \"semantic_type\": \"\",\n        \"description\": \"\"\n      }\n    },\n    {\n      \"column\": \"total_int\",\n      \"properties\": {\n        \"dtype\": \"float32\",\n        \"num_unique_values\": 6,\n        \"samples\": [\n          0.0,\n          2.0,\n          5.0\n        ],\n        \"semantic_type\": \"\",\n        \"description\": \"\"\n      }\n    },\n    {\n      \"column\": \"total_sacks\",\n      \"properties\": {\n        \"dtype\": \"float32\",\n        \"num_unique_values\": 11,\n        \"samples\": [\n          7.0,\n          3.0,\n          8.0\n        ],\n        \"semantic_type\": \"\",\n        \"description\": \"\"\n      }\n    },\n    {\n      \"column\": \"PC1\",\n      \"properties\": {\n        \"dtype\": \"float32\",\n        \"num_unique_values\": 570,\n        \"samples\": [\n          1.9323266744613647,\n          1.6578065156936646,\n          0.5965092778205872\n        ],\n        \"semantic_type\": \"\",\n        \"description\": \"\"\n      }\n    },\n    {\n      \"column\": \"PC2\",\n      \"properties\": {\n        \"dtype\": \"float32\",\n        \"num_unique_values\": 570,\n        \"samples\": [\n          0.2727953791618347,\n          -0.4526944160461426,\n          0.35039791464805603\n        ],\n        \"semantic_type\": \"\",\n        \"description\": \"\"\n      }\n    },\n    {\n      \"column\": \"PC3\",\n      \"properties\": {\n        \"dtype\": \"float32\",\n        \"num_unique_values\": 570,\n        \"samples\": [\n          0.6760265231132507,\n          -0.4324166774749756,\n          -0.40876662731170654\n        ],\n        \"semantic_type\": \"\",\n        \"description\": \"\"\n      }\n    },\n    {\n      \"column\": \"PC4\",\n      \"properties\": {\n        \"dtype\": \"float32\",\n        \"num_unique_values\": 570,\n        \"samples\": [\n          0.3860575258731842,\n          0.2808696925640106,\n          1.4171921014785767\n        ],\n        \"semantic_type\": \"\",\n        \"description\": \"\"\n      }\n    },\n    {\n      \"column\": \"PC5\",\n      \"properties\": {\n        \"dtype\": \"float32\",\n        \"num_unique_values\": 570,\n        \"samples\": [\n          0.7268202900886536,\n          0.37554237246513367,\n          -0.5351595282554626\n        ],\n        \"semantic_type\": \"\",\n        \"description\": \"\"\n      }\n    },\n    {\n      \"column\": \"PC6\",\n      \"properties\": {\n        \"dtype\": \"float32\",\n        \"num_unique_values\": 570,\n        \"samples\": [\n          -0.5426969528198242,\n          -0.26338011026382446,\n          -0.23993785679340363\n        ],\n        \"semantic_type\": \"\",\n        \"description\": \"\"\n      }\n    }\n  ]\n}"
            }
          },
          "metadata": {},
          "execution_count": 218
        }
      ]
    },
    {
      "cell_type": "code",
      "source": [
        "# Scatterplot of PC1 and PC2 with TD's Scored as the hue\n",
        "sns.scatterplot(data = gbg_knn_py, x = 'PC1', y = 'PC2', hue = 'td_scored')"
      ],
      "metadata": {
        "colab": {
          "base_uri": "https://localhost:8080/",
          "height": 467
        },
        "id": "WQF8NnKSpIsj",
        "outputId": "022881a1-ac4c-4248-f897-5772a1c47972"
      },
      "execution_count": null,
      "outputs": [
        {
          "output_type": "execute_result",
          "data": {
            "text/plain": [
              "<Axes: xlabel='PC1', ylabel='PC2'>"
            ]
          },
          "metadata": {},
          "execution_count": 219
        },
        {
          "output_type": "display_data",
          "data": {
            "text/plain": [
              "<Figure size 640x480 with 1 Axes>"
            ],
            "image/png": "[encoded data removed]"
          },
          "metadata": {}
        }
      ]
    },
    {
      "cell_type": "code",
      "source": [
        "# to keep roughly 90% variance, keep the first 4 PC's\n",
        "pca = PCA(svd_solver='full', n_components=4)\n",
        "\n",
        "pca_fit_py = pca.fit_transform(scaled_gbg_knn_py)"
      ],
      "metadata": {
        "id": "8khb2P80pZm2"
      },
      "execution_count": null,
      "outputs": []
    },
    {
      "cell_type": "code",
      "source": [
        "pca.explained_variance_ratio_"
      ],
      "metadata": {
        "colab": {
          "base_uri": "https://localhost:8080/"
        },
        "id": "A79-rrtVpqU7",
        "outputId": "f8471b32-7c64-4d10-8546-7536b4ed20fe"
      },
      "execution_count": null,
      "outputs": [
        {
          "output_type": "execute_result",
          "data": {
            "text/plain": [
              "array([0.38039738, 0.22988923, 0.13954909, 0.12175144], dtype=float32)"
            ]
          },
          "metadata": {},
          "execution_count": 221
        }
      ]
    },
    {
      "cell_type": "markdown",
      "source": [
        "##**Clustering**"
      ],
      "metadata": {
        "id": "03Whggyh6jac"
      }
    },
    {
      "cell_type": "code",
      "source": [
        "# clustering\n",
        "k_means_fit_py = kmeans(\n",
        "    gbg_knn_py[[\"PC1\", \"PC2\"]], 6, seed = 1234\n",
        ")\n",
        "\n",
        "# add cluster label to data\n",
        "gbg_knn_py['cluster'] = (\n",
        "    vq(gbg_knn_py[['PC1', 'PC2']], k_means_fit_py[0])[0]\n",
        "    )"
      ],
      "metadata": {
        "id": "GTwF0XgVp4jD"
      },
      "execution_count": null,
      "outputs": []
    },
    {
      "cell_type": "code",
      "source": [
        "# cluster labels\n",
        "gbg_knn_py['cluster'].unique()"
      ],
      "metadata": {
        "colab": {
          "base_uri": "https://localhost:8080/"
        },
        "id": "H_XImNKtp-BT",
        "outputId": "36d08a63-e0a4-414d-a760-63458ebebe94"
      },
      "execution_count": null,
      "outputs": [
        {
          "output_type": "execute_result",
          "data": {
            "text/plain": [
              "array([3, 2, 5, 1, 4, 0], dtype=int32)"
            ]
          },
          "metadata": {},
          "execution_count": 223
        }
      ]
    },
    {
      "cell_type": "code",
      "source": [
        "# group by cluster and print some data\n",
        "print(\n",
        "    gbg_knn_py.query('cluster == 1')\n",
        "    .groupby('posteam')\n",
        "    .agg({'total_pass_attempts': ['count', 'mean'], 'total_rush_attempts':['count', 'mean']})\n",
        ")"
      ],
      "metadata": {
        "colab": {
          "base_uri": "https://localhost:8080/"
        },
        "id": "lEt9FG0cqF-s",
        "outputId": "b2e3f3e9-abfd-4abd-8216-7114d79bedbb"
      },
      "execution_count": null,
      "outputs": [
        {
          "output_type": "stream",
          "name": "stdout",
          "text": [
            "        total_pass_attempts            total_rush_attempts           \n",
            "                      count       mean               count       mean\n",
            "posteam                                                              \n",
            "ARI                       7  38.428570                   7  26.142857\n",
            "ATL                       4  37.250000                   4  25.250000\n",
            "BAL                       2  34.000000                   2  24.500000\n",
            "BUF                       3  42.666668                   3  22.666666\n",
            "CAR                       3  41.666668                   3  26.666666\n",
            "CHI                       3  37.666668                   3  29.000000\n",
            "CIN                       1  42.000000                   1  15.000000\n",
            "CLE                       6  39.833332                   6  32.833332\n",
            "DAL                       6  40.500000                   6  26.166666\n",
            "DEN                       5  37.400002                   5  23.799999\n",
            "DET                       3  41.333332                   3  22.666666\n",
            "GB                        6  38.000000                   6  24.166666\n",
            "HOU                       2  40.000000                   2  25.000000\n",
            "IND                       4  45.250000                   4  27.000000\n",
            "JAX                       3  40.666668                   3  23.666666\n",
            "KC                        9  42.333332                   9  23.555555\n",
            "LA                        2  37.000000                   2  20.500000\n",
            "LAC                       5  41.200001                   5  24.799999\n",
            "LV                        2  42.000000                   2  27.000000\n",
            "MIA                       5  37.000000                   5  23.200001\n",
            "MIN                       4  45.750000                   4  19.250000\n",
            "NE                        5  37.599998                   5  24.400000\n",
            "NO                        5  42.599998                   5  25.799999\n",
            "NYJ                       4  42.500000                   4  21.250000\n",
            "PIT                       2  39.500000                   2  25.500000\n",
            "SEA                       5  37.799999                   5  18.600000\n",
            "SF                        3  34.666668                   3  23.000000\n",
            "TB                        2  41.000000                   2  16.000000\n",
            "TEN                       2  39.500000                   2  23.500000\n",
            "WAS                       5  42.799999                   5  22.400000\n"
          ]
        }
      ]
    },
    {
      "cell_type": "code",
      "source": [
        "# group by cluster & team\n",
        "gbg_knn_py_cluster = (\n",
        "    gbg_knn_py.groupby(['cluster', 'posteam']).agg(\n",
        "        {'total_pass_attempts': ['count', 'mean'], 'total_rush_attempts':['count', 'mean']}\n",
        "    )\n",
        "    )\n",
        "\n",
        "# fix column names\n",
        "gbg_knn_py_cluster.columns = list(\n",
        "    map(\n",
        "        \"_\".join, gbg_knn_py_cluster.columns\n",
        "    )\n",
        ")\n",
        "\n",
        "# reset index\n",
        "gbg_knn_py_cluster.reset_index(inplace = True)\n",
        "\n",
        "# rename columns\n",
        "gbg_knn_py_cluster.rename(\n",
        "    columns = {\n",
        "        'total_pass_attempts_count' : 'n',\n",
        "        'total_pass_attempts_mean' : 'Pass Attempts',\n",
        "        'total_rush_attempts_mean' : 'Rush Attempts',\n",
        "    }, inplace = True\n",
        ")\n",
        "\n",
        "# type cast cluster col\n",
        "gbg_knn_py_cluster.cluster = gbg_knn_py_cluster.cluster.astype(str)\n",
        "\n",
        "# view obj\n",
        "gbg_knn_py_cluster.tail()"
      ],
      "metadata": {
        "colab": {
          "base_uri": "https://localhost:8080/",
          "height": 206
        },
        "id": "vhj5y8eBqqoQ",
        "outputId": "bda8da80-9a51-4cb3-c21b-751b4a171901"
      },
      "execution_count": null,
      "outputs": [
        {
          "output_type": "execute_result",
          "data": {
            "text/plain": [
              "    cluster posteam  n  Pass Attempts  total_rush_attempts_count  \\\n",
              "169       5     SEA  4      29.500000                          4   \n",
              "170       5      SF  5      31.200001                          5   \n",
              "171       5      TB  6      32.666668                          6   \n",
              "172       5     TEN  5      27.000000                          5   \n",
              "173       5     WAS  1      27.000000                          1   \n",
              "\n",
              "     Rush Attempts  \n",
              "169      26.000000  \n",
              "170      30.400000  \n",
              "171      32.333332  \n",
              "172      27.200001  \n",
              "173      28.000000  "
            ],
            "text/html": [
              "\n",
              "  <div id=\"df-31e200b6-afc8-482a-91cf-819be3b0f708\" class=\"colab-df-container\">\n",
              "    <div>\n",
              "<style scoped>\n",
              "    .dataframe tbody tr th:only-of-type {\n",
              "        vertical-align: middle;\n",
              "    }\n",
              "\n",
              "    .dataframe tbody tr th {\n",
              "        vertical-align: top;\n",
              "    }\n",
              "\n",
              "    .dataframe thead th {\n",
              "        text-align: right;\n",
              "    }\n",
              "</style>\n",
              "<table border=\"1\" class=\"dataframe\">\n",
              "  <thead>\n",
              "    <tr style=\"text-align: right;\">\n",
              "      <th></th>\n",
              "      <th>cluster</th>\n",
              "      <th>posteam</th>\n",
              "      <th>n</th>\n",
              "      <th>Pass Attempts</th>\n",
              "      <th>total_rush_attempts_count</th>\n",
              "      <th>Rush Attempts</th>\n",
              "    </tr>\n",
              "  </thead>\n",
              "  <tbody>\n",
              "    <tr>\n",
              "      <th>169</th>\n",
              "      <td>5</td>\n",
              "      <td>SEA</td>\n",
              "      <td>4</td>\n",
              "      <td>29.500000</td>\n",
              "      <td>4</td>\n",
              "      <td>26.000000</td>\n",
              "    </tr>\n",
              "    <tr>\n",
              "      <th>170</th>\n",
              "      <td>5</td>\n",
              "      <td>SF</td>\n",
              "      <td>5</td>\n",
              "      <td>31.200001</td>\n",
              "      <td>5</td>\n",
              "      <td>30.400000</td>\n",
              "    </tr>\n",
              "    <tr>\n",
              "      <th>171</th>\n",
              "      <td>5</td>\n",
              "      <td>TB</td>\n",
              "      <td>6</td>\n",
              "      <td>32.666668</td>\n",
              "      <td>6</td>\n",
              "      <td>32.333332</td>\n",
              "    </tr>\n",
              "    <tr>\n",
              "      <th>172</th>\n",
              "      <td>5</td>\n",
              "      <td>TEN</td>\n",
              "      <td>5</td>\n",
              "      <td>27.000000</td>\n",
              "      <td>5</td>\n",
              "      <td>27.200001</td>\n",
              "    </tr>\n",
              "    <tr>\n",
              "      <th>173</th>\n",
              "      <td>5</td>\n",
              "      <td>WAS</td>\n",
              "      <td>1</td>\n",
              "      <td>27.000000</td>\n",
              "      <td>1</td>\n",
              "      <td>28.000000</td>\n",
              "    </tr>\n",
              "  </tbody>\n",
              "</table>\n",
              "</div>\n",
              "    <div class=\"colab-df-buttons\">\n",
              "\n",
              "  <div class=\"colab-df-container\">\n",
              "    <button class=\"colab-df-convert\" onclick=\"convertToInteractive('df-31e200b6-afc8-482a-91cf-819be3b0f708')\"\n",
              "            title=\"Convert this dataframe to an interactive table.\"\n",
              "            style=\"display:none;\">\n",
              "\n",
              "  <svg xmlns=\"http://www.w3.org/2000/svg\" height=\"24px\" viewBox=\"0 -960 960 960\">\n",
              "    <path d=\"M120-120v-720h720v720H120Zm60-500h600v-160H180v160Zm220 220h160v-160H400v160Zm0 220h160v-160H400v160ZM180-400h160v-160H180v160Zm440 0h160v-160H620v160ZM180-180h160v-160H180v160Zm440 0h160v-160H620v160Z\"/>\n",
              "  </svg>\n",
              "    </button>\n",
              "\n",
              "  <style>\n",
              "    .colab-df-container {\n",
              "      display:flex;\n",
              "      gap: 12px;\n",
              "    }\n",
              "\n",
              "    .colab-df-convert {\n",
              "      background-color: #E8F0FE;\n",
              "      border: none;\n",
              "      border-radius: 50%;\n",
              "      cursor: pointer;\n",
              "      display: none;\n",
              "      fill: #1967D2;\n",
              "      height: 32px;\n",
              "      padding: 0 0 0 0;\n",
              "      width: 32px;\n",
              "    }\n",
              "\n",
              "    .colab-df-convert:hover {\n",
              "      background-color: #E2EBFA;\n",
              "      box-shadow: 0px 1px 2px rgba(60, 64, 67, 0.3), 0px 1px 3px 1px rgba(60, 64, 67, 0.15);\n",
              "      fill: #174EA6;\n",
              "    }\n",
              "\n",
              "    .colab-df-buttons div {\n",
              "      margin-bottom: 4px;\n",
              "    }\n",
              "\n",
              "    [theme=dark] .colab-df-convert {\n",
              "      background-color: #3B4455;\n",
              "      fill: #D2E3FC;\n",
              "    }\n",
              "\n",
              "    [theme=dark] .colab-df-convert:hover {\n",
              "      background-color: #434B5C;\n",
              "      box-shadow: 0px 1px 3px 1px rgba(0, 0, 0, 0.15);\n",
              "      filter: drop-shadow(0px 1px 2px rgba(0, 0, 0, 0.3));\n",
              "      fill: #FFFFFF;\n",
              "    }\n",
              "  </style>\n",
              "\n",
              "    <script>\n",
              "      const buttonEl =\n",
              "        document.querySelector('#df-31e200b6-afc8-482a-91cf-819be3b0f708 button.colab-df-convert');\n",
              "      buttonEl.style.display =\n",
              "        google.colab.kernel.accessAllowed ? 'block' : 'none';\n",
              "\n",
              "      async function convertToInteractive(key) {\n",
              "        const element = document.querySelector('#df-31e200b6-afc8-482a-91cf-819be3b0f708');\n",
              "        const dataTable =\n",
              "          await google.colab.kernel.invokeFunction('convertToInteractive',\n",
              "                                                    [key], {});\n",
              "        if (!dataTable) return;\n",
              "\n",
              "        const docLinkHtml = 'Like what you see? Visit the ' +\n",
              "          '<a target=\"_blank\" href=https://colab.research.google.com/notebooks/data_table.ipynb>data table notebook</a>'\n",
              "          + ' to learn more about interactive tables.';\n",
              "        element.innerHTML = '';\n",
              "        dataTable['output_type'] = 'display_data';\n",
              "        await google.colab.output.renderOutput(dataTable, element);\n",
              "        const docLink = document.createElement('div');\n",
              "        docLink.innerHTML = docLinkHtml;\n",
              "        element.appendChild(docLink);\n",
              "      }\n",
              "    </script>\n",
              "  </div>\n",
              "\n",
              "\n",
              "<div id=\"df-52d04198-d0aa-46c4-9a07-4d469423c70b\">\n",
              "  <button class=\"colab-df-quickchart\" onclick=\"quickchart('df-52d04198-d0aa-46c4-9a07-4d469423c70b')\"\n",
              "            title=\"Suggest charts\"\n",
              "            style=\"display:none;\">\n",
              "\n",
              "<svg xmlns=\"http://www.w3.org/2000/svg\" height=\"24px\"viewBox=\"0 0 24 24\"\n",
              "     width=\"24px\">\n",
              "    <g>\n",
              "        <path d=\"M19 3H5c-1.1 0-2 .9-2 2v14c0 1.1.9 2 2 2h14c1.1 0 2-.9 2-2V5c0-1.1-.9-2-2-2zM9 17H7v-7h2v7zm4 0h-2V7h2v10zm4 0h-2v-4h2v4z\"/>\n",
              "    </g>\n",
              "</svg>\n",
              "  </button>\n",
              "\n",
              "<style>\n",
              "  .colab-df-quickchart {\n",
              "      --bg-color: #E8F0FE;\n",
              "      --fill-color: #1967D2;\n",
              "      --hover-bg-color: #E2EBFA;\n",
              "      --hover-fill-color: #174EA6;\n",
              "      --disabled-fill-color: #AAA;\n",
              "      --disabled-bg-color: #DDD;\n",
              "  }\n",
              "\n",
              "  [theme=dark] .colab-df-quickchart {\n",
              "      --bg-color: #3B4455;\n",
              "      --fill-color: #D2E3FC;\n",
              "      --hover-bg-color: #434B5C;\n",
              "      --hover-fill-color: #FFFFFF;\n",
              "      --disabled-bg-color: #3B4455;\n",
              "      --disabled-fill-color: #666;\n",
              "  }\n",
              "\n",
              "  .colab-df-quickchart {\n",
              "    background-color: var(--bg-color);\n",
              "    border: none;\n",
              "    border-radius: 50%;\n",
              "    cursor: pointer;\n",
              "    display: none;\n",
              "    fill: var(--fill-color);\n",
              "    height: 32px;\n",
              "    padding: 0;\n",
              "    width: 32px;\n",
              "  }\n",
              "\n",
              "  .colab-df-quickchart:hover {\n",
              "    background-color: var(--hover-bg-color);\n",
              "    box-shadow: 0 1px 2px rgba(60, 64, 67, 0.3), 0 1px 3px 1px rgba(60, 64, 67, 0.15);\n",
              "    fill: var(--button-hover-fill-color);\n",
              "  }\n",
              "\n",
              "  .colab-df-quickchart-complete:disabled,\n",
              "  .colab-df-quickchart-complete:disabled:hover {\n",
              "    background-color: var(--disabled-bg-color);\n",
              "    fill: var(--disabled-fill-color);\n",
              "    box-shadow: none;\n",
              "  }\n",
              "\n",
              "  .colab-df-spinner {\n",
              "    border: 2px solid var(--fill-color);\n",
              "    border-color: transparent;\n",
              "    border-bottom-color: var(--fill-color);\n",
              "    animation:\n",
              "      spin 1s steps(1) infinite;\n",
              "  }\n",
              "\n",
              "  @keyframes spin {\n",
              "    0% {\n",
              "      border-color: transparent;\n",
              "      border-bottom-color: var(--fill-color);\n",
              "      border-left-color: var(--fill-color);\n",
              "    }\n",
              "    20% {\n",
              "      border-color: transparent;\n",
              "      border-left-color: var(--fill-color);\n",
              "      border-top-color: var(--fill-color);\n",
              "    }\n",
              "    30% {\n",
              "      border-color: transparent;\n",
              "      border-left-color: var(--fill-color);\n",
              "      border-top-color: var(--fill-color);\n",
              "      border-right-color: var(--fill-color);\n",
              "    }\n",
              "    40% {\n",
              "      border-color: transparent;\n",
              "      border-right-color: var(--fill-color);\n",
              "      border-top-color: var(--fill-color);\n",
              "    }\n",
              "    60% {\n",
              "      border-color: transparent;\n",
              "      border-right-color: var(--fill-color);\n",
              "    }\n",
              "    80% {\n",
              "      border-color: transparent;\n",
              "      border-right-color: var(--fill-color);\n",
              "      border-bottom-color: var(--fill-color);\n",
              "    }\n",
              "    90% {\n",
              "      border-color: transparent;\n",
              "      border-bottom-color: var(--fill-color);\n",
              "    }\n",
              "  }\n",
              "</style>\n",
              "\n",
              "  <script>\n",
              "    async function quickchart(key) {\n",
              "      const quickchartButtonEl =\n",
              "        document.querySelector('#' + key + ' button');\n",
              "      quickchartButtonEl.disabled = true;  // To prevent multiple clicks.\n",
              "      quickchartButtonEl.classList.add('colab-df-spinner');\n",
              "      try {\n",
              "        const charts = await google.colab.kernel.invokeFunction(\n",
              "            'suggestCharts', [key], {});\n",
              "      } catch (error) {\n",
              "        console.error('Error during call to suggestCharts:', error);\n",
              "      }\n",
              "      quickchartButtonEl.classList.remove('colab-df-spinner');\n",
              "      quickchartButtonEl.classList.add('colab-df-quickchart-complete');\n",
              "    }\n",
              "    (() => {\n",
              "      let quickchartButtonEl =\n",
              "        document.querySelector('#df-52d04198-d0aa-46c4-9a07-4d469423c70b button');\n",
              "      quickchartButtonEl.style.display =\n",
              "        google.colab.kernel.accessAllowed ? 'block' : 'none';\n",
              "    })();\n",
              "  </script>\n",
              "</div>\n",
              "\n",
              "    </div>\n",
              "  </div>\n"
            ],
            "application/vnd.google.colaboratory.intrinsic+json": {
              "type": "dataframe",
              "summary": "{\n  \"name\": \"gbg_knn_py_cluster\",\n  \"rows\": 5,\n  \"fields\": [\n    {\n      \"column\": \"cluster\",\n      \"properties\": {\n        \"dtype\": \"category\",\n        \"num_unique_values\": 1,\n        \"samples\": [\n          \"5\"\n        ],\n        \"semantic_type\": \"\",\n        \"description\": \"\"\n      }\n    },\n    {\n      \"column\": \"posteam\",\n      \"properties\": {\n        \"dtype\": \"string\",\n        \"num_unique_values\": 5,\n        \"samples\": [\n          \"SF\"\n        ],\n        \"semantic_type\": \"\",\n        \"description\": \"\"\n      }\n    },\n    {\n      \"column\": \"n\",\n      \"properties\": {\n        \"dtype\": \"number\",\n        \"std\": 1,\n        \"min\": 1,\n        \"max\": 6,\n        \"num_unique_values\": 4,\n        \"samples\": [\n          5\n        ],\n        \"semantic_type\": \"\",\n        \"description\": \"\"\n      }\n    },\n    {\n      \"column\": \"Pass Attempts\",\n      \"properties\": {\n        \"dtype\": \"float32\",\n        \"num_unique_values\": 4,\n        \"samples\": [\n          31.200000762939453\n        ],\n        \"semantic_type\": \"\",\n        \"description\": \"\"\n      }\n    },\n    {\n      \"column\": \"total_rush_attempts_count\",\n      \"properties\": {\n        \"dtype\": \"number\",\n        \"std\": 1,\n        \"min\": 1,\n        \"max\": 6,\n        \"num_unique_values\": 4,\n        \"samples\": [\n          5\n        ],\n        \"semantic_type\": \"\",\n        \"description\": \"\"\n      }\n    },\n    {\n      \"column\": \"Rush Attempts\",\n      \"properties\": {\n        \"dtype\": \"float32\",\n        \"num_unique_values\": 5,\n        \"samples\": [\n          30.399999618530273\n        ],\n        \"semantic_type\": \"\",\n        \"description\": \"\"\n      }\n    }\n  ]\n}"
            }
          },
          "metadata": {},
          "execution_count": 225
        }
      ]
    },
    {
      "cell_type": "code",
      "source": [
        "# view dims\n",
        "gbg_knn_py_cluster.shape"
      ],
      "metadata": {
        "colab": {
          "base_uri": "https://localhost:8080/"
        },
        "id": "Rfdb2Yv3rlEh",
        "outputId": "5d2dd1b5-9c78-461c-8f0d-b763908da0be"
      },
      "execution_count": null,
      "outputs": [
        {
          "output_type": "execute_result",
          "data": {
            "text/plain": [
              "(174, 6)"
            ]
          },
          "metadata": {},
          "execution_count": 226
        }
      ]
    },
    {
      "cell_type": "code",
      "source": [
        "# group by cluster and not position\n",
        "gbg_knn_py_cluster.groupby('cluster').agg(\n",
        "    {\n",
        "        'Pass Attempts': ['mean'],\n",
        "        'Rush Attempts': ['mean']\n",
        "    }\n",
        ")"
      ],
      "metadata": {
        "colab": {
          "base_uri": "https://localhost:8080/",
          "height": 300
        },
        "id": "0do2SSqD7Mt8",
        "outputId": "2380f146-2824-472b-a5b6-a3e3b4218829"
      },
      "execution_count": null,
      "outputs": [
        {
          "output_type": "execute_result",
          "data": {
            "text/plain": [
              "        Pass Attempts Rush Attempts\n",
              "                 mean          mean\n",
              "cluster                            \n",
              "0           43.250000     27.893679\n",
              "1           39.997063     23.776058\n",
              "2           31.797588     34.190933\n",
              "3           35.228817     21.550123\n",
              "4           46.913692     18.589285\n",
              "5           29.895611     31.175484"
            ],
            "text/html": [
              "\n",
              "  <div id=\"df-6e4c072a-e648-428f-8eb5-28b5d27508ac\" class=\"colab-df-container\">\n",
              "    <div>\n",
              "<style scoped>\n",
              "    .dataframe tbody tr th:only-of-type {\n",
              "        vertical-align: middle;\n",
              "    }\n",
              "\n",
              "    .dataframe tbody tr th {\n",
              "        vertical-align: top;\n",
              "    }\n",
              "\n",
              "    .dataframe thead tr th {\n",
              "        text-align: left;\n",
              "    }\n",
              "\n",
              "    .dataframe thead tr:last-of-type th {\n",
              "        text-align: right;\n",
              "    }\n",
              "</style>\n",
              "<table border=\"1\" class=\"dataframe\">\n",
              "  <thead>\n",
              "    <tr>\n",
              "      <th></th>\n",
              "      <th>Pass Attempts</th>\n",
              "      <th>Rush Attempts</th>\n",
              "    </tr>\n",
              "    <tr>\n",
              "      <th></th>\n",
              "      <th>mean</th>\n",
              "      <th>mean</th>\n",
              "    </tr>\n",
              "    <tr>\n",
              "      <th>cluster</th>\n",
              "      <th></th>\n",
              "      <th></th>\n",
              "    </tr>\n",
              "  </thead>\n",
              "  <tbody>\n",
              "    <tr>\n",
              "      <th>0</th>\n",
              "      <td>43.250000</td>\n",
              "      <td>27.893679</td>\n",
              "    </tr>\n",
              "    <tr>\n",
              "      <th>1</th>\n",
              "      <td>39.997063</td>\n",
              "      <td>23.776058</td>\n",
              "    </tr>\n",
              "    <tr>\n",
              "      <th>2</th>\n",
              "      <td>31.797588</td>\n",
              "      <td>34.190933</td>\n",
              "    </tr>\n",
              "    <tr>\n",
              "      <th>3</th>\n",
              "      <td>35.228817</td>\n",
              "      <td>21.550123</td>\n",
              "    </tr>\n",
              "    <tr>\n",
              "      <th>4</th>\n",
              "      <td>46.913692</td>\n",
              "      <td>18.589285</td>\n",
              "    </tr>\n",
              "    <tr>\n",
              "      <th>5</th>\n",
              "      <td>29.895611</td>\n",
              "      <td>31.175484</td>\n",
              "    </tr>\n",
              "  </tbody>\n",
              "</table>\n",
              "</div>\n",
              "    <div class=\"colab-df-buttons\">\n",
              "\n",
              "  <div class=\"colab-df-container\">\n",
              "    <button class=\"colab-df-convert\" onclick=\"convertToInteractive('df-6e4c072a-e648-428f-8eb5-28b5d27508ac')\"\n",
              "            title=\"Convert this dataframe to an interactive table.\"\n",
              "            style=\"display:none;\">\n",
              "\n",
              "  <svg xmlns=\"http://www.w3.org/2000/svg\" height=\"24px\" viewBox=\"0 -960 960 960\">\n",
              "    <path d=\"M120-120v-720h720v720H120Zm60-500h600v-160H180v160Zm220 220h160v-160H400v160Zm0 220h160v-160H400v160ZM180-400h160v-160H180v160Zm440 0h160v-160H620v160ZM180-180h160v-160H180v160Zm440 0h160v-160H620v160Z\"/>\n",
              "  </svg>\n",
              "    </button>\n",
              "\n",
              "  <style>\n",
              "    .colab-df-container {\n",
              "      display:flex;\n",
              "      gap: 12px;\n",
              "    }\n",
              "\n",
              "    .colab-df-convert {\n",
              "      background-color: #E8F0FE;\n",
              "      border: none;\n",
              "      border-radius: 50%;\n",
              "      cursor: pointer;\n",
              "      display: none;\n",
              "      fill: #1967D2;\n",
              "      height: 32px;\n",
              "      padding: 0 0 0 0;\n",
              "      width: 32px;\n",
              "    }\n",
              "\n",
              "    .colab-df-convert:hover {\n",
              "      background-color: #E2EBFA;\n",
              "      box-shadow: 0px 1px 2px rgba(60, 64, 67, 0.3), 0px 1px 3px 1px rgba(60, 64, 67, 0.15);\n",
              "      fill: #174EA6;\n",
              "    }\n",
              "\n",
              "    .colab-df-buttons div {\n",
              "      margin-bottom: 4px;\n",
              "    }\n",
              "\n",
              "    [theme=dark] .colab-df-convert {\n",
              "      background-color: #3B4455;\n",
              "      fill: #D2E3FC;\n",
              "    }\n",
              "\n",
              "    [theme=dark] .colab-df-convert:hover {\n",
              "      background-color: #434B5C;\n",
              "      box-shadow: 0px 1px 3px 1px rgba(0, 0, 0, 0.15);\n",
              "      filter: drop-shadow(0px 1px 2px rgba(0, 0, 0, 0.3));\n",
              "      fill: #FFFFFF;\n",
              "    }\n",
              "  </style>\n",
              "\n",
              "    <script>\n",
              "      const buttonEl =\n",
              "        document.querySelector('#df-6e4c072a-e648-428f-8eb5-28b5d27508ac button.colab-df-convert');\n",
              "      buttonEl.style.display =\n",
              "        google.colab.kernel.accessAllowed ? 'block' : 'none';\n",
              "\n",
              "      async function convertToInteractive(key) {\n",
              "        const element = document.querySelector('#df-6e4c072a-e648-428f-8eb5-28b5d27508ac');\n",
              "        const dataTable =\n",
              "          await google.colab.kernel.invokeFunction('convertToInteractive',\n",
              "                                                    [key], {});\n",
              "        if (!dataTable) return;\n",
              "\n",
              "        const docLinkHtml = 'Like what you see? Visit the ' +\n",
              "          '<a target=\"_blank\" href=https://colab.research.google.com/notebooks/data_table.ipynb>data table notebook</a>'\n",
              "          + ' to learn more about interactive tables.';\n",
              "        element.innerHTML = '';\n",
              "        dataTable['output_type'] = 'display_data';\n",
              "        await google.colab.output.renderOutput(dataTable, element);\n",
              "        const docLink = document.createElement('div');\n",
              "        docLink.innerHTML = docLinkHtml;\n",
              "        element.appendChild(docLink);\n",
              "      }\n",
              "    </script>\n",
              "  </div>\n",
              "\n",
              "\n",
              "<div id=\"df-cf15a3fe-ffb1-492a-9ba5-e56ee39534e9\">\n",
              "  <button class=\"colab-df-quickchart\" onclick=\"quickchart('df-cf15a3fe-ffb1-492a-9ba5-e56ee39534e9')\"\n",
              "            title=\"Suggest charts\"\n",
              "            style=\"display:none;\">\n",
              "\n",
              "<svg xmlns=\"http://www.w3.org/2000/svg\" height=\"24px\"viewBox=\"0 0 24 24\"\n",
              "     width=\"24px\">\n",
              "    <g>\n",
              "        <path d=\"M19 3H5c-1.1 0-2 .9-2 2v14c0 1.1.9 2 2 2h14c1.1 0 2-.9 2-2V5c0-1.1-.9-2-2-2zM9 17H7v-7h2v7zm4 0h-2V7h2v10zm4 0h-2v-4h2v4z\"/>\n",
              "    </g>\n",
              "</svg>\n",
              "  </button>\n",
              "\n",
              "<style>\n",
              "  .colab-df-quickchart {\n",
              "      --bg-color: #E8F0FE;\n",
              "      --fill-color: #1967D2;\n",
              "      --hover-bg-color: #E2EBFA;\n",
              "      --hover-fill-color: #174EA6;\n",
              "      --disabled-fill-color: #AAA;\n",
              "      --disabled-bg-color: #DDD;\n",
              "  }\n",
              "\n",
              "  [theme=dark] .colab-df-quickchart {\n",
              "      --bg-color: #3B4455;\n",
              "      --fill-color: #D2E3FC;\n",
              "      --hover-bg-color: #434B5C;\n",
              "      --hover-fill-color: #FFFFFF;\n",
              "      --disabled-bg-color: #3B4455;\n",
              "      --disabled-fill-color: #666;\n",
              "  }\n",
              "\n",
              "  .colab-df-quickchart {\n",
              "    background-color: var(--bg-color);\n",
              "    border: none;\n",
              "    border-radius: 50%;\n",
              "    cursor: pointer;\n",
              "    display: none;\n",
              "    fill: var(--fill-color);\n",
              "    height: 32px;\n",
              "    padding: 0;\n",
              "    width: 32px;\n",
              "  }\n",
              "\n",
              "  .colab-df-quickchart:hover {\n",
              "    background-color: var(--hover-bg-color);\n",
              "    box-shadow: 0 1px 2px rgba(60, 64, 67, 0.3), 0 1px 3px 1px rgba(60, 64, 67, 0.15);\n",
              "    fill: var(--button-hover-fill-color);\n",
              "  }\n",
              "\n",
              "  .colab-df-quickchart-complete:disabled,\n",
              "  .colab-df-quickchart-complete:disabled:hover {\n",
              "    background-color: var(--disabled-bg-color);\n",
              "    fill: var(--disabled-fill-color);\n",
              "    box-shadow: none;\n",
              "  }\n",
              "\n",
              "  .colab-df-spinner {\n",
              "    border: 2px solid var(--fill-color);\n",
              "    border-color: transparent;\n",
              "    border-bottom-color: var(--fill-color);\n",
              "    animation:\n",
              "      spin 1s steps(1) infinite;\n",
              "  }\n",
              "\n",
              "  @keyframes spin {\n",
              "    0% {\n",
              "      border-color: transparent;\n",
              "      border-bottom-color: var(--fill-color);\n",
              "      border-left-color: var(--fill-color);\n",
              "    }\n",
              "    20% {\n",
              "      border-color: transparent;\n",
              "      border-left-color: var(--fill-color);\n",
              "      border-top-color: var(--fill-color);\n",
              "    }\n",
              "    30% {\n",
              "      border-color: transparent;\n",
              "      border-left-color: var(--fill-color);\n",
              "      border-top-color: var(--fill-color);\n",
              "      border-right-color: var(--fill-color);\n",
              "    }\n",
              "    40% {\n",
              "      border-color: transparent;\n",
              "      border-right-color: var(--fill-color);\n",
              "      border-top-color: var(--fill-color);\n",
              "    }\n",
              "    60% {\n",
              "      border-color: transparent;\n",
              "      border-right-color: var(--fill-color);\n",
              "    }\n",
              "    80% {\n",
              "      border-color: transparent;\n",
              "      border-right-color: var(--fill-color);\n",
              "      border-bottom-color: var(--fill-color);\n",
              "    }\n",
              "    90% {\n",
              "      border-color: transparent;\n",
              "      border-bottom-color: var(--fill-color);\n",
              "    }\n",
              "  }\n",
              "</style>\n",
              "\n",
              "  <script>\n",
              "    async function quickchart(key) {\n",
              "      const quickchartButtonEl =\n",
              "        document.querySelector('#' + key + ' button');\n",
              "      quickchartButtonEl.disabled = true;  // To prevent multiple clicks.\n",
              "      quickchartButtonEl.classList.add('colab-df-spinner');\n",
              "      try {\n",
              "        const charts = await google.colab.kernel.invokeFunction(\n",
              "            'suggestCharts', [key], {});\n",
              "      } catch (error) {\n",
              "        console.error('Error during call to suggestCharts:', error);\n",
              "      }\n",
              "      quickchartButtonEl.classList.remove('colab-df-spinner');\n",
              "      quickchartButtonEl.classList.add('colab-df-quickchart-complete');\n",
              "    }\n",
              "    (() => {\n",
              "      let quickchartButtonEl =\n",
              "        document.querySelector('#df-cf15a3fe-ffb1-492a-9ba5-e56ee39534e9 button');\n",
              "      quickchartButtonEl.style.display =\n",
              "        google.colab.kernel.accessAllowed ? 'block' : 'none';\n",
              "    })();\n",
              "  </script>\n",
              "</div>\n",
              "\n",
              "    </div>\n",
              "  </div>\n"
            ],
            "application/vnd.google.colaboratory.intrinsic+json": {
              "type": "dataframe",
              "summary": "{\n  \"name\": \")\",\n  \"rows\": 6,\n  \"fields\": [\n    {\n      \"column\": [\n        \"cluster\",\n        \"\"\n      ],\n      \"properties\": {\n        \"dtype\": \"string\",\n        \"num_unique_values\": 6,\n        \"samples\": [\n          \"0\",\n          \"1\",\n          \"5\"\n        ],\n        \"semantic_type\": \"\",\n        \"description\": \"\"\n      }\n    },\n    {\n      \"column\": [\n        \"Pass Attempts\",\n        \"mean\"\n      ],\n      \"properties\": {\n        \"dtype\": \"float32\",\n        \"num_unique_values\": 6,\n        \"samples\": [\n          43.25,\n          39.99706268310547,\n          29.895610809326172\n        ],\n        \"semantic_type\": \"\",\n        \"description\": \"\"\n      }\n    },\n    {\n      \"column\": [\n        \"Rush Attempts\",\n        \"mean\"\n      ],\n      \"properties\": {\n        \"dtype\": \"float32\",\n        \"num_unique_values\": 6,\n        \"samples\": [\n          27.893678665161133,\n          23.776058197021484,\n          31.17548370361328\n        ],\n        \"semantic_type\": \"\",\n        \"description\": \"\"\n      }\n    }\n  ]\n}"
            }
          },
          "metadata": {},
          "execution_count": 227
        }
      ]
    },
    {
      "cell_type": "code",
      "source": [
        "# catplot\n",
        "sns.catplot(\n",
        "    gbg_knn_py_cluster,\n",
        "    x = 'n', # number of instances\n",
        "    y = 'posteam', # position played\n",
        "    col = 'cluster', # col by cluster\n",
        "    hue = 'cluster', # color by cluster\n",
        "    col_wrap = 3, # facet wrap - 3 cols\n",
        "    kind = 'bar' # horizontal chart\n",
        ")"
      ],
      "metadata": {
        "colab": {
          "base_uri": "https://localhost:8080/",
          "height": 873
        },
        "id": "ipOONc9crrMo",
        "outputId": "a3d55d73-4e8f-4bc9-d1c8-057c8aacbbed"
      },
      "execution_count": null,
      "outputs": [
        {
          "output_type": "execute_result",
          "data": {
            "text/plain": [
              "<seaborn.axisgrid.FacetGrid at 0x782a169c4880>"
            ]
          },
          "metadata": {},
          "execution_count": 228
        },
        {
          "output_type": "display_data",
          "data": {
            "text/plain": [
              "<Figure size 1558.88x1000 with 6 Axes>"
            ],
            "image/png": "[encoded data removed]"
          },
          "metadata": {}
        }
      ]
    },
    {
      "cell_type": "code",
      "source": [
        "# create a facetgrid\n",
        "g = sns.FacetGrid(filtered_teams_data, col='posteam', col_wrap=4)\n",
        "g.map(sns.scatterplot, 'total_pass_attempts', 'total_rush_attempts')"
      ],
      "metadata": {
        "colab": {
          "base_uri": "https://localhost:8080/",
          "height": 625
        },
        "id": "KcBgAuxa_BKL",
        "outputId": "fae91cfd-c962-4b33-aa0a-71a2187ab5c4"
      },
      "execution_count": null,
      "outputs": [
        {
          "output_type": "execute_result",
          "data": {
            "text/plain": [
              "<seaborn.axisgrid.FacetGrid at 0x782a44fca470>"
            ]
          },
          "metadata": {},
          "execution_count": 229
        },
        {
          "output_type": "display_data",
          "data": {
            "text/plain": [
              "<Figure size 1200x600 with 8 Axes>"
            ],
            "image/png": "[encoded data removed]"
          },
          "metadata": {}
        }
      ]
    },
    {
      "cell_type": "markdown",
      "source": [
        "##**Analysis**"
      ],
      "metadata": {
        "id": "GKsMPhAK_hq6"
      }
    },
    {
      "cell_type": "markdown",
      "source": [
        "**Cluster 0**: Pass-heavy offense, above-average total plays\n",
        "\n",
        "**Cluster 1**: Pass-heavy offense, average total plays\n",
        "\n",
        "**Cluster 2**: Balanced offense, above-average total plays\n",
        "\n",
        "**Cluster 3**: Pass-heavy offense, below-average total plays\n",
        "\n",
        "**Cluster 4**: Extremely pass-heavy offense, average total plays\n",
        "\n",
        "**Cluster 5**: Balanced offense, average total plays\n"
      ],
      "metadata": {
        "id": "eyp-5Lqg74xO"
      }
    },
    {
      "cell_type": "markdown",
      "source": [
        "- A true \"run-dominant\" offense no longer really exists in the modern NFL - even the most run-heavy teams still rely on a nearly balanced dose of passing\n",
        "\n",
        "- A high number of instances fall under cluster 5, which is a balanced offensive in pass attempts vs. rush attempts"
      ],
      "metadata": {
        "id": "xIAI4gue7XBU"
      }
    },
    {
      "cell_type": "markdown",
      "source": [
        "**My Teams in 2023**:\n",
        "- *Washington* was the most pass-heavy by a wide margin\n",
        "- *Houston* & *Tampa Bay* were slightly pass-heavy\n",
        "- *San Francisco*, *Miami*, *Pittsburgh*, & *Denver* were extremely balanced on a low # of total plays\n",
        "- *Chicago* was rush-heavy\n",
        "\n"
      ],
      "metadata": {
        "id": "MzFjXpqXA3zJ"
      }
    }
  ]
}