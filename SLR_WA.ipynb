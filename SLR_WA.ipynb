{
  "cells": [
    {
      "cell_type": "markdown",
      "metadata": {
        "id": "O61Kkcc9W4qw"
      },
      "source": [
        "# IS-4100: Simple Linear Regression (SLR) Assignment\n",
        "\n",
        "In this assignment, you will explore the relationship between two variables using simple linear regression. You'll work with each of your eight team's data over the last year or two. You can pick any two variables you are interested in comparing. By the end of this assignment, you'll be able to:\n",
        "\n",
        "1. Load and preprocess NFL data.\n",
        "2. Perform exploratory data analysis (EDA) to understand the dataset.\n",
        "3. Build and evaluate simple linear regression models.\n",
        "4. Interpret the results and draw conclusions.\n",
        "\n",
        "Be sure to submit notebook with all code cells executed or it'll be an automatic 0."
      ]
    },
    {
      "cell_type": "markdown",
      "metadata": {
        "id": "06PsYMABZimE"
      },
      "source": [
        "## Part 1: Environment Setup"
      ]
    },
    {
      "cell_type": "code",
      "execution_count": null,
      "metadata": {
        "colab": {
          "base_uri": "https://localhost:8080/"
        },
        "id": "EDcYtQYxZ8U4",
        "outputId": "f2180310-ac04-414c-b33e-6c37e1c35592"
      },
      "outputs": [
        {
          "output_type": "stream",
          "name": "stdout",
          "text": [
            "Collecting nfl_data_py\n",
            "  Downloading nfl_data_py-0.3.3-py3-none-any.whl.metadata (12 kB)\n",
            "Requirement already satisfied: numpy<2.0,>=1.0 in /usr/local/lib/python3.10/dist-packages (from nfl_data_py) (1.26.4)\n",
            "Collecting pandas<2.0,>=1.0 (from nfl_data_py)\n",
            "  Downloading pandas-1.5.3-cp310-cp310-manylinux_2_17_x86_64.manylinux2014_x86_64.whl.metadata (11 kB)\n",
            "Collecting appdirs>1 (from nfl_data_py)\n",
            "  Downloading appdirs-1.4.4-py2.py3-none-any.whl.metadata (9.0 kB)\n",
            "Collecting fastparquet>0.5 (from nfl_data_py)\n",
            "  Downloading fastparquet-2024.5.0-cp310-cp310-manylinux_2_17_x86_64.manylinux2014_x86_64.whl.metadata (4.1 kB)\n",
            "Collecting cramjam>=2.3 (from fastparquet>0.5->nfl_data_py)\n",
            "  Downloading cramjam-2.8.3-cp310-cp310-manylinux_2_17_x86_64.manylinux2014_x86_64.whl.metadata (4.2 kB)\n",
            "Requirement already satisfied: fsspec in /usr/local/lib/python3.10/dist-packages (from fastparquet>0.5->nfl_data_py) (2024.6.1)\n",
            "Requirement already satisfied: packaging in /usr/local/lib/python3.10/dist-packages (from fastparquet>0.5->nfl_data_py) (24.1)\n",
            "Requirement already satisfied: python-dateutil>=2.8.1 in /usr/local/lib/python3.10/dist-packages (from pandas<2.0,>=1.0->nfl_data_py) (2.8.2)\n",
            "Requirement already satisfied: pytz>=2020.1 in /usr/local/lib/python3.10/dist-packages (from pandas<2.0,>=1.0->nfl_data_py) (2024.2)\n",
            "Requirement already satisfied: six>=1.5 in /usr/local/lib/python3.10/dist-packages (from python-dateutil>=2.8.1->pandas<2.0,>=1.0->nfl_data_py) (1.16.0)\n",
            "Downloading nfl_data_py-0.3.3-py3-none-any.whl (13 kB)\n",
            "Downloading appdirs-1.4.4-py2.py3-none-any.whl (9.6 kB)\n",
            "Downloading fastparquet-2024.5.0-cp310-cp310-manylinux_2_17_x86_64.manylinux2014_x86_64.whl (1.7 MB)\n",
            "\u001b[2K   \u001b[90m━━━━━━━━━━━━━━━━━━━━━━━━━━━━━━━━━━━━━━━━\u001b[0m \u001b[32m1.7/1.7 MB\u001b[0m \u001b[31m15.6 MB/s\u001b[0m eta \u001b[36m0:00:00\u001b[0m\n",
            "\u001b[?25hDownloading pandas-1.5.3-cp310-cp310-manylinux_2_17_x86_64.manylinux2014_x86_64.whl (12.1 MB)\n",
            "\u001b[2K   \u001b[90m━━━━━━━━━━━━━━━━━━━━━━━━━━━━━━━━━━━━━━━━\u001b[0m \u001b[32m12.1/12.1 MB\u001b[0m \u001b[31m26.2 MB/s\u001b[0m eta \u001b[36m0:00:00\u001b[0m\n",
            "\u001b[?25hDownloading cramjam-2.8.3-cp310-cp310-manylinux_2_17_x86_64.manylinux2014_x86_64.whl (2.0 MB)\n",
            "\u001b[2K   \u001b[90m━━━━━━━━━━━━━━━━━━━━━━━━━━━━━━━━━━━━━━━━\u001b[0m \u001b[32m2.0/2.0 MB\u001b[0m \u001b[31m18.8 MB/s\u001b[0m eta \u001b[36m0:00:00\u001b[0m\n",
            "\u001b[?25hInstalling collected packages: appdirs, cramjam, pandas, fastparquet, nfl_data_py\n",
            "  Attempting uninstall: pandas\n",
            "    Found existing installation: pandas 2.1.4\n",
            "    Uninstalling pandas-2.1.4:\n",
            "      Successfully uninstalled pandas-2.1.4\n",
            "\u001b[31mERROR: pip's dependency resolver does not currently take into account all the packages that are installed. This behaviour is the source of the following dependency conflicts.\n",
            "cudf-cu12 24.4.1 requires pandas<2.2.2dev0,>=2.0, but you have pandas 1.5.3 which is incompatible.\n",
            "google-colab 1.0.0 requires pandas==2.1.4, but you have pandas 1.5.3 which is incompatible.\n",
            "mizani 0.11.4 requires pandas>=2.1.0, but you have pandas 1.5.3 which is incompatible.\n",
            "plotnine 0.13.6 requires pandas<3.0.0,>=2.1.0, but you have pandas 1.5.3 which is incompatible.\n",
            "xarray 2024.9.0 requires pandas>=2.1, but you have pandas 1.5.3 which is incompatible.\u001b[0m\u001b[31m\n",
            "\u001b[0mSuccessfully installed appdirs-1.4.4 cramjam-2.8.3 fastparquet-2024.5.0 nfl_data_py-0.3.3 pandas-1.5.3\n"
          ]
        }
      ],
      "source": [
        "!pip install nfl_data_py\n",
        "import numpy as np\n",
        "import pandas as pd\n",
        "import nfl_data_py as nfl\n",
        "import statsmodels.formula.api as smf\n",
        "import matplotlib.pyplot as plt\n",
        "import seaborn as sns\n",
        "import os\n",
        "from sklearn.model_selection import train_test_split\n",
        "from sklearn.linear_model import LogisticRegression\n",
        "from sklearn.metrics import accuracy_score, confusion_matrix, classification_report, roc_auc_score, roc_curve"
      ]
    },
    {
      "cell_type": "markdown",
      "metadata": {
        "id": "4Ks--WHaHqVW"
      },
      "source": [
        "## Part 2: EDA"
      ]
    },
    {
      "cell_type": "markdown",
      "metadata": {
        "id": "PWuCl6EULAuo"
      },
      "source": [
        "**My Teams' 2023 Passer Rating Performance**"
      ]
    },
    {
      "cell_type": "code",
      "execution_count": null,
      "metadata": {
        "colab": {
          "base_uri": "https://localhost:8080/"
        },
        "id": "cK8KnyshH1qT",
        "outputId": "a86774b3-6c55-4328-b03f-e2b7ef1db723"
      },
      "outputs": [
        {
          "output_type": "stream",
          "name": "stdout",
          "text": [
            "2023 done.\n",
            "Downcasting floats.\n",
            "posteam  completions  attempts  passing_yards  touchdowns  interceptions  team_passer_rating\n",
            "     SF        403.0       638         5372.0        37.0           13.0          100.646552\n",
            "    MIA        413.0       640         4897.0        31.0           16.0           93.470052\n",
            "    HOU        408.0       699         5033.0        30.0            8.0           90.262876\n",
            "     TB        412.0       698         4730.0        34.0           12.0           88.580468\n",
            "    DEN        337.0       568         3566.0        28.0            9.0           87.514671\n",
            "    PIT        345.0       584         3650.0        15.0           10.0           78.781393\n",
            "    CHI        321.0       566         3421.0        19.0           15.0           74.676090\n",
            "    WAS        407.0       703         4174.0        24.0           21.0           74.001304\n"
          ]
        }
      ],
      "source": [
        "teams = ['MIA', 'PIT', 'HOU', 'DEN', 'WAS', 'CHI', 'TB', 'SF']\n",
        "\n",
        "pbp_2023 = nfl.import_pbp_data([2023])\n",
        "\n",
        "team_passing_data = pbp_2023[(pbp_2023['posteam'].isin(teams)) & (pbp_2023['pass_attempt'] == 1)].copy()\n",
        "\n",
        "team_passing_stats = team_passing_data.groupby('posteam').agg(\n",
        "    completions=('complete_pass', 'sum'),\n",
        "    attempts=('pass_attempt', 'count'),\n",
        "    passing_yards=('passing_yards', 'sum'),\n",
        "    touchdowns=('pass_touchdown', 'sum'),\n",
        "    interceptions=('interception', 'sum')\n",
        ").reset_index()\n",
        "\n",
        "# passer_rating_function\n",
        "def passer_rating_function(row):\n",
        "    a = ((row['completions'] / row['attempts']) - 0.3) * 5\n",
        "    b = ((row['passing_yards'] / row['attempts']) - 3) * 0.25\n",
        "    c = (row['touchdowns'] / row['attempts']) * 20\n",
        "    d = 2.375 - (row['interceptions'] / row['attempts']) * 25\n",
        "\n",
        "    a = max(0, min(a, 2.375))\n",
        "    b = max(0, min(b, 2.375))\n",
        "    c = max(0, min(c, 2.375))\n",
        "    d = max(0, min(d, 2.375))\n",
        "\n",
        "    passer_rating = ((a + b + c + d) / 6) * 100\n",
        "    return passer_rating\n",
        "\n",
        "team_passing_stats['team_passer_rating'] = team_passing_stats.apply(passer_rating_function, axis=1)\n",
        "\n",
        "team_passing_stats = team_passing_stats.sort_values(by='team_passer_rating', ascending=False)\n",
        "\n",
        "print(team_passing_stats[['posteam', 'completions', 'attempts', 'passing_yards', 'touchdowns', 'interceptions', 'team_passer_rating']].to_string(index=False))\n"
      ]
    },
    {
      "cell_type": "code",
      "execution_count": null,
      "metadata": {
        "colab": {
          "base_uri": "https://localhost:8080/",
          "height": 449
        },
        "id": "yti0Vo2yJ0u3",
        "outputId": "94df9c72-02a0-4ae6-873f-07e0b9e33d7e"
      },
      "outputs": [
        {
          "output_type": "display_data",
          "data": {
            "text/plain": [
              "<Figure size 640x480 with 1 Axes>"
            ],
            "image/png": "[encoded data removed]"
          },
          "metadata": {}
        }
      ],
      "source": [
        "sns.barplot(data = team_passing_stats,\n",
        "                x = 'posteam',\n",
        "                y = 'team_passer_rating')\n",
        "\n",
        "plt.show()"
      ]
    },
    {
      "cell_type": "markdown",
      "metadata": {
        "id": "bGkRBznDLGXi"
      },
      "source": [
        "**My Teams' Early 2024 Passer Rating Performance**"
      ]
    },
    {
      "cell_type": "code",
      "execution_count": null,
      "metadata": {
        "colab": {
          "base_uri": "https://localhost:8080/"
        },
        "id": "AZk6V3avK27z",
        "outputId": "1200610e-337f-4dd1-e392-0c84d677a90b"
      },
      "outputs": [
        {
          "output_type": "stream",
          "name": "stdout",
          "text": [
            "2024 done.\n",
            "Downcasting floats.\n",
            "posteam  completions  attempts  passing_yards  touchdowns  interceptions  team_passer_rating\n",
            "     SF         69.0       105          842.0         4.0            1.0           98.988095\n",
            "     TB         61.0        95          637.0         6.0            2.0           95.811404\n",
            "    PIT         55.0        81          518.0         2.0            1.0           88.400206\n",
            "    WAS         40.0        61          410.0         0.0            0.0           84.733607\n",
            "    HOU         75.0       124          801.0         4.0            2.0           83.434140\n",
            "    MIA         68.0       119          749.0         2.0            3.0           71.025910\n",
            "    DEN         71.0       117          600.0         0.0            4.0           59.775641\n",
            "    CHI         70.0       133          630.0         2.0            4.0           58.161028\n"
          ]
        }
      ],
      "source": [
        "pbp_2024 = nfl.import_pbp_data([2024])\n",
        "\n",
        "team_passing_data24 = pbp_2024[(pbp_2024['posteam'].isin(teams)) & (pbp_2024['pass_attempt'] == 1)].copy()\n",
        "\n",
        "team_passing_stats24 = team_passing_data24.groupby('posteam').agg(\n",
        "    completions=('complete_pass', 'sum'),\n",
        "    attempts=('pass_attempt', 'count'),\n",
        "    passing_yards=('passing_yards', 'sum'),\n",
        "    touchdowns=('pass_touchdown', 'sum'),\n",
        "    interceptions=('interception', 'sum')\n",
        ").reset_index()\n",
        "\n",
        "team_passing_stats24['team_passer_rating'] = team_passing_stats24.apply(passer_rating_function, axis=1)\n",
        "\n",
        "team_passing_stats24 = team_passing_stats24.sort_values(by='team_passer_rating', ascending=False)\n",
        "\n",
        "print(team_passing_stats24[['posteam', 'completions', 'attempts', 'passing_yards', 'touchdowns', 'interceptions', 'team_passer_rating']].to_string(index=False))"
      ]
    },
    {
      "cell_type": "code",
      "source": [
        "sns.barplot(data = team_passing_stats24,\n",
        "                x = 'posteam',\n",
        "                y = 'team_passer_rating')\n",
        "\n",
        "plt.show()"
      ],
      "metadata": {
        "colab": {
          "base_uri": "https://localhost:8080/",
          "height": 449
        },
        "id": "Hydzn_e3565p",
        "outputId": "22d2a495-d2d5-43b5-c008-543a1a0e2f02"
      },
      "execution_count": null,
      "outputs": [
        {
          "output_type": "display_data",
          "data": {
            "text/plain": [
              "<Figure size 640x480 with 1 Axes>"
            ],
            "image/png": "[encoded data removed]"
          },
          "metadata": {}
        }
      ]
    },
    {
      "cell_type": "markdown",
      "metadata": {
        "id": "_vLQga97Zl24"
      },
      "source": [
        "## Part 3: Build SLR Models"
      ]
    },
    {
      "cell_type": "markdown",
      "metadata": {
        "id": "yap12Ei7wFKx"
      },
      "source": [
        "**Is there correlation between Passer Rating and Winning? (2016-2024)**\n",
        "\n",
        "Simple Linear Regression Model"
      ]
    },
    {
      "cell_type": "code",
      "execution_count": null,
      "metadata": {
        "colab": {
          "base_uri": "https://localhost:8080/"
        },
        "id": "SH0oCFUJv9u4",
        "outputId": "1b9a0986-96a0-4d57-8384-de4589923a32"
      },
      "outputs": [
        {
          "output_type": "stream",
          "name": "stdout",
          "text": [
            "2016 done.\n",
            "2017 done.\n",
            "2018 done.\n",
            "2019 done.\n",
            "2020 done.\n",
            "2021 done.\n",
            "2022 done.\n",
            "2023 done.\n",
            "2024 done.\n",
            "Downcasting floats.\n"
          ]
        }
      ],
      "source": [
        "seasons = seasons = range(2016,2024 +1)\n",
        "data = nfl.import_pbp_data(seasons)\n",
        "\n",
        "qb_data = data[data['pass_attempt'] == 1].copy()\n",
        "\n",
        "qb_pass_attempts = qb_data.groupby(['passer_player_name', 'game_id']).agg(\n",
        "    pass_attempts=('pass_attempt', 'count')\n",
        ").reset_index()\n",
        "\n",
        "games = qb_pass_attempts[qb_pass_attempts['pass_attempts'] > 12]\n",
        "\n",
        "qb_data = qb_data.merge(games[['passer_player_name', 'game_id']],\n",
        "                          on=['passer_player_name', 'game_id'],\n",
        "                          how='inner')"
      ]
    },
    {
      "cell_type": "code",
      "execution_count": null,
      "metadata": {
        "id": "K-o284v6x9Hu"
      },
      "outputs": [],
      "source": [
        "# Win or Lose Function\n",
        "def game_result(row):\n",
        "    if row['posteam'] == row['home_team']:\n",
        "        return 1 if row['home_score'] > row['away_score'] else 0\n",
        "    else:\n",
        "        return 1 if row['away_score'] > row['home_score'] else 0\n",
        "\n",
        "qb_data['team_won'] = qb_data.apply(game_result, axis=1)"
      ]
    },
    {
      "cell_type": "code",
      "execution_count": null,
      "metadata": {
        "id": "s5sGHpzByIfl"
      },
      "outputs": [],
      "source": [
        "qb_stats = qb_data.groupby(['passer_player_name', 'game_id', 'team_won']).agg(\n",
        "    completions=('complete_pass', 'sum'),\n",
        "    attempts=('pass_attempt', 'count'),\n",
        "    passing_yards=('passing_yards', 'sum'),\n",
        "    touchdowns=('pass_touchdown', 'sum'),\n",
        "    interceptions=('interception', 'sum')\n",
        ").reset_index()"
      ]
    },
    {
      "cell_type": "code",
      "execution_count": null,
      "metadata": {
        "id": "4vaDicbqxzru"
      },
      "outputs": [],
      "source": [
        "qb_stats['passer_rating'] = qb_stats.apply(passer_rating_function, axis=1)\n",
        "\n",
        "qb_stats = qb_stats.sort_values(by=['passer_player_name', 'game_id'])"
      ]
    },
    {
      "cell_type": "code",
      "execution_count": null,
      "metadata": {
        "colab": {
          "base_uri": "https://localhost:8080/"
        },
        "id": "HlTxZu9XXwPL",
        "outputId": "8366729b-c410-407c-b23b-95f9e8301999"
      },
      "outputs": [
        {
          "output_type": "stream",
          "name": "stdout",
          "text": [
            "   team_won  passer_rating_mean\n",
            "0         0           72.624640\n",
            "1         1           97.611594\n"
          ]
        }
      ],
      "source": [
        "qb_pr_avg = qb_stats.groupby(\n",
        "    ['team_won']\n",
        ").agg(\n",
        "    {\n",
        "        'passer_rating': ['mean']\n",
        "    }\n",
        ")\n",
        "\n",
        "qb_pr_avg.columns = list(\n",
        "    map(\n",
        "        \"_\".join, qb_pr_avg.columns\n",
        "    )\n",
        ")\n",
        "\n",
        "qb_pr_avg.reset_index(inplace=True)\n",
        "\n",
        "print(qb_pr_avg)"
      ]
    },
    {
      "cell_type": "code",
      "execution_count": null,
      "metadata": {
        "colab": {
          "base_uri": "https://localhost:8080/",
          "height": 449
        },
        "id": "-vCEAfDqxuBS",
        "outputId": "2f27f04c-fc7c-4226-9dde-819726a4c6e6"
      },
      "outputs": [
        {
          "output_type": "display_data",
          "data": {
            "text/plain": [
              "<Figure size 640x480 with 1 Axes>"
            ],
            "image/png": "[encoded data removed]"
          },
          "metadata": {}
        }
      ],
      "source": [
        "sns.boxplot(data = qb_stats,\n",
        "                x = 'team_won',\n",
        "                y = 'passer_rating')\n",
        "\n",
        "plt.show()"
      ]
    },
    {
      "cell_type": "markdown",
      "metadata": {
        "id": "mFdhd0As_HAa"
      },
      "source": [
        "- Biggest outlier: **CAR** vs. **NO** - 01/08/23\n",
        "  - QB - Sam Darnold: 5/15, 43 yards, 0 TD, 2 INT, *2.8 Passer Rating*\n",
        "  - **Carolina** 10 - **New Orleans** 7"
      ]
    },
    {
      "cell_type": "code",
      "execution_count": null,
      "metadata": {
        "colab": {
          "base_uri": "https://localhost:8080/"
        },
        "id": "AQ2bRPHSyTId",
        "outputId": "7d9035b2-8f21-4f99-92ff-e1a4c5faf292"
      },
      "outputs": [
        {
          "output_type": "stream",
          "name": "stdout",
          "text": [
            "                            OLS Regression Results                            \n",
            "==============================================================================\n",
            "Dep. Variable:          passer_rating   R-squared:                       0.229\n",
            "Model:                            OLS   Adj. R-squared:                  0.229\n",
            "Method:                 Least Squares   F-statistic:                     1361.\n",
            "Date:                Mon, 23 Sep 2024   Prob (F-statistic):          4.55e-261\n",
            "Time:                        14:57:27   Log-Likelihood:                -20831.\n",
            "No. Observations:                4578   AIC:                         4.167e+04\n",
            "Df Residuals:                    4576   BIC:                         4.168e+04\n",
            "Df Model:                           1                                         \n",
            "Covariance Type:            nonrobust                                         \n",
            "==============================================================================\n",
            "                 coef    std err          t      P>|t|      [0.025      0.975]\n",
            "------------------------------------------------------------------------------\n",
            "Intercept     72.6246      0.474    153.325      0.000      71.696      73.553\n",
            "team_won      24.9870      0.677     36.892      0.000      23.659      26.315\n",
            "==============================================================================\n",
            "Omnibus:                        5.788   Durbin-Watson:                   1.821\n",
            "Prob(Omnibus):                  0.055   Jarque-Bera (JB):                6.182\n",
            "Skew:                          -0.045   Prob(JB):                       0.0455\n",
            "Kurtosis:                       3.156   Cond. No.                         2.59\n",
            "==============================================================================\n",
            "\n",
            "Notes:\n",
            "[1] Standard Errors assume that the covariance matrix of the errors is correctly specified.\n"
          ]
        }
      ],
      "source": [
        "# Linear Regression Results\n",
        "pr_winning = smf.ols(\n",
        "    formula = 'passer_rating ~ team_won',\n",
        "    data = qb_stats\n",
        ")\n",
        "\n",
        "print(pr_winning.fit().summary())"
      ]
    },
    {
      "cell_type": "markdown",
      "metadata": {
        "id": "86qg_Bo9Gomr"
      },
      "source": [
        "**Is there correlation between Passer Rating and Winning? (2016-2024)**\n",
        "\n",
        "Logistic Regression Model"
      ]
    },
    {
      "cell_type": "code",
      "execution_count": null,
      "metadata": {
        "colab": {
          "base_uri": "https://localhost:8080/",
          "height": 807
        },
        "id": "fXzthmTp75gd",
        "outputId": "677ca899-7c0b-4663-f13c-7bbc74a2a7c9"
      },
      "outputs": [
        {
          "output_type": "stream",
          "name": "stdout",
          "text": [
            "Accuracy: 0.71\n",
            "Confusion Matrix:\n",
            "[[337 124]\n",
            " [144 311]]\n",
            "Classification Report:\n",
            "              precision    recall  f1-score   support\n",
            "\n",
            "           0       0.70      0.73      0.72       461\n",
            "           1       0.71      0.68      0.70       455\n",
            "\n",
            "    accuracy                           0.71       916\n",
            "   macro avg       0.71      0.71      0.71       916\n",
            "weighted avg       0.71      0.71      0.71       916\n",
            "\n"
          ]
        },
        {
          "output_type": "display_data",
          "data": {
            "text/plain": [
              "<Figure size 1000x600 with 1 Axes>"
            ],
            "image/png": "[encoded data removed]"
          },
          "metadata": {}
        }
      ],
      "source": [
        "qb_stats.dropna(inplace=True)\n",
        "\n",
        "X = qb_stats[['passer_rating']]\n",
        "y = qb_stats['team_won']\n",
        "\n",
        "X_train, X_test, y_train, y_test = train_test_split(X, y, test_size=0.2, random_state=42)\n",
        "\n",
        "logreg = LogisticRegression(max_iter=1000)\n",
        "\n",
        "logreg.fit(X_train, y_train)\n",
        "\n",
        "y_pred = logreg.predict(X_test)\n",
        "\n",
        "accuracy = accuracy_score(y_test, y_pred)\n",
        "conf_matrix = confusion_matrix(y_test, y_pred)\n",
        "class_report = classification_report(y_test, y_pred)\n",
        "\n",
        "print(f'Accuracy: {accuracy:.2f}')\n",
        "print('Confusion Matrix:')\n",
        "print(conf_matrix)\n",
        "print('Classification Report:')\n",
        "print(class_report)\n",
        "\n",
        "y_pred_proba = logreg.predict_proba(X_test)[:, 1]\n",
        "roc_auc = roc_auc_score(y_test, y_pred_proba)\n",
        "fpr, tpr, thresholds = roc_curve(y_test, y_pred_proba)\n",
        "\n",
        "plt.figure(figsize=(10, 6))\n",
        "plt.plot(fpr, tpr, label=f'ROC Curve (area = {roc_auc:.2f})')\n",
        "plt.plot([0, 1], [0, 1], linestyle='--')\n",
        "plt.xlabel('False Positive Rate')\n",
        "plt.ylabel('True Positive Rate')\n",
        "plt.title('ROC Curve')\n",
        "plt.legend()\n",
        "plt.show()"
      ]
    },
    {
      "cell_type": "markdown",
      "metadata": {
        "id": "IWUieBVM7PI7"
      },
      "source": [
        "##**NFL Week 3 Predictions**"
      ]
    },
    {
      "cell_type": "markdown",
      "source": [
        "**Model's predictions given matchup results from 2016-2023**"
      ],
      "metadata": {
        "id": "CIhK2-6QBQep"
      }
    },
    {
      "cell_type": "code",
      "execution_count": null,
      "metadata": {
        "colab": {
          "base_uri": "https://localhost:8080/"
        },
        "id": "DTH54NuK7qQt",
        "outputId": "68fb7f28-cfad-4f31-f8c9-3adedd29a7e9"
      },
      "outputs": [
        {
          "output_type": "stream",
          "name": "stdout",
          "text": [
            "2016 done.\n",
            "2017 done.\n",
            "2018 done.\n",
            "2019 done.\n",
            "2020 done.\n",
            "2021 done.\n",
            "2022 done.\n",
            "2023 done.\n",
            "2024 done.\n",
            "Downcasting floats.\n"
          ]
        }
      ],
      "source": [
        "seasons = seasons = range(2016,2024 +1)\n",
        "data = nfl.import_pbp_data(seasons)"
      ]
    },
    {
      "cell_type": "code",
      "execution_count": null,
      "metadata": {
        "colab": {
          "base_uri": "https://localhost:8080/"
        },
        "id": "1fCorF9vQJ1_",
        "outputId": "4332fbde-84d3-48fd-a69f-4aa063d717b0"
      },
      "outputs": [
        {
          "output_type": "stream",
          "name": "stdout",
          "text": [
            "  posteam defteam  passer_rating\n",
            "5      SF      LA      91.103219\n",
            "4     PIT     LAC      90.390683\n",
            "0     CHI     IND      89.536867\n",
            "7     WAS     CIN      86.293860\n",
            "1     DEN      TB      78.833774\n",
            "2     HOU     MIN      71.566653\n",
            "6      TB     DEN      71.493056\n",
            "3     MIA     SEA      65.212615\n"
          ]
        }
      ],
      "source": [
        "qb_data = data[data['pass_attempt'] == 1].copy()\n",
        "\n",
        "qb_pass_attempts = qb_data.groupby(['passer_player_name', 'game_id']).agg(\n",
        "    pass_attempts=('pass_attempt', 'count')\n",
        ").reset_index()\n",
        "\n",
        "filtered_games = qb_pass_attempts[qb_pass_attempts['pass_attempts'] > 3]\n",
        "\n",
        "qb_data = qb_data.merge(games[['passer_player_name', 'game_id']],\n",
        "                          on=['passer_player_name', 'game_id'],\n",
        "                          how='inner')\n",
        "\n",
        "qb_data['team_won'] = qb_data.apply(game_result, axis=1)\n",
        "\n",
        "qb_stats = qb_data.groupby(['passer_player_name', 'game_id', 'team_won', 'posteam', 'defteam']).agg(\n",
        "    completions=('complete_pass', 'sum'),\n",
        "    attempts=('pass_attempt', 'count'),\n",
        "    passing_yards=('passing_yards', 'sum'),\n",
        "    touchdowns=('pass_touchdown', 'sum'),\n",
        "    interceptions=('interception', 'sum')\n",
        ").reset_index()\n",
        "\n",
        "qb_stats['passer_rating'] = qb_stats.apply(passer_rating_function, axis=1)\n",
        "\n",
        "\n",
        "my_teams = ['MIA', 'PIT', 'HOU', 'DEN', 'WAS', 'CHI', 'TB', 'SF']\n",
        "opponent_teams = ['SEA', 'LAC', 'MIN', 'TB', 'CIN', 'IND', 'DEN', 'LA']\n",
        "\n",
        "team_matchups = dict(zip(my_teams, opponent_teams))\n",
        "\n",
        "filtered_data = qb_stats[(qb_stats['posteam'].isin(my_teams)) &\n",
        "                        (qb_stats['defteam'].isin(opponent_teams))]\n",
        "\n",
        "filtered_data = filtered_data[filtered_data.apply(\n",
        "    lambda row: team_matchups[row['posteam']] == row['defteam'], axis=1)]\n",
        "\n",
        "mean_passer_ratings = filtered_data.groupby(['posteam', 'defteam'])['passer_rating'].mean().reset_index()\n",
        "\n",
        "mean_passer_ratings = mean_passer_ratings.sort_values(by='passer_rating', ascending=False)\n",
        "\n",
        "print(mean_passer_ratings)"
      ]
    },
    {
      "cell_type": "code",
      "execution_count": null,
      "metadata": {
        "colab": {
          "base_uri": "https://localhost:8080/"
        },
        "id": "XX-ylduiePvE",
        "outputId": "475248e1-bfb9-4ff4-edfa-2aecfa704a0d"
      },
      "outputs": [
        {
          "output_type": "stream",
          "name": "stdout",
          "text": [
            "CHI vs IND: Prediction: Win  (Probability of Win: 0.63)\n",
            "PIT vs LAC: Prediction: Win  (Probability of Win: 0.55)\n",
            "SF  vs LA : Prediction: Win  (Probability of Win: 0.53)\n",
            "WAS vs CIN: Prediction: Win  (Probability of Win: 0.50)\n",
            "HOU vs MIN: Prediction: Lose (Probability of Win: 0.39)\n",
            "DEN vs TB : Prediction: Lose (Probability of Win: 0.38)\n",
            "TB  vs DEN: Prediction: Lose (Probability of Win: 0.34)\n",
            "MIA vs SEA: Prediction: Lose (Probability of Win: 0.26)\n"
          ]
        }
      ],
      "source": [
        "matchups = pd.DataFrame({\n",
        "    'passer_rating': [97.335271, 90.210453, 88.654673, 86.293860, 76.489533, 75.773810, 72.708333, 63.894973]\n",
        "})\n",
        "\n",
        "predictions = logreg.predict(matchups)\n",
        "predicted_probabilities = logreg.predict_proba(matchups)[:, 1]\n",
        "\n",
        "for i, (game, pred, prob) in enumerate(zip(['CHI vs IND', 'PIT vs LAC', 'SF  vs LA ', 'WAS vs CIN', 'HOU vs MIN', 'DEN vs TB ', 'TB  vs DEN', 'MIA vs SEA'], predictions, predicted_probabilities)):\n",
        "    result = 'Win ' if pred == 1 else 'Lose'\n",
        "    print(f'{game}: Prediction: {result} (Probability of Win: {prob:.2f})')"
      ]
    },
    {
      "cell_type": "markdown",
      "source": [
        "**Model's predictions given early 2024 Performance**"
      ],
      "metadata": {
        "id": "AwQMIeE15ApX"
      }
    },
    {
      "cell_type": "code",
      "source": [
        "print(team_passing_stats24[['posteam', 'completions', 'attempts', 'passing_yards', 'touchdowns', 'interceptions', 'team_passer_rating']].to_string(index=False))"
      ],
      "metadata": {
        "colab": {
          "base_uri": "https://localhost:8080/"
        },
        "id": "IPOo4AGD3dsf",
        "outputId": "df04dcd6-b262-400b-d454-a2b9c2c68a5f"
      },
      "execution_count": null,
      "outputs": [
        {
          "output_type": "stream",
          "name": "stdout",
          "text": [
            "posteam  completions  attempts  passing_yards  touchdowns  interceptions  team_passer_rating\n",
            "     SF         69.0       105          842.0         4.0            1.0           98.988095\n",
            "     TB         61.0        95          637.0         6.0            2.0           95.811404\n",
            "    PIT         55.0        81          518.0         2.0            1.0           88.400206\n",
            "    WAS         40.0        61          410.0         0.0            0.0           84.733607\n",
            "    HOU         75.0       124          801.0         4.0            2.0           83.434140\n",
            "    MIA         68.0       119          749.0         2.0            3.0           71.025910\n",
            "    DEN         71.0       117          600.0         0.0            4.0           59.775641\n",
            "    CHI         70.0       133          630.0         2.0            4.0           58.161028\n"
          ]
        }
      ]
    },
    {
      "cell_type": "code",
      "source": [
        "matchups = pd.DataFrame({\n",
        "    'passer_rating': [46.326754, 86.569149, 84.853604, 84.733607, 95.083333, 48.585391, 115.265152, 73.225309]\n",
        "})\n",
        "\n",
        "predictions = logreg.predict(matchups)\n",
        "predicted_probabilities = logreg.predict_proba(matchups)[:, 1]\n",
        "\n",
        "for i, (game, pred, prob) in enumerate(zip(['CHI vs IND', 'PIT vs LAC', 'SF  vs LA ', 'WAS vs CIN', 'HOU vs MIN', 'DEN vs TB ', 'TB  vs DEN', 'MIA vs SEA'], predictions, predicted_probabilities)):\n",
        "    result = 'Win ' if pred == 1 else 'Lose'\n",
        "    print(f'{game}: Prediction: {result} (Win Probability: {prob:.2f})')"
      ],
      "metadata": {
        "colab": {
          "base_uri": "https://localhost:8080/"
        },
        "id": "KHq1Jg8n3nnC",
        "outputId": "65889c1c-79a2-47ad-8226-0d6283c0ca6a"
      },
      "execution_count": null,
      "outputs": [
        {
          "output_type": "stream",
          "name": "stdout",
          "text": [
            "CHI vs IND: Prediction: Lose (Win Probability: 0.13)\n",
            "PIT vs LAC: Prediction: Win  (Win Probability: 0.51)\n",
            "SF  vs LA : Prediction: Lose (Win Probability: 0.49)\n",
            "WAS vs CIN: Prediction: Lose (Win Probability: 0.48)\n",
            "HOU vs MIN: Prediction: Win  (Win Probability: 0.61)\n",
            "DEN vs TB : Prediction: Lose (Win Probability: 0.14)\n",
            "TB  vs DEN: Prediction: Win  (Win Probability: 0.81)\n",
            "MIA vs SEA: Prediction: Lose (Win Probability: 0.35)\n"
          ]
        }
      ]
    },
    {
      "cell_type": "markdown",
      "source": [
        "**Model's predictions given the actual Passer Rating Input**"
      ],
      "metadata": {
        "id": "KLy-BmgpF7PD"
      }
    },
    {
      "cell_type": "code",
      "source": [
        "matchups = pd.DataFrame({\n",
        "    'passer_rating': [80.8, 96.0, 137.1, 68.6, 85.0, 83.3, 78.4]\n",
        "})\n",
        "\n",
        "predictions = logre.predict(matchups)\n",
        "predicted_probabilities = logreg.predict_proba(matchups)[:, 1]\n",
        "\n",
        "for i, (game, pred, prob) in enumerate(zip(['CHI vs IND', 'PIT vs LAC', 'SF  vs LA ', 'HOU vs MIN', 'DEN vs TB ', 'TB  vs DEN', 'MIA vs SEA'], predictions, predicted_probabilities)):\n",
        "    result = 'Win ' if pred == 1 else 'Lose'\n",
        "    print(f'{game}: Model would have predicted: {result} (Win Probability: {prob:.2f})')"
      ],
      "metadata": {
        "colab": {
          "base_uri": "https://localhost:8080/",
          "height": 216
        },
        "id": "WPylWRacF6Xn",
        "outputId": "71c79eec-fdd8-4063-cab9-4112ff267dcb"
      },
      "execution_count": null,
      "outputs": [
        {
          "output_type": "error",
          "ename": "NameError",
          "evalue": "name 'pd' is not defined",
          "traceback": [
            "\u001b[0;31m---------------------------------------------------------------------------\u001b[0m",
            "\u001b[0;31mNameError\u001b[0m                                 Traceback (most recent call last)",
            "\u001b[0;32m<ipython-input-1-edbbd205cea7>\u001b[0m in \u001b[0;36m<cell line: 1>\u001b[0;34m()\u001b[0m\n\u001b[0;32m----> 1\u001b[0;31m matchups = pd.DataFrame({\n\u001b[0m\u001b[1;32m      2\u001b[0m     \u001b[0;34m'passer_rating'\u001b[0m\u001b[0;34m:\u001b[0m \u001b[0;34m[\u001b[0m\u001b[0;36m80.8\u001b[0m\u001b[0;34m,\u001b[0m \u001b[0;36m96.0\u001b[0m\u001b[0;34m,\u001b[0m \u001b[0;36m137.1\u001b[0m\u001b[0;34m,\u001b[0m \u001b[0;36m68.6\u001b[0m\u001b[0;34m,\u001b[0m \u001b[0;36m85.0\u001b[0m\u001b[0;34m,\u001b[0m \u001b[0;36m83.3\u001b[0m\u001b[0;34m,\u001b[0m \u001b[0;36m78.4\u001b[0m\u001b[0;34m]\u001b[0m\u001b[0;34m\u001b[0m\u001b[0;34m\u001b[0m\u001b[0m\n\u001b[1;32m      3\u001b[0m })\n\u001b[1;32m      4\u001b[0m \u001b[0;34m\u001b[0m\u001b[0m\n\u001b[1;32m      5\u001b[0m \u001b[0mpredictions\u001b[0m \u001b[0;34m=\u001b[0m \u001b[0mlogre\u001b[0m\u001b[0;34m.\u001b[0m\u001b[0mpredict\u001b[0m\u001b[0;34m(\u001b[0m\u001b[0mmatchups\u001b[0m\u001b[0;34m)\u001b[0m\u001b[0;34m\u001b[0m\u001b[0;34m\u001b[0m\u001b[0m\n",
            "\u001b[0;31mNameError\u001b[0m: name 'pd' is not defined"
          ]
        }
      ]
    },
    {
      "cell_type": "markdown",
      "metadata": {
        "id": "ETkaAFRnZp5W"
      },
      "source": [
        "## Part 4: Interpretation and Discussion"
      ]
    },
    {
      "cell_type": "markdown",
      "source": [
        "*Model 1 Results (Recent Matchups): 4-3\n",
        "\n",
        "*Model 2 Results (2024 Stats): 4-3\n",
        "\n",
        "*Model 3 Results (Actual PR Input): 4-3\n",
        "\n",
        "\n",
        "\n",
        "\n",
        "**Takeaways**\n",
        "\n",
        "- The 49ers-Rams game is a major outlier in my model, as QB Brock Purdy recorded a 137.1 passer rating, yet SF still lost. That QB performance results in a win 92% of the time!\n",
        "- Passer Rating is a strong indicator of how a game will result, but is not an end-all-be-all.\n",
        "- While more difficult, it would be more valuable to project a player's passer rating output using factors that include the strength of the other team's defense.\n"
      ],
      "metadata": {
        "id": "GTcgj109RObL"
      }
    }
  ],
  "metadata": {
    "colab": {
      "collapsed_sections": [
        "06PsYMABZimE"
      ],
      "provenance": []
    },
    "kernelspec": {
      "display_name": "Python 3",
      "name": "python3"
    },
    "language_info": {
      "name": "python"
    }
  },
  "nbformat": 4,
  "nbformat_minor": 0
}