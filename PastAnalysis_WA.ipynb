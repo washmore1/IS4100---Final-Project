{
  "nbformat": 4,
  "nbformat_minor": 0,
  "metadata": {
    "colab": {
      "provenance": [],
      "collapsed_sections": [
        "KcuKPXW3KvAb",
        "p39J62QTKpBG",
        "YalsdfSjwKR1",
        "5QPwbcMrwSm7",
        "R6MRrCkkx5cJ",
        "4NQQtilS0ogL",
        "6IV8rsXOK7Is",
        "5yp75CuHLBRJ",
        "8l8wfzE3v1Wx",
        "3EofK4sexCIT",
        "jKSU4O8O0Ii1",
        "51Gz81ZN2orA"
      ]
    },
    "kernelspec": {
      "name": "python3",
      "display_name": "Python 3"
    },
    "language_info": {
      "name": "python"
    }
  },
  "cells": [
    {
      "cell_type": "code",
      "source": [
        "!pip install nfl_data_py"
      ],
      "metadata": {
        "colab": {
          "base_uri": "https://localhost:8080/"
        },
        "id": "x8zE8WA-xV04",
        "outputId": "a8ae1ba5-d61a-4fc8-f228-7abcac004e6e"
      },
      "execution_count": null,
      "outputs": [
        {
          "output_type": "stream",
          "name": "stdout",
          "text": [
            "Collecting nfl_data_py\n",
            "  Downloading nfl_data_py-0.3.2-py3-none-any.whl.metadata (11 kB)\n",
            "Requirement already satisfied: pandas>1 in /usr/local/lib/python3.10/dist-packages (from nfl_data_py) (2.1.4)\n",
            "Collecting appdirs>1 (from nfl_data_py)\n",
            "  Downloading appdirs-1.4.4-py2.py3-none-any.whl.metadata (9.0 kB)\n",
            "Collecting fastparquet>0.5 (from nfl_data_py)\n",
            "  Downloading fastparquet-2024.5.0-cp310-cp310-manylinux_2_17_x86_64.manylinux2014_x86_64.whl.metadata (4.1 kB)\n",
            "Requirement already satisfied: numpy in /usr/local/lib/python3.10/dist-packages (from fastparquet>0.5->nfl_data_py) (1.26.4)\n",
            "Collecting cramjam>=2.3 (from fastparquet>0.5->nfl_data_py)\n",
            "  Downloading cramjam-2.8.3-cp310-cp310-manylinux_2_17_x86_64.manylinux2014_x86_64.whl.metadata (4.2 kB)\n",
            "Requirement already satisfied: fsspec in /usr/local/lib/python3.10/dist-packages (from fastparquet>0.5->nfl_data_py) (2024.6.1)\n",
            "Requirement already satisfied: packaging in /usr/local/lib/python3.10/dist-packages (from fastparquet>0.5->nfl_data_py) (24.1)\n",
            "Requirement already satisfied: python-dateutil>=2.8.2 in /usr/local/lib/python3.10/dist-packages (from pandas>1->nfl_data_py) (2.8.2)\n",
            "Requirement already satisfied: pytz>=2020.1 in /usr/local/lib/python3.10/dist-packages (from pandas>1->nfl_data_py) (2024.1)\n",
            "Requirement already satisfied: tzdata>=2022.1 in /usr/local/lib/python3.10/dist-packages (from pandas>1->nfl_data_py) (2024.1)\n",
            "Requirement already satisfied: six>=1.5 in /usr/local/lib/python3.10/dist-packages (from python-dateutil>=2.8.2->pandas>1->nfl_data_py) (1.16.0)\n",
            "Downloading nfl_data_py-0.3.2-py3-none-any.whl (13 kB)\n",
            "Downloading appdirs-1.4.4-py2.py3-none-any.whl (9.6 kB)\n",
            "Downloading fastparquet-2024.5.0-cp310-cp310-manylinux_2_17_x86_64.manylinux2014_x86_64.whl (1.7 MB)\n",
            "\u001b[2K   \u001b[90m━━━━━━━━━━━━━━━━━━━━━━━━━━━━━━━━━━━━━━━━\u001b[0m \u001b[32m1.7/1.7 MB\u001b[0m \u001b[31m14.4 MB/s\u001b[0m eta \u001b[36m0:00:00\u001b[0m\n",
            "\u001b[?25hDownloading cramjam-2.8.3-cp310-cp310-manylinux_2_17_x86_64.manylinux2014_x86_64.whl (2.0 MB)\n",
            "\u001b[2K   \u001b[90m━━━━━━━━━━━━━━━━━━━━━━━━━━━━━━━━━━━━━━━━\u001b[0m \u001b[32m2.0/2.0 MB\u001b[0m \u001b[31m17.4 MB/s\u001b[0m eta \u001b[36m0:00:00\u001b[0m\n",
            "\u001b[?25hInstalling collected packages: appdirs, cramjam, fastparquet, nfl_data_py\n",
            "Successfully installed appdirs-1.4.4 cramjam-2.8.3 fastparquet-2024.5.0 nfl_data_py-0.3.2\n"
          ]
        }
      ]
    },
    {
      "cell_type": "code",
      "source": [
        "import pandas as pd\n",
        "import numpy as np\n",
        "import nfl_data_py as nfl\n",
        "import seaborn as sns\n",
        "import matplotlib.pyplot as plt"
      ],
      "metadata": {
        "id": "50x-oVDIxd6G"
      },
      "execution_count": null,
      "outputs": []
    },
    {
      "cell_type": "markdown",
      "source": [
        "##**INTRO** - Will Ashmore\n",
        "The goal of my NFL analysis with this project is to better familiarize myself with these 8 teams, gaining a wide-ranging scope of each franchise's place in their respective division, their conference, and in the league as a whole. These teams that I have selected have had and will have varying levels of success on the football field, and I hope to get a deeper look into some of the underlying statistics that can be part of the explanation as to why one franchise tends to be more successful than another.\n",
        "\n",
        "Extending off of this, I am interested in looking at trends of some basic statistics, like passing yardage vs. rushing yardage, and defensive passing yards allowed vs. rushing yards allowed. This allows me to get my feet wet with some easier, more straightforward stats, while getting a better look at what a team is good at and what they struggle at. In addition, this will give a glimpse at the varying styles of play that each team in my selections deploy. Teams like the San Francisco 49ers and the Miami Dolphins have built strong reputations for running creative offenses, with unique formations and play concepts that are different from the traditional, pro-style offenses that the New Orleans Saints and Tampa Bay Buccaneers have utilized in recent memory."
      ],
      "metadata": {
        "id": "SEVXG2uYwcJX"
      }
    },
    {
      "cell_type": "markdown",
      "source": [
        "##**Team Analysis (2022)**"
      ],
      "metadata": {
        "id": "U2OC-MMmwbH2"
      }
    },
    {
      "cell_type": "markdown",
      "source": [
        "## 2022 Season Results"
      ],
      "metadata": {
        "id": "KcuKPXW3KvAb"
      }
    },
    {
      "cell_type": "code",
      "source": [
        "df = nfl.import_schedules([2022])\n",
        "depth_charts_2022 = nfl.import_depth_charts([2022])\n",
        "## Dolphins\n",
        "dolphins_df = df[(df['home_team'] == 'MIA') | (df['away_team'] == 'MIA')]\n",
        "\n",
        "dolphins22_wins = 0\n",
        "dolphins22_losses = 0\n",
        "\n",
        "for index, row in dolphins_df.iterrows():\n",
        "\n",
        "  if row['home_team'] == 'MIA':\n",
        "\n",
        "    if row['home_score'] > row['away_score']:\n",
        "\n",
        "      dolphins22_wins +=1\n",
        "\n",
        "    else:\n",
        "\n",
        "      dolphins22_losses +=1\n",
        "\n",
        "  else:\n",
        "\n",
        "    if row['away_score'] > row['home_score']:\n",
        "      dolphins22_wins +=1\n",
        "\n",
        "    else:\n",
        "\n",
        "      dolphins22_losses +=1\n",
        "\n",
        "print(\"\\nDolphins 2022 Win-Loss Record: {} Wins, {} Losses\".\\\n",
        "      format(dolphins22_wins, dolphins22_losses))\n",
        "\n",
        "## Steelers\n",
        "steelers_df = df[(df['home_team'] == 'PIT') | (df['away_team'] == 'PIT')]\n",
        "\n",
        "steelers22_wins = 0\n",
        "steelers22_losses = 0\n",
        "\n",
        "for index, row in steelers_df.iterrows():\n",
        "\n",
        "  if row['home_team'] == 'PIT':\n",
        "\n",
        "    if row['home_score'] > row['away_score']:\n",
        "\n",
        "      steelers22_wins +=1\n",
        "\n",
        "    else:\n",
        "\n",
        "      steelers22_losses +=1\n",
        "\n",
        "  else:\n",
        "\n",
        "    if row['away_score'] > row['home_score']:\n",
        "      steelers22_wins +=1\n",
        "\n",
        "    else:\n",
        "\n",
        "      steelers22_losses +=1\n",
        "\n",
        "print(\"\\nSteelers 2022 Win-Loss Record: {} Wins, {} Losses\".\\\n",
        "      format(steelers22_wins, steelers22_losses))\n",
        "\n",
        "## Texans\n",
        "texans_df = df[(df['home_team'] == 'HOU') | (df['away_team'] == 'HOU')]\n",
        "\n",
        "texans22_wins = 0\n",
        "texans22_losses = 0\n",
        "\n",
        "for index, row in texans_df.iterrows():\n",
        "\n",
        "  if row['home_team'] == 'HOU':\n",
        "\n",
        "    if row['home_score'] > row['away_score']:\n",
        "\n",
        "      texans22_wins +=1\n",
        "\n",
        "    else:\n",
        "\n",
        "      texans22_losses +=1\n",
        "\n",
        "  else:\n",
        "\n",
        "    if row['away_score'] > row['home_score']:\n",
        "      texans22_wins +=1\n",
        "\n",
        "    else:\n",
        "\n",
        "      texans22_losses +=1\n",
        "\n",
        "print(\"\\nTexans 2022 Win-Loss Record: {} Wins, {} Losses\".\\\n",
        "      format(texans22_wins, texans22_losses))\n",
        "\n",
        "## Broncos\n",
        "broncos_df = df[(df['home_team'] == 'DEN') | (df['away_team'] == 'DEN')]\n",
        "\n",
        "broncos22_wins = 0\n",
        "broncos22_losses = 0\n",
        "\n",
        "for index, row in broncos_df.iterrows():\n",
        "\n",
        "  if row['home_team'] == 'DEN':\n",
        "\n",
        "    if row['home_score'] > row['away_score']:\n",
        "\n",
        "      broncos22_wins +=1\n",
        "\n",
        "    else:\n",
        "\n",
        "      broncos22_losses +=1\n",
        "\n",
        "  else:\n",
        "\n",
        "    if row['away_score'] > row['home_score']:\n",
        "      broncos22_wins +=1\n",
        "\n",
        "    else:\n",
        "\n",
        "      broncos22_losses +=1\n",
        "\n",
        "print(\"\\nBroncos 2022 Win-Loss Record: {} Wins, {} Losses\".\\\n",
        "      format(broncos22_wins, broncos22_losses))\n",
        "\n",
        "## Commanders\n",
        "commanders_df = df[(df['home_team'] == 'WAS') | (df['away_team'] == 'WAS')]\n",
        "\n",
        "commanders22_wins = 0\n",
        "commanders22_losses = 0\n",
        "\n",
        "for index, row in commanders_df.iterrows():\n",
        "\n",
        "  if row['home_team'] == 'WAS':\n",
        "\n",
        "    if row['home_score'] > row['away_score']:\n",
        "\n",
        "      commanders22_wins +=1\n",
        "\n",
        "    else:\n",
        "\n",
        "      commanders22_losses +=1\n",
        "\n",
        "  else:\n",
        "\n",
        "    if row['away_score'] > row['home_score']:\n",
        "      commanders22_wins +=1\n",
        "\n",
        "    else:\n",
        "\n",
        "      commanders22_losses +=1\n",
        "\n",
        "print(\"\\nCommanders 2022 Win-Loss Record: {} Wins, {} Losses\".\\\n",
        "      format(commanders22_wins, commanders22_losses))\n",
        "\n",
        "## Bears\n",
        "bears_df = df[(df['home_team'] == 'CHI') | (df['away_team'] == 'CHI')]\n",
        "\n",
        "bears22_wins = 0\n",
        "bears22_losses = 0\n",
        "\n",
        "for index, row in bears_df.iterrows():\n",
        "\n",
        "  if row['home_team'] == 'CHI':\n",
        "\n",
        "    if row['home_score'] > row['away_score']:\n",
        "\n",
        "      bears22_wins +=1\n",
        "\n",
        "    else:\n",
        "\n",
        "      bears22_losses +=1\n",
        "\n",
        "  else:\n",
        "\n",
        "    if row['away_score'] > row['home_score']:\n",
        "      bears22_wins +=1\n",
        "\n",
        "    else:\n",
        "\n",
        "      bears22_losses +=1\n",
        "\n",
        "print(\"\\nBears 2022 Win-Loss Record: {} Wins, {} Losses\".\\\n",
        "      format(bears22_wins, bears22_losses))\n",
        "\n",
        "## Buccaneers\n",
        "bucs_df = df[(df['home_team'] == 'TB') | (df['away_team'] == 'TB')]\n",
        "\n",
        "bucs22_wins = 0\n",
        "bucs22_losses = 0\n",
        "\n",
        "for index, row in bucs_df.iterrows():\n",
        "\n",
        "  if row['home_team'] == 'TB':\n",
        "\n",
        "    if row['home_score'] > row['away_score']:\n",
        "\n",
        "      bucs22_wins +=1\n",
        "\n",
        "    else:\n",
        "\n",
        "      bucs22_losses +=1\n",
        "\n",
        "  else:\n",
        "\n",
        "    if row['away_score'] > row['home_score']:\n",
        "      bucs22_wins +=1\n",
        "\n",
        "    else:\n",
        "\n",
        "      bucs22_losses +=1\n",
        "\n",
        "print(\"\\nBuccaneers 2022 Win-Loss Record: {} Wins, {} Losses\".\\\n",
        "      format(bucs22_wins, bucs22_losses))\n",
        "\n",
        "## 49ers\n",
        "niners_df = df[(df['home_team'] == 'SF') | (df['away_team'] == 'SF')]\n",
        "\n",
        "niners22_wins = 0\n",
        "niners22_losses = 0\n",
        "\n",
        "for index, row in steelers_df.iterrows():\n",
        "\n",
        "  if row['home_team'] == 'SF':\n",
        "\n",
        "    if row['home_score'] > row['away_score']:\n",
        "\n",
        "      niners22_wins +=1\n",
        "\n",
        "    else:\n",
        "\n",
        "      niners22_losses +=1\n",
        "\n",
        "  else:\n",
        "\n",
        "    if row['away_score'] > row['home_score']:\n",
        "      niners22_wins +=1\n",
        "\n",
        "    else:\n",
        "\n",
        "      niners22_losses +=1\n",
        "\n",
        "print(\"\\n49ers 2022 Win-Loss Record: {} Wins, {} Losses\".\\\n",
        "      format(niners22_wins, niners22_losses))\n"
      ],
      "metadata": {
        "colab": {
          "base_uri": "https://localhost:8080/"
        },
        "id": "_gOBhxtywsJ-",
        "outputId": "6d9212c6-4a77-4690-d11a-518b32692bdc"
      },
      "execution_count": null,
      "outputs": [
        {
          "output_type": "stream",
          "name": "stdout",
          "text": [
            "\n",
            "Dolphins 2022 Win-Loss Record: 9 Wins, 9 Losses\n",
            "\n",
            "Steelers 2022 Win-Loss Record: 9 Wins, 8 Losses\n",
            "\n",
            "Texans 2022 Win-Loss Record: 3 Wins, 14 Losses\n",
            "\n",
            "Broncos 2022 Win-Loss Record: 5 Wins, 12 Losses\n",
            "\n",
            "Commanders 2022 Win-Loss Record: 8 Wins, 9 Losses\n",
            "\n",
            "Bears 2022 Win-Loss Record: 3 Wins, 14 Losses\n",
            "\n",
            "Buccaneers 2022 Win-Loss Record: 8 Wins, 10 Losses\n",
            "\n",
            "49ers 2022 Win-Loss Record: 9 Wins, 8 Losses\n"
          ]
        }
      ]
    },
    {
      "cell_type": "code",
      "source": [
        "teams_to_check = ['MIA', 'PIT', 'HOU', 'DEN', 'WSH', 'CHI', 'TB', 'SF']\n",
        "\n",
        "pbp_data_2022 = nfl.import_pbp_data([2022])\n",
        "postseason_games = pbp_data_2022[pbp_data_2022['season_type'] == 'POST']\n",
        "\n",
        "for team in teams_to_check:\n",
        "    if (team in postseason_games['home_team'].values) or (team in postseason_games['away_team'].values):\n",
        "        print(f\"{team} Reached the NFL postseason.\")\n",
        "    else:\n",
        "        print(f\"{team} did not qualify for the NFL postseason.\")"
      ],
      "metadata": {
        "colab": {
          "base_uri": "https://localhost:8080/"
        },
        "id": "YJtHPfpt5yUd",
        "outputId": "c1f786b9-23cb-454a-c4b6-edde377245ea"
      },
      "execution_count": null,
      "outputs": [
        {
          "output_type": "stream",
          "name": "stdout",
          "text": [
            "2022 done.\n",
            "Downcasting floats.\n",
            "MIA Reached the NFL postseason.\n",
            "PIT did not qualify for the NFL postseason.\n",
            "HOU did not qualify for the NFL postseason.\n",
            "DEN did not qualify for the NFL postseason.\n",
            "WSH did not qualify for the NFL postseason.\n",
            "CHI did not qualify for the NFL postseason.\n",
            "TB Reached the NFL postseason.\n",
            "SF Reached the NFL postseason.\n"
          ]
        }
      ]
    },
    {
      "cell_type": "markdown",
      "source": [
        "## 2022 Starting QB's"
      ],
      "metadata": {
        "id": "p39J62QTKpBG"
      }
    },
    {
      "cell_type": "code",
      "source": [
        "depth_charts_2022 = nfl.import_depth_charts([2022])\n",
        "\n",
        "my_teams = ['MIA', 'PIT', 'HOU', 'DEN', 'WAS', 'CHI', 'TB', 'SF']\n",
        "\n",
        "starting_qbs = depth_charts_2022[\n",
        "    (depth_charts_2022['position'] == 'QB') &\n",
        "    (depth_charts_2022['depth_team'] == '1') &\n",
        "    (depth_charts_2022['club_code'].isin(my_teams) &\n",
        "    (depth_charts_2022['week'] == 15.0))\n",
        "\n",
        "]\n",
        "print(starting_qbs[['club_code', 'full_name', 'position', 'depth_team']])\n"
      ],
      "metadata": {
        "colab": {
          "base_uri": "https://localhost:8080/"
        },
        "id": "j1Ny56fdKnls",
        "outputId": "208c7174-76ce-498e-ec3e-dbbf575c7160"
      },
      "execution_count": null,
      "outputs": [
        {
          "output_type": "stream",
          "name": "stdout",
          "text": [
            "      club_code        full_name position depth_team\n",
            "3248        CHI    Justin Fields       QB          1\n",
            "8324        DEN   Russell Wilson       QB          1\n",
            "17350       MIA   Tua Tagovailoa       QB          1\n",
            "27042       PIT    Kenny Pickett       QB          1\n",
            "29333        SF  Jimmy Garoppolo       QB          1\n",
            "31886        TB        Tom Brady       QB          1\n",
            "33114       WAS  Taylor Heinicke       QB          1\n",
            "37524       HOU      Davis Mills       QB          1\n"
          ]
        }
      ]
    },
    {
      "cell_type": "code",
      "source": [
        "# np.argmax()\n",
        "qb_stats22 = nfl.import_seasonal_pfr('pass',[2022])\n",
        "my_qbs = ['Tua Tagovailoa', 'Kenny Pickett', 'Davis Mills', 'Russell Wilson',\n",
        "          'Taylor Heinicke', 'Justin Fields', 'Tom Brady', 'Jimmy Garoppolo']\n",
        "print_qbs = qb_stats22[\n",
        "    (qb_stats22['player'].isin(my_qbs))\n",
        "]\n",
        "\n",
        "print(print_qbs[['player', 'team', 'bad_throw_pct', 'on_tgt_pct']])"
      ],
      "metadata": {
        "colab": {
          "base_uri": "https://localhost:8080/"
        },
        "id": "XkX4tbs9MtTd",
        "outputId": "5e88d106-2b9f-4c12-a51e-dbdfe0c43412"
      },
      "execution_count": null,
      "outputs": [
        {
          "output_type": "stream",
          "name": "stdout",
          "text": [
            "              player team  bad_throw_pct  on_tgt_pct\n",
            "437        Tom Brady   TB           16.4        77.1\n",
            "446   Tua Tagovailoa  MIA           15.8        76.7\n",
            "447   Russell Wilson  DEN           15.6        73.3\n",
            "450      Davis Mills  HOU           23.2        70.6\n",
            "457  Jimmy Garoppolo   SF           12.7        74.5\n",
            "458    Kenny Pickett  PIT           18.2        72.1\n",
            "460    Justin Fields  CHI           19.3        71.1\n",
            "465  Taylor Heinicke  WAS           18.1        72.8\n"
          ]
        }
      ]
    },
    {
      "cell_type": "markdown",
      "source": [
        "## 2022 Passing Stats"
      ],
      "metadata": {
        "id": "YalsdfSjwKR1"
      }
    },
    {
      "cell_type": "code",
      "source": [
        "pbp_data_2022 = nfl.import_pbp_data([2022])\n",
        "\n",
        "my_teams = ['MIA', 'PIT', 'HOU', 'DEN', 'WAS', 'CHI', 'TB', 'SF']\n",
        "\n",
        "passing_plays = pbp_data_2022[pbp_data_2022['play_type'] == 'pass']\n",
        "\n",
        "passing_plays_filtered = passing_plays[passing_plays['posteam'].isin(my_teams)]\n",
        "\n",
        "passing_yards_per_game = passing_plays_filtered.groupby(['posteam', 'game_id'])['passing_yards'].sum().reset_index()\n",
        "\n",
        "games_per_team = passing_yards_per_game.groupby('posteam')['game_id'].nunique().reset_index()\n",
        "games_per_team.columns = ['team', 'total_games']\n",
        "\n",
        "total_passing_yards_per_team = passing_yards_per_game.groupby('posteam')['passing_yards'].sum().reset_index()\n",
        "total_passing_yards_per_team.columns = ['team', 'total_passing_yards']\n",
        "\n",
        "team_stats = pd.merge(total_passing_yards_per_team, games_per_team, on='team')\n",
        "\n",
        "team_stats['avg_passing_yards_per_game'] = team_stats['total_passing_yards'] / team_stats['total_games']\n",
        "\n",
        "team_stats = team_stats.sort_values(by='avg_passing_yards_per_game', ascending=False)\n",
        "\n",
        "print(team_stats[['team', 'total_passing_yards', 'total_games', 'avg_passing_yards_per_game']])"
      ],
      "metadata": {
        "colab": {
          "base_uri": "https://localhost:8080/"
        },
        "id": "uusyw2k5ggI-",
        "outputId": "65b72ac4-51b6-4a19-947c-8b7a173b8d52"
      },
      "execution_count": null,
      "outputs": [
        {
          "output_type": "stream",
          "name": "stdout",
          "text": [
            "2022 done.\n",
            "Downcasting floats.\n",
            "  team  total_passing_yards  total_games  avg_passing_yards_per_game\n",
            "6   TB               5097.0           18                  283.166667\n",
            "3  MIA               4985.0           18                  276.944444\n",
            "1  DEN               4007.0           17                  235.705882\n",
            "5   SF               4692.0           20                  234.600000\n",
            "7  WAS               3783.0           17                  222.529412\n",
            "4  PIT               3661.0           17                  215.352941\n",
            "2  HOU               3642.0           17                  214.235294\n",
            "0  CHI               2598.0           17                  152.823529\n"
          ]
        }
      ]
    },
    {
      "cell_type": "markdown",
      "source": [
        "## 2022 Rushing Stats"
      ],
      "metadata": {
        "id": "5QPwbcMrwSm7"
      }
    },
    {
      "cell_type": "code",
      "source": [
        "pbp_data_2022 = nfl.import_pbp_data([2022])\n",
        "\n",
        "my_teams = ['MIA', 'PIT', 'HOU', 'DEN', 'WAS', 'CHI', 'TB', 'SF']\n",
        "\n",
        "rushing_plays = pbp_data_2022[pbp_data_2022['play_type'] == 'run']\n",
        "\n",
        "rushing_plays_filtered = rushing_plays[rushing_plays['posteam'].isin(my_teams)]\n",
        "\n",
        "rushing_yards_per_game = rushing_plays_filtered.groupby(['posteam', 'game_id'])['rushing_yards'].sum().reset_index()\n",
        "\n",
        "games_per_team = passing_yards_per_game.groupby('posteam')['game_id'].nunique().reset_index()\n",
        "games_per_team.columns = ['team', 'total_games']\n",
        "\n",
        "total_rushing_yards_per_team = rushing_yards_per_game.groupby('posteam')['rushing_yards'].sum().reset_index()\n",
        "total_rushing_yards_per_team.columns = ['team', 'total_rushing_yards']\n",
        "\n",
        "team_stats = pd.merge(total_rushing_yards_per_team, games_per_team, on='team')\n",
        "\n",
        "team_stats['avg_rushing_yards_per_game'] = team_stats['total_rushing_yards'] / team_stats['total_games']\n",
        "\n",
        "team_stats = team_stats.sort_values(by='avg_rushing_yards_per_game', ascending=False)\n",
        "\n",
        "print(team_stats[['team', 'total_rushing_yards', 'total_games', 'avg_rushing_yards_per_game']])"
      ],
      "metadata": {
        "colab": {
          "base_uri": "https://localhost:8080/"
        },
        "id": "ToBewGX8wVt3",
        "outputId": "88fe7feb-5d1d-4e7e-a26e-26f7afb43a16"
      },
      "execution_count": null,
      "outputs": [
        {
          "output_type": "stream",
          "name": "stdout",
          "text": [
            "2022 done.\n",
            "Downcasting floats.\n",
            "  team  total_rushing_yards  total_games  avg_rushing_yards_per_game\n",
            "0  CHI               3024.0           17                  177.882353\n",
            "5   SF               2754.0           20                  137.700000\n",
            "7  WAS               2154.0           17                  126.705882\n",
            "4  PIT               2085.0           17                  122.647059\n",
            "1  DEN               1944.0           17                  114.352941\n",
            "3  MIA               1735.0           18                   96.388889\n",
            "2  HOU               1485.0           17                   87.352941\n",
            "6   TB               1373.0           18                   76.277778\n"
          ]
        }
      ]
    },
    {
      "cell_type": "markdown",
      "source": [
        "## 2022 Passing Defense"
      ],
      "metadata": {
        "id": "R6MRrCkkx5cJ"
      }
    },
    {
      "cell_type": "code",
      "source": [
        "pbp_data_2022 = nfl.import_pbp_data([2022])\n",
        "\n",
        "my_teams = ['MIA', 'PIT', 'HOU', 'DEN', 'WAS', 'CHI', 'TB', 'SF']\n",
        "\n",
        "dpassing_plays = pbp_data_2022[pbp_data_2022['play_type'] == 'pass']\n",
        "\n",
        "dpassing_plays_filtered = dpassing_plays[dpassing_plays['defteam'].isin(my_teams)]\n",
        "\n",
        "dpassing_yards_per_game = dpassing_plays_filtered.groupby(['defteam', 'game_id'])['passing_yards'].sum().reset_index()\n",
        "\n",
        "games_per_team = dpassing_yards_per_game.groupby('defteam')['game_id'].nunique().reset_index()\n",
        "games_per_team.columns = ['team', 'total_games']\n",
        "\n",
        "total_dpassing_yards_per_team = dpassing_yards_per_game.groupby('defteam')['passing_yards'].sum().reset_index()\n",
        "total_dpassing_yards_per_team.columns = ['team', 'total_dpassing_yards']\n",
        "\n",
        "team_stats = pd.merge(total_dpassing_yards_per_team, games_per_team, on='team')\n",
        "\n",
        "team_stats['avg_dpassing_yards_per_game'] = team_stats['total_dpassing_yards'] / team_stats['total_games']\n",
        "\n",
        "team_stats = team_stats.sort_values(by='avg_dpassing_yards_per_game', ascending=False)\n",
        "\n",
        "print(team_stats[['team', 'total_dpassing_yards', 'total_games', 'avg_dpassing_yards_per_game']])"
      ],
      "metadata": {
        "colab": {
          "base_uri": "https://localhost:8080/"
        },
        "id": "HOqdhtxYzHL4",
        "outputId": "8eeec47f-bb8b-4529-9024-3bdcd88e59e4"
      },
      "execution_count": null,
      "outputs": [
        {
          "output_type": "stream",
          "name": "stdout",
          "text": [
            "2022 done.\n",
            "Downcasting floats.\n",
            "  team  total_dpassing_yards  total_games  avg_dpassing_yards_per_game\n",
            "3  MIA                4634.0           18                   257.444444\n",
            "4  PIT                4066.0           17                   239.176471\n",
            "5   SF                4676.0           20                   233.800000\n",
            "6   TB                4097.0           18                   227.611111\n",
            "0  CHI                3840.0           17                   225.882353\n",
            "1  DEN                3819.0           17                   224.647059\n",
            "2  HOU                3775.0           17                   222.058824\n",
            "7  WAS                3531.0           17                   207.705882\n"
          ]
        }
      ]
    },
    {
      "cell_type": "markdown",
      "source": [
        "## 2022 Rushing Defense"
      ],
      "metadata": {
        "id": "4NQQtilS0ogL"
      }
    },
    {
      "cell_type": "code",
      "source": [
        "pbp_data_2022 = nfl.import_pbp_data([2022])\n",
        "\n",
        "my_teams = ['MIA', 'PIT', 'HOU', 'DEN', 'WAS', 'CHI', 'TB', 'SF']\n",
        "\n",
        "drush_plays = pbp_data_2022[pbp_data_2022['play_type'] == 'run']\n",
        "\n",
        "drush_plays_filtered = drush_plays[drush_plays['defteam'].isin(my_teams)]\n",
        "\n",
        "drush_yards_per_game = drush_plays_filtered.groupby(['defteam', 'game_id'])['rushing_yards'].sum().reset_index()\n",
        "\n",
        "games_per_team = drush_yards_per_game.groupby('defteam')['game_id'].nunique().reset_index()\n",
        "games_per_team.columns = ['team', 'total_games']\n",
        "\n",
        "total_drush_yards_per_team = drush_yards_per_game.groupby('defteam')['rushing_yards'].sum().reset_index()\n",
        "total_drush_yards_per_team.columns = ['team', 'total_drush_yards']\n",
        "\n",
        "team_stats = pd.merge(total_drush_yards_per_team, games_per_team, on='team')\n",
        "\n",
        "team_stats['avg_drush_yards_per_game'] = team_stats['total_drush_yards'] / team_stats['total_games']\n",
        "\n",
        "team_stats = team_stats.sort_values(by='avg_drush_yards_per_game', ascending=False)\n",
        "\n",
        "print(team_stats[['team', 'total_drush_yards', 'total_games', 'avg_drush_yards_per_game']])"
      ],
      "metadata": {
        "colab": {
          "base_uri": "https://localhost:8080/"
        },
        "id": "73UVFcXz0yDD",
        "outputId": "d1082fe0-3223-4cea-d076-a96c78ab8bed"
      },
      "execution_count": null,
      "outputs": [
        {
          "output_type": "stream",
          "name": "stdout",
          "text": [
            "2022 done.\n",
            "Downcasting floats.\n",
            "  team  total_drush_yards  total_games  avg_drush_yards_per_game\n",
            "2  HOU             2908.0           17                171.058824\n",
            "0  CHI             2696.0           17                158.588235\n",
            "6   TB             2192.0           18                121.777778\n",
            "7  WAS             1940.0           17                114.117647\n",
            "1  DEN             1881.0           17                110.647059\n",
            "4  PIT             1860.0           17                109.411765\n",
            "3  MIA             1888.0           18                104.888889\n",
            "5   SF             1663.0           20                 83.150000\n"
          ]
        }
      ]
    },
    {
      "cell_type": "markdown",
      "source": [
        "##**Team Analysis (2023)**"
      ],
      "metadata": {
        "id": "Wpa-kL3twsb8"
      }
    },
    {
      "cell_type": "markdown",
      "source": [
        "## 2023 Season Results"
      ],
      "metadata": {
        "id": "6IV8rsXOK7Is"
      }
    },
    {
      "cell_type": "code",
      "source": [
        "df = nfl.import_schedules([2023])\n",
        "## Dolphins\n",
        "dolphins_df = df[(df['home_team'] == 'MIA') | (df['away_team'] == 'MIA')]\n",
        "\n",
        "dolphins23_wins = 0\n",
        "dolphins23_losses = 0\n",
        "\n",
        "for index, row in dolphins_df.iterrows():\n",
        "\n",
        "  if row['home_team'] == 'MIA':\n",
        "\n",
        "    if row['home_score'] > row['away_score']:\n",
        "\n",
        "      dolphins23_wins +=1\n",
        "\n",
        "    else:\n",
        "\n",
        "      dolphins23_losses +=1\n",
        "\n",
        "  else:\n",
        "\n",
        "    if row['away_score'] > row['home_score']:\n",
        "      dolphins23_wins +=1\n",
        "\n",
        "    else:\n",
        "\n",
        "      dolphins23_losses +=1\n",
        "\n",
        "print(\"\\nDolphins 2023 Win-Loss Record: {} Wins, {} Losses\".\\\n",
        "      format(dolphins23_wins, dolphins23_losses))\n",
        "\n",
        "## Steelers\n",
        "steelers_df = df[(df['home_team'] == 'PIT') | (df['away_team'] == 'PIT')]\n",
        "\n",
        "steelers23_wins = 0\n",
        "steelers23_losses = 0\n",
        "\n",
        "for index, row in steelers_df.iterrows():\n",
        "\n",
        "  if row['home_team'] == 'PIT':\n",
        "\n",
        "    if row['home_score'] > row['away_score']:\n",
        "\n",
        "      steelers23_wins +=1\n",
        "\n",
        "    else:\n",
        "\n",
        "      steelers23_losses +=1\n",
        "\n",
        "  else:\n",
        "\n",
        "    if row['away_score'] > row['home_score']:\n",
        "      steelers23_wins +=1\n",
        "\n",
        "    else:\n",
        "\n",
        "      steelers23_losses +=1\n",
        "\n",
        "print(\"\\nSteelers 2023 Win-Loss Record: {} Wins, {} Losses\".\\\n",
        "      format(steelers23_wins, steelers23_losses))\n",
        "\n",
        "## Texans\n",
        "texans_df = df[(df['home_team'] == 'HOU') | (df['away_team'] == 'HOU')]\n",
        "\n",
        "texans23_wins = 0\n",
        "texans23_losses = 0\n",
        "\n",
        "for index, row in texans_df.iterrows():\n",
        "\n",
        "  if row['home_team'] == 'HOU':\n",
        "\n",
        "    if row['home_score'] > row['away_score']:\n",
        "\n",
        "      texans23_wins +=1\n",
        "\n",
        "    else:\n",
        "\n",
        "      texans23_losses +=1\n",
        "\n",
        "  else:\n",
        "\n",
        "    if row['away_score'] > row['home_score']:\n",
        "      texans23_wins +=1\n",
        "\n",
        "    else:\n",
        "\n",
        "      texans23_losses +=1\n",
        "\n",
        "print(\"\\nTexans 2023 Win-Loss Record: {} Wins, {} Losses\".\\\n",
        "      format(texans23_wins, texans23_losses))\n",
        "\n",
        "## Broncos\n",
        "broncos_df = df[(df['home_team'] == 'DEN') | (df['away_team'] == 'DEN')]\n",
        "\n",
        "broncos23_wins = 0\n",
        "broncos23_losses = 0\n",
        "\n",
        "for index, row in broncos_df.iterrows():\n",
        "\n",
        "  if row['home_team'] == 'DEN':\n",
        "\n",
        "    if row['home_score'] > row['away_score']:\n",
        "\n",
        "      broncos23_wins +=1\n",
        "\n",
        "    else:\n",
        "\n",
        "      broncos23_losses +=1\n",
        "\n",
        "  else:\n",
        "\n",
        "    if row['away_score'] > row['home_score']:\n",
        "      broncos23_wins +=1\n",
        "\n",
        "    else:\n",
        "\n",
        "      broncos23_losses +=1\n",
        "\n",
        "print(\"\\nBroncos 2023 Win-Loss Record: {} Wins, {} Losses\".\\\n",
        "      format(broncos23_wins, broncos23_losses))\n",
        "\n",
        "## Commanders\n",
        "commanders_df = df[(df['home_team'] == 'WAS') | (df['away_team'] == 'WAS')]\n",
        "\n",
        "commanders23_wins = 0\n",
        "commanders23_losses = 0\n",
        "\n",
        "for index, row in commanders_df.iterrows():\n",
        "\n",
        "  if row['home_team'] == 'WAS':\n",
        "\n",
        "    if row['home_score'] > row['away_score']:\n",
        "\n",
        "      commanders23_wins +=1\n",
        "\n",
        "    else:\n",
        "\n",
        "      commanders23_losses +=1\n",
        "\n",
        "  else:\n",
        "\n",
        "    if row['away_score'] > row['home_score']:\n",
        "      commanders23_wins +=1\n",
        "\n",
        "    else:\n",
        "\n",
        "      commanders23_losses +=1\n",
        "\n",
        "print(\"\\nCommanders 2023 Win-Loss Record: {} Wins, {} Losses\".\\\n",
        "      format(commanders23_wins, commanders23_losses))\n",
        "\n",
        "## Bears\n",
        "bears_df = df[(df['home_team'] == 'CHI') | (df['away_team'] == 'CHI')]\n",
        "\n",
        "bears23_wins = 0\n",
        "bears23_losses = 0\n",
        "\n",
        "for index, row in bears_df.iterrows():\n",
        "\n",
        "  if row['home_team'] == 'CHI':\n",
        "\n",
        "    if row['home_score'] > row['away_score']:\n",
        "\n",
        "      bears23_wins +=1\n",
        "\n",
        "    else:\n",
        "\n",
        "      bears23_losses +=1\n",
        "\n",
        "  else:\n",
        "\n",
        "    if row['away_score'] > row['home_score']:\n",
        "      bears23_wins +=1\n",
        "\n",
        "    else:\n",
        "\n",
        "      bears23_losses +=1\n",
        "\n",
        "print(\"\\nBears 2023 Win-Loss Record: {} Wins, {} Losses\".\\\n",
        "      format(bears23_wins, bears23_losses))\n",
        "\n",
        "## Buccaneers\n",
        "bucs_df = df[(df['home_team'] == 'TB') | (df['away_team'] == 'TB')]\n",
        "\n",
        "bucs23_wins = 0\n",
        "bucs23_losses = 0\n",
        "\n",
        "for index, row in bucs_df.iterrows():\n",
        "\n",
        "  if row['home_team'] == 'TB':\n",
        "\n",
        "    if row['home_score'] > row['away_score']:\n",
        "\n",
        "      bucs23_wins +=1\n",
        "\n",
        "    else:\n",
        "\n",
        "      bucs23_losses +=1\n",
        "\n",
        "  else:\n",
        "\n",
        "    if row['away_score'] > row['home_score']:\n",
        "      bucs23_wins +=1\n",
        "\n",
        "    else:\n",
        "\n",
        "      bucs23_losses +=1\n",
        "\n",
        "print(\"\\nBuccaneers 2023 Win-Loss Record: {} Wins, {} Losses\".\\\n",
        "      format(bucs23_wins, bucs23_losses))\n",
        "\n",
        "## 49ers\n",
        "niners_df = df[(df['home_team'] == 'SF') | (df['away_team'] == 'SF')]\n",
        "\n",
        "niners23_wins = 0\n",
        "niners23_losses = 0\n",
        "\n",
        "for index, row in steelers_df.iterrows():\n",
        "\n",
        "  if row['home_team'] == 'SF':\n",
        "\n",
        "    if row['home_score'] > row['away_score']:\n",
        "\n",
        "      niners23_wins +=1\n",
        "\n",
        "    else:\n",
        "\n",
        "      niners23_losses +=1\n",
        "\n",
        "  else:\n",
        "\n",
        "    if row['away_score'] > row['home_score']:\n",
        "      niners23_wins +=1\n",
        "\n",
        "    else:\n",
        "\n",
        "      niners23_losses +=1\n",
        "\n",
        "print(\"\\n49ers 2023 Win-Loss Record: {} Wins, {} Losses\".\\\n",
        "      format(niners23_wins, niners23_losses))"
      ],
      "metadata": {
        "colab": {
          "base_uri": "https://localhost:8080/"
        },
        "id": "48f59C3swyhk",
        "outputId": "06082656-0756-4a48-ef39-aa900b407fac"
      },
      "execution_count": null,
      "outputs": [
        {
          "output_type": "stream",
          "name": "stdout",
          "text": [
            "\n",
            "Dolphins 2023 Win-Loss Record: 11 Wins, 7 Losses\n",
            "\n",
            "Steelers 2023 Win-Loss Record: 10 Wins, 8 Losses\n",
            "\n",
            "Texans 2023 Win-Loss Record: 11 Wins, 8 Losses\n",
            "\n",
            "Broncos 2023 Win-Loss Record: 8 Wins, 9 Losses\n",
            "\n",
            "Commanders 2023 Win-Loss Record: 4 Wins, 13 Losses\n",
            "\n",
            "Bears 2023 Win-Loss Record: 7 Wins, 10 Losses\n",
            "\n",
            "Buccaneers 2023 Win-Loss Record: 10 Wins, 9 Losses\n",
            "\n",
            "49ers 2023 Win-Loss Record: 9 Wins, 9 Losses\n"
          ]
        }
      ]
    },
    {
      "cell_type": "code",
      "source": [
        "teams_to_check = ['MIA', 'PIT', 'HOU', 'DEN', 'WSH', 'CHI', 'TB', 'SF']\n",
        "\n",
        "pbp_data_2023 = nfl.import_pbp_data([2023])\n",
        "postseason_games = pbp_data_2023[pbp_data_2023['season_type'] == 'POST']\n",
        "\n",
        "for team in teams_to_check:\n",
        "    if (team in postseason_games['home_team'].values) or (team in postseason_games['away_team'].values):\n",
        "        print(f\"{team} Reached the NFL postseason.\")\n",
        "    else:\n",
        "        print(f\"{team} did not qualify for the NFL postseason.\")"
      ],
      "metadata": {
        "colab": {
          "base_uri": "https://localhost:8080/"
        },
        "id": "7mSposE46MZL",
        "outputId": "2ee8de72-316d-4fe2-f676-e45e73152a82"
      },
      "execution_count": null,
      "outputs": [
        {
          "output_type": "stream",
          "name": "stdout",
          "text": [
            "2023 done.\n",
            "Downcasting floats.\n",
            "MIA Reached the NFL postseason.\n",
            "PIT Reached the NFL postseason.\n",
            "HOU Reached the NFL postseason.\n",
            "DEN did not qualify for the NFL postseason.\n",
            "WSH did not qualify for the NFL postseason.\n",
            "CHI did not qualify for the NFL postseason.\n",
            "TB Reached the NFL postseason.\n",
            "SF Reached the NFL postseason.\n"
          ]
        }
      ]
    },
    {
      "cell_type": "markdown",
      "source": [
        "## 2023 Starting QB's"
      ],
      "metadata": {
        "id": "5yp75CuHLBRJ"
      }
    },
    {
      "cell_type": "code",
      "source": [
        "depth_charts_2023 = nfl.import_depth_charts([2023])\n",
        "\n",
        "my_teams = ['MIA', 'PIT', 'HOU', 'DEN', 'WAS', 'CHI', 'TB', 'SF']\n",
        "\n",
        "starting_qbs = depth_charts_2023[\n",
        "    (depth_charts_2023['position'] == 'QB') &\n",
        "    (depth_charts_2023['depth_team'] == '1') &\n",
        "    (depth_charts_2023['club_code'].isin(my_teams) &\n",
        "    (depth_charts_2023['week'] == 15.0))\n",
        "]\n",
        "print(starting_qbs[['club_code', 'full_name', 'position', 'depth_team']])"
      ],
      "metadata": {
        "colab": {
          "base_uri": "https://localhost:8080/"
        },
        "id": "RYb33EBmLAvm",
        "outputId": "9a3ff153-485f-43b1-f162-fd0486cca620"
      },
      "execution_count": null,
      "outputs": [
        {
          "output_type": "stream",
          "name": "stdout",
          "text": [
            "      club_code       full_name position depth_team\n",
            "2494        CHI   Justin Fields       QB          1\n",
            "7854        DEN  Russell Wilson       QB          1\n",
            "17497       MIA  Tua Tagovailoa       QB          1\n",
            "26629       PIT   Kenny Pickett       QB          1\n",
            "28310        SF     Brock Purdy       QB          1\n",
            "31399        TB  Baker Mayfield       QB          1\n",
            "32703       WAS      Sam Howell       QB          1\n",
            "36919       HOU     C.J. Stroud       QB          1\n"
          ]
        }
      ]
    },
    {
      "cell_type": "code",
      "source": [
        "qb_stats23 = nfl.import_seasonal_pfr('pass',[2023])\n",
        "my_qbs = ['Tua Tagovailoa', 'Kenny Pickett', 'C.J. Stroud', 'Russell Wilson',\n",
        "          'Sam Howell', 'Justin Fields', 'Baker Mayfield', 'Brock Purdy']\n",
        "print_qbs = qb_stats23[\n",
        "    (qb_stats23['player'].isin(my_qbs))\n",
        "]\n",
        "\n",
        "print(print_qbs[['player', 'team', 'bad_throw_pct', 'on_tgt_pct']])"
      ],
      "metadata": {
        "colab": {
          "base_uri": "https://localhost:8080/"
        },
        "id": "brZv_vN2aFBl",
        "outputId": "921160e6-6b84-4acc-9ced-cda3190a9b2c"
      },
      "execution_count": null,
      "outputs": [
        {
          "output_type": "stream",
          "name": "stdout",
          "text": [
            "             player team  bad_throw_pct  on_tgt_pct\n",
            "541  Tua Tagovailoa  MIA           14.3        79.0\n",
            "545     Brock Purdy   SF           16.3        75.5\n",
            "548     C.J. Stroud  HOU           19.9        74.8\n",
            "549  Baker Mayfield   TB           14.8        74.9\n",
            "552      Sam Howell  WAS           15.2        73.7\n",
            "559  Russell Wilson  DEN           13.2        77.9\n",
            "562   Justin Fields  CHI           16.8        73.0\n",
            "569   Kenny Pickett  PIT           18.4        71.6\n"
          ]
        }
      ]
    },
    {
      "cell_type": "markdown",
      "source": [
        "## 2023 Passing Stats"
      ],
      "metadata": {
        "id": "8l8wfzE3v1Wx"
      }
    },
    {
      "cell_type": "code",
      "source": [
        "pbp_data_2023 = nfl.import_pbp_data([2023])\n",
        "\n",
        "my_teams = ['MIA', 'PIT', 'HOU', 'DEN', 'WAS', 'CHI', 'TB', 'SF']\n",
        "\n",
        "passing_plays = pbp_data_2023[pbp_data_2023['play_type'] == 'pass']\n",
        "\n",
        "passing_plays_filtered = passing_plays[passing_plays['posteam'].isin(my_teams)]\n",
        "\n",
        "passing_yards_per_game = passing_plays_filtered.groupby(['posteam', 'game_id'])['passing_yards'].sum().reset_index()\n",
        "\n",
        "games_per_team = passing_yards_per_game.groupby('posteam')['game_id'].nunique().reset_index()\n",
        "games_per_team.columns = ['team', 'total_games']\n",
        "\n",
        "total_passing_yards_per_team = passing_yards_per_game.groupby('posteam')['passing_yards'].sum().reset_index()\n",
        "total_passing_yards_per_team.columns = ['team', 'total_passing_yards']\n",
        "\n",
        "team_stats = pd.merge(total_passing_yards_per_team, games_per_team, on='team')\n",
        "\n",
        "team_stats['avg_passing_yards_per_game'] = team_stats['total_passing_yards'] / team_stats['total_games']\n",
        "\n",
        "team_stats = team_stats.sort_values(by='avg_passing_yards_per_game', ascending=False)\n",
        "\n",
        "print(team_stats[['team', 'total_passing_yards', 'total_games', 'avg_passing_yards_per_game']])"
      ],
      "metadata": {
        "colab": {
          "base_uri": "https://localhost:8080/"
        },
        "id": "vBgEe4Tbvrhn",
        "outputId": "6ea61143-60f6-495e-d460-400bee3b2c51"
      },
      "execution_count": null,
      "outputs": [
        {
          "output_type": "stream",
          "name": "stdout",
          "text": [
            "2023 done.\n",
            "Downcasting floats.\n",
            "  team  total_passing_yards  total_games  avg_passing_yards_per_game\n",
            "3  MIA               4897.0           18                  272.055556\n",
            "5   SF               5372.0           20                  268.600000\n",
            "2  HOU               5033.0           19                  264.894737\n",
            "6   TB               4730.0           19                  248.947368\n",
            "7  WAS               4174.0           17                  245.529412\n",
            "1  DEN               3566.0           17                  209.764706\n",
            "4  PIT               3650.0           18                  202.777778\n",
            "0  CHI               3421.0           17                  201.235294\n"
          ]
        }
      ]
    },
    {
      "cell_type": "markdown",
      "source": [
        "## 2023 Rushing Stats"
      ],
      "metadata": {
        "id": "3EofK4sexCIT"
      }
    },
    {
      "cell_type": "code",
      "source": [
        "pbp_data_2023 = nfl.import_pbp_data([2023])\n",
        "\n",
        "my_teams = ['MIA', 'PIT', 'HOU', 'DEN', 'WAS', 'CHI', 'TB', 'SF']\n",
        "\n",
        "rushing_plays = pbp_data_2023[pbp_data_2023['play_type'] == 'run']\n",
        "\n",
        "rushing_plays_filtered = rushing_plays[rushing_plays['posteam'].isin(my_teams)]\n",
        "\n",
        "rushing_yards_per_game = rushing_plays_filtered.groupby(['posteam', 'game_id'])['rushing_yards'].sum().reset_index()\n",
        "\n",
        "games_per_team = passing_yards_per_game.groupby('posteam')['game_id'].nunique().reset_index()\n",
        "games_per_team.columns = ['team', 'total_games']\n",
        "\n",
        "total_rushing_yards_per_team = rushing_yards_per_game.groupby('posteam')['rushing_yards'].sum().reset_index()\n",
        "total_rushing_yards_per_team.columns = ['team', 'total_rushing_yards']\n",
        "\n",
        "team_stats = pd.merge(total_rushing_yards_per_team, games_per_team, on='team')\n",
        "\n",
        "team_stats['avg_rushing_yards_per_game'] = team_stats['total_rushing_yards'] / team_stats['total_games']\n",
        "\n",
        "team_stats = team_stats.sort_values(by='avg_rushing_yards_per_game', ascending=False)\n",
        "\n",
        "print(team_stats[['team', 'total_rushing_yards', 'total_games', 'avg_rushing_yards_per_game']])"
      ],
      "metadata": {
        "colab": {
          "base_uri": "https://localhost:8080/"
        },
        "id": "52Wlv3rJxFY5",
        "outputId": "d9bc04fe-7fef-46c0-be16-af07cd4ab4e3"
      },
      "execution_count": null,
      "outputs": [
        {
          "output_type": "stream",
          "name": "stdout",
          "text": [
            "2023 done.\n",
            "Downcasting floats.\n",
            "  team  total_rushing_yards  total_games  avg_rushing_yards_per_game\n",
            "0  CHI               2418.0           17                  142.235294\n",
            "5   SF               2795.0           20                  139.750000\n",
            "3  MIA               2403.0           18                  133.500000\n",
            "4  PIT               2143.0           18                  119.055556\n",
            "1  DEN               1831.0           17                  107.705882\n",
            "7  WAS               1596.0           17                   93.882353\n",
            "2  HOU               1760.0           19                   92.631579\n",
            "6   TB               1738.0           19                   91.473684\n"
          ]
        }
      ]
    },
    {
      "cell_type": "markdown",
      "source": [
        "## 2023 Passing Defense"
      ],
      "metadata": {
        "id": "jKSU4O8O0Ii1"
      }
    },
    {
      "cell_type": "code",
      "source": [
        "pbp_data_2023 = nfl.import_pbp_data([2023])\n",
        "\n",
        "my_teams = ['MIA', 'PIT', 'HOU', 'DEN', 'WAS', 'CHI', 'TB', 'SF']\n",
        "\n",
        "dpassing_plays = pbp_data_2023[pbp_data_2023['play_type'] == 'pass']\n",
        "\n",
        "dpassing_plays_filtered = dpassing_plays[dpassing_plays['defteam'].isin(my_teams)]\n",
        "\n",
        "dpassing_yards_per_game = dpassing_plays_filtered.groupby(['defteam', 'game_id'])['passing_yards'].sum().reset_index()\n",
        "\n",
        "games_per_team = dpassing_yards_per_game.groupby('defteam')['game_id'].nunique().reset_index()\n",
        "games_per_team.columns = ['team', 'total_games']\n",
        "\n",
        "total_dpassing_yards_per_team = dpassing_yards_per_game.groupby('defteam')['passing_yards'].sum().reset_index()\n",
        "total_dpassing_yards_per_team.columns = ['team', 'total_dpassing_yards']\n",
        "\n",
        "team_stats = pd.merge(total_dpassing_yards_per_team, games_per_team, on='team')\n",
        "\n",
        "team_stats['avg_dpassing_yards_per_game'] = team_stats['total_dpassing_yards'] / team_stats['total_games']\n",
        "\n",
        "team_stats = team_stats.sort_values(by='avg_dpassing_yards_per_game', ascending=False)\n",
        "\n",
        "print(team_stats[['team', 'total_dpassing_yards', 'total_games', 'avg_dpassing_yards_per_game']])"
      ],
      "metadata": {
        "colab": {
          "base_uri": "https://localhost:8080/"
        },
        "id": "tVewdeO20QmC",
        "outputId": "ecec3700-159f-40d5-8639-7a74dd225386"
      },
      "execution_count": null,
      "outputs": [
        {
          "output_type": "stream",
          "name": "stdout",
          "text": [
            "2023 done.\n",
            "Downcasting floats.\n",
            "  team  total_dpassing_yards  total_games  avg_dpassing_yards_per_game\n",
            "7  WAS                4627.0           17                   272.176471\n",
            "6   TB                5105.0           19                   268.684211\n",
            "1  DEN                4302.0           17                   253.058824\n",
            "2  HOU                4793.0           19                   252.263158\n",
            "0  CHI                4245.0           17                   249.705882\n",
            "3  MIA                4394.0           18                   244.111111\n",
            "4  PIT                4367.0           18                   242.611111\n",
            "5   SF                4749.0           20                   237.450000\n"
          ]
        }
      ]
    },
    {
      "cell_type": "markdown",
      "source": [
        "## 2023 Rushing Defense"
      ],
      "metadata": {
        "id": "51Gz81ZN2orA"
      }
    },
    {
      "cell_type": "code",
      "source": [
        "pbp_data_2023 = nfl.import_pbp_data([2023])\n",
        "\n",
        "my_teams = ['MIA', 'PIT', 'HOU', 'DEN', 'WAS', 'CHI', 'TB', 'SF']\n",
        "\n",
        "drush_plays = pbp_data_2023[pbp_data_2023['play_type'] == 'run']\n",
        "\n",
        "drush_plays_filtered = drush_plays[drush_plays['defteam'].isin(my_teams)]\n",
        "\n",
        "drush_yards_per_game = drush_plays_filtered.groupby(['defteam', 'game_id'])['rushing_yards'].sum().reset_index()\n",
        "\n",
        "games_per_team = drush_yards_per_game.groupby('defteam')['game_id'].nunique().reset_index()\n",
        "games_per_team.columns = ['team', 'total_games']\n",
        "\n",
        "total_drush_yards_per_team = drush_yards_per_game.groupby('defteam')['rushing_yards'].sum().reset_index()\n",
        "total_drush_yards_per_team.columns = ['team', 'total_drush_yards']\n",
        "\n",
        "team_stats = pd.merge(total_drush_yards_per_team, games_per_team, on='team')\n",
        "\n",
        "team_stats['avg_drush_yards_per_game'] = team_stats['total_drush_yards'] / team_stats['total_games']\n",
        "\n",
        "team_stats = team_stats.sort_values(by='avg_drush_yards_per_game', ascending=False)\n",
        "\n",
        "print(team_stats[['team', 'total_drush_yards', 'total_games', 'avg_drush_yards_per_game']])"
      ],
      "metadata": {
        "colab": {
          "base_uri": "https://localhost:8080/"
        },
        "id": "ZUbazHfa2twA",
        "outputId": "344993eb-22b7-42e7-dea2-5fe53fedbe64"
      },
      "execution_count": null,
      "outputs": [
        {
          "output_type": "stream",
          "name": "stdout",
          "text": [
            "2023 done.\n",
            "Downcasting floats.\n",
            "  team  total_drush_yards  total_games  avg_drush_yards_per_game\n",
            "1  DEN             2344.0           17                137.882353\n",
            "7  WAS             2166.0           17                127.411765\n",
            "4  PIT             2147.0           18                119.277778\n",
            "2  HOU             1935.0           19                101.842105\n",
            "3  MIA             1817.0           18                100.944444\n",
            "5   SF             1982.0           20                 99.100000\n",
            "6   TB             1780.0           19                 93.684211\n",
            "0  CHI             1482.0           17                 87.176471\n"
          ]
        }
      ]
    },
    {
      "cell_type": "markdown",
      "source": [
        "##**Major Takeaways**\n",
        "\n",
        "- The Houston Texans far and away showed the greatest improvement between the 2022 and '23 seasons, increasing their win total from 3 wins to 11 wins and reaching the NFL playoffs, even winning a game in the Wild Card round. Much of this dramatic improvement can be attributed to the addition of rookie QB C.J. Stroud. In 2022, with Davis Mills at QB, the Texans struggled to the tune of 214 Passing yards per game. In 2023 with Stroud, that number was 265 passing yards per game. Beyond this, Mills' \"bad throw\" rate was a whopping 23.2% with a brutal \"on-target\" % of 70%, well below the other QB's I analyzed in this list. Stroud proved to be a large improvement in both categories, posting numbers of 20% and 75%.\n",
        "\n",
        "- The numbers I pulled supported the infamous reputation of the Chicago Bears to be a run-first, poor-passing offense. In both 2022 and 2023, the Bears led my list of teams in rushing yards per game and were last in passing yards per game. Amazingly, the Bears averaged only 152 yards passing per game in 2022! While former QB Justin Fields is a dynamic athlete with an ability to make breathtaking plays, his passing ability simply never developed in Chicago to a place where they could reliably and effectively use his arm. That's why they drafted Caleb Williams with the no.1 overall pick last April.\n",
        "\n",
        "- The consensus top team in my list of selected franchises for this project, the 49ers success appears to have a lot to do with a dominant defense. In both 2022 and 2023, the 49ers reached the postseason, including a super bowl appearance last season. In both 2022 and 2023, the 49ers defense allowed less than 100 yards per game, while improving their pass defense greatly between '22-'23. The offense more than held their own as well, ranking #2 among my teams in both passing and rushing offense in 2023. Interestingly enough, the 49ers have maintained and built upon their offensive success while changing QB's, with Jimmy Garoppolo and Trey Lance both seing extensive reps before coach Mike Shanahan settled on Brock Purdy as the face of the franchise. Those are the ingredients of a well-run franchise that hopes to continue competing for super bowls in the future.\n",
        "\n"
      ],
      "metadata": {
        "id": "LzruXD2cwzDM"
      }
    },
    {
      "cell_type": "markdown",
      "source": [
        "##**Alignment with Research**\n",
        "- In the previous research assignment, I asserted that two of my franchises (the Miami Dolphins and the San Francisco 49ers) in particular are known for creative, balanced, and explosive offenses. I think that assertion is supported by the research in this assignment:\n",
        "  - Miami Dolphins offensive rankings (among my teams)\n",
        "    - Passing: #1\n",
        "    - Rushing: #3\n",
        "  - San Francisco 49ers offensive rankings (among my teams)\n",
        "    - Passing: #2\n",
        "    - Rushing: #2\n",
        "\n",
        "- In addition, I believe this research aligns with the common thought that QB play is the strongest indicator of a team's success. I have previously pointed out with the Houston Texans struggles in 2022 with Davis Mills at QB versus their success in 2023 with rising star C.J. Stroud at the helm, but this isn't the only example in my 8-team scope. In the opposite direction, the Washington Commanders win total decreased 4 games from somewhat-competitive 8-9 record in 2022, to an abysmal 4-13 record in 2023. This correlates with the Commanders' change from the servicable Taylor Heinicke to a young, inexperienced QB in Sam Howell."
      ],
      "metadata": {
        "id": "5b8tQRYkw35s"
      }
    }
  ]
}