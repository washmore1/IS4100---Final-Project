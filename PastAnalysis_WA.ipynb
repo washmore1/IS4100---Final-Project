{
  "cells": [
    {
      "cell_type": "markdown",
      "metadata": {
        "id": "view-in-github",
        "colab_type": "text"
      },
      "source": [
        "<a href=\"https://colab.research.google.com/github/washmore1/IS4100FinalProject/blob/main/PastAnalysis_WA.ipynb\" target=\"_parent\"><img src=\"https://colab.research.google.com/assets/colab-badge.svg\" alt=\"Open In Colab\"/></a>"
      ]
    },
    {
      "cell_type": "code",
      "execution_count": null,
      "metadata": {
        "colab": {
          "base_uri": "https://localhost:8080/"
        },
        "id": "x8zE8WA-xV04",
        "outputId": "ef83baa4-6864-4097-ab61-5533ef18dc9a"
      },
      "outputs": [
        {
          "output_type": "stream",
          "name": "stdout",
          "text": [
            "Requirement already satisfied: nfl_data_py in /usr/local/lib/python3.10/dist-packages (0.3.3)\n",
            "Requirement already satisfied: numpy<2.0,>=1.0 in /usr/local/lib/python3.10/dist-packages (from nfl_data_py) (1.26.4)\n",
            "Requirement already satisfied: pandas<2.0,>=1.0 in /usr/local/lib/python3.10/dist-packages (from nfl_data_py) (1.5.3)\n",
            "Requirement already satisfied: appdirs>1 in /usr/local/lib/python3.10/dist-packages (from nfl_data_py) (1.4.4)\n",
            "Requirement already satisfied: fastparquet>0.5 in /usr/local/lib/python3.10/dist-packages (from nfl_data_py) (2024.11.0)\n",
            "Requirement already satisfied: cramjam>=2.3 in /usr/local/lib/python3.10/dist-packages (from fastparquet>0.5->nfl_data_py) (2.9.0)\n",
            "Requirement already satisfied: fsspec in /usr/local/lib/python3.10/dist-packages (from fastparquet>0.5->nfl_data_py) (2024.10.0)\n",
            "Requirement already satisfied: packaging in /usr/local/lib/python3.10/dist-packages (from fastparquet>0.5->nfl_data_py) (24.2)\n",
            "Requirement already satisfied: python-dateutil>=2.8.1 in /usr/local/lib/python3.10/dist-packages (from pandas<2.0,>=1.0->nfl_data_py) (2.8.2)\n",
            "Requirement already satisfied: pytz>=2020.1 in /usr/local/lib/python3.10/dist-packages (from pandas<2.0,>=1.0->nfl_data_py) (2024.2)\n",
            "Requirement already satisfied: six>=1.5 in /usr/local/lib/python3.10/dist-packages (from python-dateutil>=2.8.1->pandas<2.0,>=1.0->nfl_data_py) (1.16.0)\n"
          ]
        }
      ],
      "source": [
        "!pip install nfl_data_py"
      ]
    },
    {
      "cell_type": "code",
      "execution_count": null,
      "metadata": {
        "id": "50x-oVDIxd6G"
      },
      "outputs": [],
      "source": [
        "import pandas as pd\n",
        "import numpy as np\n",
        "import nfl_data_py as nfl\n",
        "import seaborn as sns\n",
        "import matplotlib.pyplot as plt"
      ]
    },
    {
      "cell_type": "markdown",
      "metadata": {
        "id": "SEVXG2uYwcJX"
      },
      "source": [
        "##**INTRO** - Will Ashmore\n",
        "The goal of my NFL analysis with this project is to better familiarize myself with these 8 teams, gaining a wide-ranging scope of each franchise's place in their respective division, their conference, and in the league as a whole. These teams that I have selected have had and will have varying levels of success on the football field, and I hope to get a deeper look into some of the underlying statistics that can be part of the explanation as to why one franchise tends to be more successful than another.\n",
        "\n",
        "Extending off of this, I am interested in looking at trends of some basic statistics, like passing yardage vs. rushing yardage, and defensive passing yards allowed vs. rushing yards allowed. This allows me to get my feet wet with some easier, more straightforward stats, while getting a better look at what a team is good at and what they struggle at. In addition, this will give a glimpse at the varying styles of play that each team in my selections deploy. Teams like the San Francisco 49ers and the Miami Dolphins have built strong reputations for running creative offenses, with unique formations and play concepts that are different from the traditional, pro-style offenses that the New Orleans Saints and Tampa Bay Buccaneers have utilized in recent memory."
      ]
    },
    {
      "cell_type": "markdown",
      "metadata": {
        "id": "U2OC-MMmwbH2"
      },
      "source": [
        "##**Team Analysis (2022)**"
      ]
    },
    {
      "cell_type": "markdown",
      "metadata": {
        "id": "KcuKPXW3KvAb"
      },
      "source": [
        "## 2022 Season Results"
      ]
    },
    {
      "cell_type": "code",
      "execution_count": null,
      "metadata": {
        "colab": {
          "base_uri": "https://localhost:8080/"
        },
        "id": "_gOBhxtywsJ-",
        "outputId": "766cb5c7-651f-4658-ec2a-36ad0a4dc85b"
      },
      "outputs": [
        {
          "output_type": "stream",
          "name": "stdout",
          "text": [
            "\n",
            "MIA 2022 Record: 9 Wins, 9 Losses\n",
            "\n",
            "PIT 2022 Record: 9 Wins, 8 Losses\n",
            "\n",
            "HOU 2022 Record: 3 Wins, 14 Losses\n",
            "\n",
            "DEN 2022 Record: 5 Wins, 12 Losses\n",
            "\n",
            "WAS 2022 Record: 8 Wins, 9 Losses\n",
            "\n",
            "CHI 2022 Record: 3 Wins, 14 Losses\n",
            "\n",
            "TB 2022 Record: 8 Wins, 10 Losses\n",
            "\n",
            "SF 2022 Record: 15 Wins, 5 Losses\n"
          ]
        }
      ],
      "source": [
        "df = nfl.import_schedules([2022])\n",
        "def calculate_win_loss(team, df):\n",
        "\n",
        "    team_df = df[(df['home_team'] == team) | (df['away_team'] == team)]\n",
        "\n",
        "    wins = 0\n",
        "    losses = 0\n",
        "\n",
        "    for _, row in team_df.iterrows():\n",
        "        if (row['home_team'] == team and row['home_score'] > row['away_score']) or \\\n",
        "           (row['away_team'] == team and row['away_score'] > row['home_score']):\n",
        "            wins += 1\n",
        "        else:\n",
        "            losses += 1\n",
        "\n",
        "    return wins, losses\n",
        "\n",
        "\n",
        "# List of teams\n",
        "teams = ['MIA', 'PIT', 'HOU', 'DEN', 'WAS', 'CHI', 'TB', 'SF']\n",
        "\n",
        "# Calculate and display the win-loss record for each team\n",
        "for team in teams:\n",
        "    wins, losses = calculate_win_loss(team, df)\n",
        "    print(f\"\\n{team} 2022 Record: {wins} Wins, {losses} Losses\")"
      ]
    },
    {
      "cell_type": "code",
      "execution_count": null,
      "metadata": {
        "colab": {
          "base_uri": "https://localhost:8080/"
        },
        "id": "YJtHPfpt5yUd",
        "outputId": "69fb12b0-922a-4d62-f151-fd6acd0f15a8"
      },
      "outputs": [
        {
          "output_type": "stream",
          "name": "stdout",
          "text": [
            "2022 done.\n",
            "Downcasting floats.\n",
            "MIA Reached the NFL postseason.\n",
            "PIT did not qualify for the NFL postseason.\n",
            "HOU did not qualify for the NFL postseason.\n",
            "DEN did not qualify for the NFL postseason.\n",
            "WSH did not qualify for the NFL postseason.\n",
            "CHI did not qualify for the NFL postseason.\n",
            "TB Reached the NFL postseason.\n",
            "SF Reached the NFL postseason.\n"
          ]
        }
      ],
      "source": [
        "teams_to_check = ['MIA', 'PIT', 'HOU', 'DEN', 'WSH', 'CHI', 'TB', 'SF']\n",
        "\n",
        "pbp_data_2022 = nfl.import_pbp_data([2022])\n",
        "postseason_games = pbp_data_2022[pbp_data_2022['season_type'] == 'POST']\n",
        "\n",
        "for team in teams_to_check:\n",
        "    if (team in postseason_games['home_team'].values) or (team in postseason_games['away_team'].values):\n",
        "        print(f\"{team} Reached the NFL postseason.\")\n",
        "    else:\n",
        "        print(f\"{team} did not qualify for the NFL postseason.\")"
      ]
    },
    {
      "cell_type": "markdown",
      "metadata": {
        "id": "p39J62QTKpBG"
      },
      "source": [
        "## 2022 Starting QB's"
      ]
    },
    {
      "cell_type": "code",
      "execution_count": null,
      "metadata": {
        "colab": {
          "base_uri": "https://localhost:8080/"
        },
        "id": "j1Ny56fdKnls",
        "outputId": "502930fd-c49a-4732-bd5b-5dd2cc72b03b"
      },
      "outputs": [
        {
          "output_type": "stream",
          "name": "stdout",
          "text": [
            "      club_code        full_name position depth_team\n",
            "3248        CHI    Justin Fields       QB          1\n",
            "8324        DEN   Russell Wilson       QB          1\n",
            "17350       MIA   Tua Tagovailoa       QB          1\n",
            "27042       PIT    Kenny Pickett       QB          1\n",
            "29333        SF  Jimmy Garoppolo       QB          1\n",
            "31886        TB        Tom Brady       QB          1\n",
            "33114       WAS  Taylor Heinicke       QB          1\n",
            "37524       HOU      Davis Mills       QB          1\n"
          ]
        }
      ],
      "source": [
        "depth_charts_2022 = nfl.import_depth_charts([2022])\n",
        "\n",
        "my_teams = ['MIA', 'PIT', 'HOU', 'DEN', 'WAS', 'CHI', 'TB', 'SF']\n",
        "\n",
        "starting_qbs = depth_charts_2022[\n",
        "    (depth_charts_2022['position'] == 'QB') &\n",
        "    (depth_charts_2022['depth_team'] == '1') &\n",
        "    (depth_charts_2022['club_code'].isin(my_teams) &\n",
        "    (depth_charts_2022['week'] == 15.0))\n",
        "\n",
        "]\n",
        "print(starting_qbs[['club_code', 'full_name', 'position', 'depth_team']])\n"
      ]
    },
    {
      "cell_type": "code",
      "execution_count": null,
      "metadata": {
        "colab": {
          "base_uri": "https://localhost:8080/"
        },
        "id": "XkX4tbs9MtTd",
        "outputId": "a140c86c-4b91-4945-cfec-3896a475ac2d"
      },
      "outputs": [
        {
          "output_type": "stream",
          "name": "stdout",
          "text": [
            "              player team  bad_throw_pct  on_tgt_pct\n",
            "437        Tom Brady   TB           16.4        77.1\n",
            "446   Tua Tagovailoa  MIA           15.8        76.7\n",
            "447   Russell Wilson  DEN           15.6        73.3\n",
            "450      Davis Mills  HOU           23.2        70.6\n",
            "457  Jimmy Garoppolo   SF           12.7        74.5\n",
            "458    Kenny Pickett  PIT           18.2        72.1\n",
            "460    Justin Fields  CHI           19.3        71.1\n",
            "465  Taylor Heinicke  WAS           18.1        72.8\n"
          ]
        }
      ],
      "source": [
        "# np.argmax()\n",
        "qb_stats22 = nfl.import_seasonal_pfr('pass',[2022])\n",
        "my_qbs = ['Tua Tagovailoa', 'Kenny Pickett', 'Davis Mills', 'Russell Wilson',\n",
        "          'Taylor Heinicke', 'Justin Fields', 'Tom Brady', 'Jimmy Garoppolo']\n",
        "print_qbs = qb_stats22[\n",
        "    (qb_stats22['player'].isin(my_qbs))\n",
        "]\n",
        "\n",
        "print(print_qbs[['player', 'team', 'bad_throw_pct', 'on_tgt_pct']])"
      ]
    },
    {
      "cell_type": "markdown",
      "metadata": {
        "id": "YalsdfSjwKR1"
      },
      "source": [
        "## 2022 Passing Stats"
      ]
    },
    {
      "cell_type": "code",
      "execution_count": null,
      "metadata": {
        "colab": {
          "base_uri": "https://localhost:8080/"
        },
        "id": "uusyw2k5ggI-",
        "outputId": "301b2f0c-7cef-4220-f713-0819c7429761"
      },
      "outputs": [
        {
          "output_type": "stream",
          "name": "stdout",
          "text": [
            "2022 done.\n",
            "Downcasting floats.\n",
            "  team  total_passing_yards  total_games  avg_passing_yards_per_game\n",
            "6   TB               5097.0           18                  283.166667\n",
            "3  MIA               4985.0           18                  276.944444\n",
            "1  DEN               4007.0           17                  235.705882\n",
            "5   SF               4692.0           20                  234.600000\n",
            "7  WAS               3783.0           17                  222.529412\n",
            "4  PIT               3661.0           17                  215.352941\n",
            "2  HOU               3642.0           17                  214.235294\n",
            "0  CHI               2598.0           17                  152.823529\n"
          ]
        }
      ],
      "source": [
        "pbp_data_2022 = nfl.import_pbp_data([2022])\n",
        "\n",
        "my_teams = ['MIA', 'PIT', 'HOU', 'DEN', 'WAS', 'CHI', 'TB', 'SF']\n",
        "\n",
        "passing_plays = pbp_data_2022[pbp_data_2022['play_type'] == 'pass']\n",
        "\n",
        "passing_plays_filtered = passing_plays[passing_plays['posteam'].isin(my_teams)]\n",
        "\n",
        "passing_yards_per_game = passing_plays_filtered.groupby(['posteam', 'game_id'])['passing_yards'].sum().reset_index()\n",
        "\n",
        "games_per_team = passing_yards_per_game.groupby('posteam')['game_id'].nunique().reset_index()\n",
        "games_per_team.columns = ['team', 'total_games']\n",
        "\n",
        "total_passing_yards_per_team = passing_yards_per_game.groupby('posteam')['passing_yards'].sum().reset_index()\n",
        "total_passing_yards_per_team.columns = ['team', 'total_passing_yards']\n",
        "\n",
        "team_stats = pd.merge(total_passing_yards_per_team, games_per_team, on='team')\n",
        "\n",
        "team_stats['avg_passing_yards_per_game'] = team_stats['total_passing_yards'] / team_stats['total_games']\n",
        "\n",
        "team_stats = team_stats.sort_values(by='avg_passing_yards_per_game', ascending=False)\n",
        "\n",
        "print(team_stats[['team', 'total_passing_yards', 'total_games', 'avg_passing_yards_per_game']])"
      ]
    },
    {
      "cell_type": "markdown",
      "metadata": {
        "id": "5QPwbcMrwSm7"
      },
      "source": [
        "## 2022 Rushing Stats"
      ]
    },
    {
      "cell_type": "code",
      "execution_count": null,
      "metadata": {
        "colab": {
          "base_uri": "https://localhost:8080/"
        },
        "id": "ToBewGX8wVt3",
        "outputId": "d47403b1-e5f9-4042-c5e6-5e92ea5cdee6"
      },
      "outputs": [
        {
          "output_type": "stream",
          "name": "stdout",
          "text": [
            "2022 done.\n",
            "Downcasting floats.\n",
            "  team  total_rushing_yards  total_games  avg_rushing_yards_per_game\n",
            "0  CHI               3024.0           17                  177.882353\n",
            "5   SF               2754.0           20                  137.700000\n",
            "7  WAS               2154.0           17                  126.705882\n",
            "4  PIT               2085.0           17                  122.647059\n",
            "1  DEN               1944.0           17                  114.352941\n",
            "3  MIA               1735.0           18                   96.388889\n",
            "2  HOU               1485.0           17                   87.352941\n",
            "6   TB               1373.0           18                   76.277778\n"
          ]
        }
      ],
      "source": [
        "pbp_data_2022 = nfl.import_pbp_data([2022])\n",
        "\n",
        "my_teams = ['MIA', 'PIT', 'HOU', 'DEN', 'WAS', 'CHI', 'TB', 'SF']\n",
        "\n",
        "rushing_plays = pbp_data_2022[pbp_data_2022['play_type'] == 'run']\n",
        "\n",
        "rushing_plays_filtered = rushing_plays[rushing_plays['posteam'].isin(my_teams)]\n",
        "\n",
        "rushing_yards_per_game = rushing_plays_filtered.groupby(['posteam', 'game_id'])['rushing_yards'].sum().reset_index()\n",
        "\n",
        "games_per_team = passing_yards_per_game.groupby('posteam')['game_id'].nunique().reset_index()\n",
        "games_per_team.columns = ['team', 'total_games']\n",
        "\n",
        "total_rushing_yards_per_team = rushing_yards_per_game.groupby('posteam')['rushing_yards'].sum().reset_index()\n",
        "total_rushing_yards_per_team.columns = ['team', 'total_rushing_yards']\n",
        "\n",
        "team_stats = pd.merge(total_rushing_yards_per_team, games_per_team, on='team')\n",
        "\n",
        "team_stats['avg_rushing_yards_per_game'] = team_stats['total_rushing_yards'] / team_stats['total_games']\n",
        "\n",
        "team_stats = team_stats.sort_values(by='avg_rushing_yards_per_game', ascending=False)\n",
        "\n",
        "print(team_stats[['team', 'total_rushing_yards', 'total_games', 'avg_rushing_yards_per_game']])"
      ]
    },
    {
      "cell_type": "markdown",
      "metadata": {
        "id": "R6MRrCkkx5cJ"
      },
      "source": [
        "## 2022 Passing Defense"
      ]
    },
    {
      "cell_type": "code",
      "execution_count": null,
      "metadata": {
        "colab": {
          "base_uri": "https://localhost:8080/"
        },
        "id": "HOqdhtxYzHL4",
        "outputId": "daa54662-f39a-471a-d3e9-91420f96aa5a"
      },
      "outputs": [
        {
          "output_type": "stream",
          "name": "stdout",
          "text": [
            "2022 done.\n",
            "Downcasting floats.\n",
            "  team  total_dpassing_yards  total_games  avg_dpassing_yards_per_game\n",
            "3  MIA                4634.0           18                   257.444444\n",
            "4  PIT                4066.0           17                   239.176471\n",
            "5   SF                4676.0           20                   233.800000\n",
            "6   TB                4097.0           18                   227.611111\n",
            "0  CHI                3840.0           17                   225.882353\n",
            "1  DEN                3819.0           17                   224.647059\n",
            "2  HOU                3775.0           17                   222.058824\n",
            "7  WAS                3531.0           17                   207.705882\n"
          ]
        }
      ],
      "source": [
        "pbp_data_2022 = nfl.import_pbp_data([2022])\n",
        "\n",
        "my_teams = ['MIA', 'PIT', 'HOU', 'DEN', 'WAS', 'CHI', 'TB', 'SF']\n",
        "\n",
        "dpassing_plays = pbp_data_2022[pbp_data_2022['play_type'] == 'pass']\n",
        "\n",
        "dpassing_plays_filtered = dpassing_plays[dpassing_plays['defteam'].isin(my_teams)]\n",
        "\n",
        "dpassing_yards_per_game = dpassing_plays_filtered.groupby(['defteam', 'game_id'])['passing_yards'].sum().reset_index()\n",
        "\n",
        "games_per_team = dpassing_yards_per_game.groupby('defteam')['game_id'].nunique().reset_index()\n",
        "games_per_team.columns = ['team', 'total_games']\n",
        "\n",
        "total_dpassing_yards_per_team = dpassing_yards_per_game.groupby('defteam')['passing_yards'].sum().reset_index()\n",
        "total_dpassing_yards_per_team.columns = ['team', 'total_dpassing_yards']\n",
        "\n",
        "team_stats = pd.merge(total_dpassing_yards_per_team, games_per_team, on='team')\n",
        "\n",
        "team_stats['avg_dpassing_yards_per_game'] = team_stats['total_dpassing_yards'] / team_stats['total_games']\n",
        "\n",
        "team_stats = team_stats.sort_values(by='avg_dpassing_yards_per_game', ascending=False)\n",
        "\n",
        "print(team_stats[['team', 'total_dpassing_yards', 'total_games', 'avg_dpassing_yards_per_game']])"
      ]
    },
    {
      "cell_type": "markdown",
      "metadata": {
        "id": "4NQQtilS0ogL"
      },
      "source": [
        "## 2022 Rushing Defense"
      ]
    },
    {
      "cell_type": "code",
      "execution_count": null,
      "metadata": {
        "colab": {
          "base_uri": "https://localhost:8080/"
        },
        "id": "73UVFcXz0yDD",
        "outputId": "b19cc6bc-3257-4b7d-fbfd-e8487de07896"
      },
      "outputs": [
        {
          "output_type": "stream",
          "name": "stdout",
          "text": [
            "2022 done.\n",
            "Downcasting floats.\n",
            "  team  total_drush_yards  total_games  avg_drush_yards_per_game\n",
            "2  HOU             2908.0           17                171.058824\n",
            "0  CHI             2696.0           17                158.588235\n",
            "6   TB             2192.0           18                121.777778\n",
            "7  WAS             1940.0           17                114.117647\n",
            "1  DEN             1881.0           17                110.647059\n",
            "4  PIT             1860.0           17                109.411765\n",
            "3  MIA             1888.0           18                104.888889\n",
            "5   SF             1663.0           20                 83.150000\n"
          ]
        }
      ],
      "source": [
        "pbp_data_2022 = nfl.import_pbp_data([2022])\n",
        "\n",
        "my_teams = ['MIA', 'PIT', 'HOU', 'DEN', 'WAS', 'CHI', 'TB', 'SF']\n",
        "\n",
        "drush_plays = pbp_data_2022[pbp_data_2022['play_type'] == 'run']\n",
        "\n",
        "drush_plays_filtered = drush_plays[drush_plays['defteam'].isin(my_teams)]\n",
        "\n",
        "drush_yards_per_game = drush_plays_filtered.groupby(['defteam', 'game_id'])['rushing_yards'].sum().reset_index()\n",
        "\n",
        "games_per_team = drush_yards_per_game.groupby('defteam')['game_id'].nunique().reset_index()\n",
        "games_per_team.columns = ['team', 'total_games']\n",
        "\n",
        "total_drush_yards_per_team = drush_yards_per_game.groupby('defteam')['rushing_yards'].sum().reset_index()\n",
        "total_drush_yards_per_team.columns = ['team', 'total_drush_yards']\n",
        "\n",
        "team_stats = pd.merge(total_drush_yards_per_team, games_per_team, on='team')\n",
        "\n",
        "team_stats['avg_drush_yards_per_game'] = team_stats['total_drush_yards'] / team_stats['total_games']\n",
        "\n",
        "team_stats = team_stats.sort_values(by='avg_drush_yards_per_game', ascending=False)\n",
        "\n",
        "print(team_stats[['team', 'total_drush_yards', 'total_games', 'avg_drush_yards_per_game']])"
      ]
    },
    {
      "cell_type": "markdown",
      "metadata": {
        "id": "Wpa-kL3twsb8"
      },
      "source": [
        "##**Team Analysis (2023)**"
      ]
    },
    {
      "cell_type": "markdown",
      "metadata": {
        "id": "6IV8rsXOK7Is"
      },
      "source": [
        "## 2023 Season Results"
      ]
    },
    {
      "cell_type": "code",
      "execution_count": null,
      "metadata": {
        "colab": {
          "base_uri": "https://localhost:8080/"
        },
        "id": "48f59C3swyhk",
        "outputId": "54f30759-dd38-49c7-f544-611c859f0f6b"
      },
      "outputs": [
        {
          "output_type": "stream",
          "name": "stdout",
          "text": [
            "\n",
            "MIA 2023 Record: 11 Wins, 7 Losses\n",
            "\n",
            "PIT 2023 Record: 10 Wins, 8 Losses\n",
            "\n",
            "HOU 2023 Record: 11 Wins, 8 Losses\n",
            "\n",
            "DEN 2023 Record: 8 Wins, 9 Losses\n",
            "\n",
            "WAS 2023 Record: 4 Wins, 13 Losses\n",
            "\n",
            "CHI 2023 Record: 7 Wins, 10 Losses\n",
            "\n",
            "TB 2023 Record: 10 Wins, 9 Losses\n",
            "\n",
            "SF 2023 Record: 14 Wins, 6 Losses\n"
          ]
        }
      ],
      "source": [
        "df = nfl.import_schedules([2023])\n",
        "def calculate_win_loss(team, df):\n",
        "\n",
        "    team_df = df[(df['home_team'] == team) | (df['away_team'] == team)]\n",
        "\n",
        "    wins = 0\n",
        "    losses = 0\n",
        "\n",
        "    for _, row in team_df.iterrows():\n",
        "        if (row['home_team'] == team and row['home_score'] > row['away_score']) or \\\n",
        "           (row['away_team'] == team and row['away_score'] > row['home_score']):\n",
        "            wins += 1\n",
        "        else:\n",
        "            losses += 1\n",
        "\n",
        "    return wins, losses\n",
        "\n",
        "\n",
        "# List of teams\n",
        "teams = ['MIA', 'PIT', 'HOU', 'DEN', 'WAS', 'CHI', 'TB', 'SF']\n",
        "\n",
        "# Calculate and display the win-loss record for each team\n",
        "for team in teams:\n",
        "    wins, losses = calculate_win_loss(team, df)\n",
        "    print(f\"\\n{team} 2023 Record: {wins} Wins, {losses} Losses\")"
      ]
    },
    {
      "cell_type": "code",
      "execution_count": null,
      "metadata": {
        "colab": {
          "base_uri": "https://localhost:8080/"
        },
        "id": "7mSposE46MZL",
        "outputId": "f2c7f0a7-21ac-4399-d034-fb3c6f355045"
      },
      "outputs": [
        {
          "output_type": "stream",
          "name": "stdout",
          "text": [
            "2023 done.\n",
            "Downcasting floats.\n",
            "MIA Reached the NFL postseason.\n",
            "PIT Reached the NFL postseason.\n",
            "HOU Reached the NFL postseason.\n",
            "DEN did not qualify for the NFL postseason.\n",
            "WSH did not qualify for the NFL postseason.\n",
            "CHI did not qualify for the NFL postseason.\n",
            "TB Reached the NFL postseason.\n",
            "SF Reached the NFL postseason.\n"
          ]
        }
      ],
      "source": [
        "teams_to_check = ['MIA', 'PIT', 'HOU', 'DEN', 'WSH', 'CHI', 'TB', 'SF']\n",
        "\n",
        "pbp_data_2023 = nfl.import_pbp_data([2023])\n",
        "postseason_games = pbp_data_2023[pbp_data_2023['season_type'] == 'POST']\n",
        "\n",
        "for team in teams_to_check:\n",
        "    if (team in postseason_games['home_team'].values) or (team in postseason_games['away_team'].values):\n",
        "        print(f\"{team} Reached the NFL postseason.\")\n",
        "    else:\n",
        "        print(f\"{team} did not qualify for the NFL postseason.\")"
      ]
    },
    {
      "cell_type": "markdown",
      "metadata": {
        "id": "5yp75CuHLBRJ"
      },
      "source": [
        "## 2023 Starting QB's"
      ]
    },
    {
      "cell_type": "code",
      "execution_count": null,
      "metadata": {
        "colab": {
          "base_uri": "https://localhost:8080/"
        },
        "id": "RYb33EBmLAvm",
        "outputId": "e6e55aca-94f3-4eeb-d5b8-48a9133a6a14"
      },
      "outputs": [
        {
          "output_type": "stream",
          "name": "stdout",
          "text": [
            "      club_code       full_name position depth_team\n",
            "2494        CHI   Justin Fields       QB          1\n",
            "7854        DEN  Russell Wilson       QB          1\n",
            "17497       MIA  Tua Tagovailoa       QB          1\n",
            "26629       PIT   Kenny Pickett       QB          1\n",
            "28310        SF     Brock Purdy       QB          1\n",
            "31399        TB  Baker Mayfield       QB          1\n",
            "32703       WAS      Sam Howell       QB          1\n",
            "36919       HOU     C.J. Stroud       QB          1\n"
          ]
        }
      ],
      "source": [
        "depth_charts_2023 = nfl.import_depth_charts([2023])\n",
        "\n",
        "my_teams = ['MIA', 'PIT', 'HOU', 'DEN', 'WAS', 'CHI', 'TB', 'SF']\n",
        "\n",
        "starting_qbs = depth_charts_2023[\n",
        "    (depth_charts_2023['position'] == 'QB') &\n",
        "    (depth_charts_2023['depth_team'] == '1') &\n",
        "    (depth_charts_2023['club_code'].isin(my_teams) &\n",
        "    (depth_charts_2023['week'] == 15.0))\n",
        "]\n",
        "print(starting_qbs[['club_code', 'full_name', 'position', 'depth_team']])"
      ]
    },
    {
      "cell_type": "code",
      "execution_count": null,
      "metadata": {
        "colab": {
          "base_uri": "https://localhost:8080/"
        },
        "id": "brZv_vN2aFBl",
        "outputId": "93eab1f7-ea92-4a9f-c1b3-a99e3880f324"
      },
      "outputs": [
        {
          "output_type": "stream",
          "name": "stdout",
          "text": [
            "             player team  bad_throw_pct  on_tgt_pct\n",
            "541  Tua Tagovailoa  MIA           14.3        79.0\n",
            "545     Brock Purdy   SF           16.3        75.5\n",
            "548     C.J. Stroud  HOU           19.9        74.8\n",
            "549  Baker Mayfield   TB           14.8        74.9\n",
            "552      Sam Howell  WAS           15.2        73.7\n",
            "559  Russell Wilson  DEN           13.2        77.9\n",
            "562   Justin Fields  CHI           16.8        73.0\n",
            "569   Kenny Pickett  PIT           18.4        71.6\n"
          ]
        }
      ],
      "source": [
        "qb_stats23 = nfl.import_seasonal_pfr('pass',[2023])\n",
        "my_qbs = ['Tua Tagovailoa', 'Kenny Pickett', 'C.J. Stroud', 'Russell Wilson',\n",
        "          'Sam Howell', 'Justin Fields', 'Baker Mayfield', 'Brock Purdy']\n",
        "print_qbs = qb_stats23[\n",
        "    (qb_stats23['player'].isin(my_qbs))\n",
        "]\n",
        "\n",
        "print(print_qbs[['player', 'team', 'bad_throw_pct', 'on_tgt_pct']])"
      ]
    },
    {
      "cell_type": "markdown",
      "metadata": {
        "id": "8l8wfzE3v1Wx"
      },
      "source": [
        "## 2023 Passing Stats"
      ]
    },
    {
      "cell_type": "code",
      "execution_count": null,
      "metadata": {
        "colab": {
          "base_uri": "https://localhost:8080/"
        },
        "id": "vBgEe4Tbvrhn",
        "outputId": "16f77cc3-51b5-4b1e-9280-1704e1a43d29"
      },
      "outputs": [
        {
          "output_type": "stream",
          "name": "stdout",
          "text": [
            "2023 done.\n",
            "Downcasting floats.\n",
            "  team  total_passing_yards  total_games  avg_passing_yards_per_game\n",
            "3  MIA               4897.0           18                  272.055556\n",
            "5   SF               5372.0           20                  268.600000\n",
            "2  HOU               5033.0           19                  264.894737\n",
            "6   TB               4730.0           19                  248.947368\n",
            "7  WAS               4174.0           17                  245.529412\n",
            "1  DEN               3566.0           17                  209.764706\n",
            "4  PIT               3650.0           18                  202.777778\n",
            "0  CHI               3421.0           17                  201.235294\n"
          ]
        }
      ],
      "source": [
        "pbp_data_2023 = nfl.import_pbp_data([2023])\n",
        "\n",
        "my_teams = ['MIA', 'PIT', 'HOU', 'DEN', 'WAS', 'CHI', 'TB', 'SF']\n",
        "\n",
        "passing_plays = pbp_data_2023[pbp_data_2023['play_type'] == 'pass']\n",
        "\n",
        "passing_plays_filtered = passing_plays[passing_plays['posteam'].isin(my_teams)]\n",
        "\n",
        "passing_yards_per_game = passing_plays_filtered.groupby(['posteam', 'game_id'])['passing_yards'].sum().reset_index()\n",
        "\n",
        "games_per_team = passing_yards_per_game.groupby('posteam')['game_id'].nunique().reset_index()\n",
        "games_per_team.columns = ['team', 'total_games']\n",
        "\n",
        "total_passing_yards_per_team = passing_yards_per_game.groupby('posteam')['passing_yards'].sum().reset_index()\n",
        "total_passing_yards_per_team.columns = ['team', 'total_passing_yards']\n",
        "\n",
        "team_stats = pd.merge(total_passing_yards_per_team, games_per_team, on='team')\n",
        "\n",
        "team_stats['avg_passing_yards_per_game'] = team_stats['total_passing_yards'] / team_stats['total_games']\n",
        "\n",
        "team_stats = team_stats.sort_values(by='avg_passing_yards_per_game', ascending=False)\n",
        "\n",
        "print(team_stats[['team', 'total_passing_yards', 'total_games', 'avg_passing_yards_per_game']])"
      ]
    },
    {
      "cell_type": "markdown",
      "metadata": {
        "id": "3EofK4sexCIT"
      },
      "source": [
        "## 2023 Rushing Stats"
      ]
    },
    {
      "cell_type": "code",
      "execution_count": null,
      "metadata": {
        "colab": {
          "base_uri": "https://localhost:8080/"
        },
        "id": "52Wlv3rJxFY5",
        "outputId": "119cb5ac-b6f9-4a0f-f3a4-1fd91af1461e"
      },
      "outputs": [
        {
          "output_type": "stream",
          "name": "stdout",
          "text": [
            "2023 done.\n",
            "Downcasting floats.\n",
            "  team  total_rushing_yards  total_games  avg_rushing_yards_per_game\n",
            "0  CHI               2418.0           17                  142.235294\n",
            "5   SF               2795.0           20                  139.750000\n",
            "3  MIA               2403.0           18                  133.500000\n",
            "4  PIT               2143.0           18                  119.055556\n",
            "1  DEN               1831.0           17                  107.705882\n",
            "7  WAS               1596.0           17                   93.882353\n",
            "2  HOU               1760.0           19                   92.631579\n",
            "6   TB               1738.0           19                   91.473684\n"
          ]
        }
      ],
      "source": [
        "pbp_data_2023 = nfl.import_pbp_data([2023])\n",
        "\n",
        "my_teams = ['MIA', 'PIT', 'HOU', 'DEN', 'WAS', 'CHI', 'TB', 'SF']\n",
        "\n",
        "rushing_plays = pbp_data_2023[pbp_data_2023['play_type'] == 'run']\n",
        "\n",
        "rushing_plays_filtered = rushing_plays[rushing_plays['posteam'].isin(my_teams)]\n",
        "\n",
        "rushing_yards_per_game = rushing_plays_filtered.groupby(['posteam', 'game_id'])['rushing_yards'].sum().reset_index()\n",
        "\n",
        "games_per_team = passing_yards_per_game.groupby('posteam')['game_id'].nunique().reset_index()\n",
        "games_per_team.columns = ['team', 'total_games']\n",
        "\n",
        "total_rushing_yards_per_team = rushing_yards_per_game.groupby('posteam')['rushing_yards'].sum().reset_index()\n",
        "total_rushing_yards_per_team.columns = ['team', 'total_rushing_yards']\n",
        "\n",
        "team_stats = pd.merge(total_rushing_yards_per_team, games_per_team, on='team')\n",
        "\n",
        "team_stats['avg_rushing_yards_per_game'] = team_stats['total_rushing_yards'] / team_stats['total_games']\n",
        "\n",
        "team_stats = team_stats.sort_values(by='avg_rushing_yards_per_game', ascending=False)\n",
        "\n",
        "print(team_stats[['team', 'total_rushing_yards', 'total_games', 'avg_rushing_yards_per_game']])"
      ]
    },
    {
      "cell_type": "markdown",
      "metadata": {
        "id": "jKSU4O8O0Ii1"
      },
      "source": [
        "## 2023 Passing Defense"
      ]
    },
    {
      "cell_type": "code",
      "execution_count": null,
      "metadata": {
        "colab": {
          "base_uri": "https://localhost:8080/"
        },
        "id": "tVewdeO20QmC",
        "outputId": "27efb192-1d43-4b91-bc52-4f53f2fcc3dd"
      },
      "outputs": [
        {
          "output_type": "stream",
          "name": "stdout",
          "text": [
            "2023 done.\n",
            "Downcasting floats.\n",
            "  team  total_dpassing_yards  total_games  avg_dpassing_yards_per_game\n",
            "7  WAS                4627.0           17                   272.176471\n",
            "6   TB                5105.0           19                   268.684211\n",
            "1  DEN                4302.0           17                   253.058824\n",
            "2  HOU                4793.0           19                   252.263158\n",
            "0  CHI                4245.0           17                   249.705882\n",
            "3  MIA                4394.0           18                   244.111111\n",
            "4  PIT                4367.0           18                   242.611111\n",
            "5   SF                4749.0           20                   237.450000\n"
          ]
        }
      ],
      "source": [
        "pbp_data_2023 = nfl.import_pbp_data([2023])\n",
        "\n",
        "my_teams = ['MIA', 'PIT', 'HOU', 'DEN', 'WAS', 'CHI', 'TB', 'SF']\n",
        "\n",
        "dpassing_plays = pbp_data_2023[pbp_data_2023['play_type'] == 'pass']\n",
        "\n",
        "dpassing_plays_filtered = dpassing_plays[dpassing_plays['defteam'].isin(my_teams)]\n",
        "\n",
        "dpassing_yards_per_game = dpassing_plays_filtered.groupby(['defteam', 'game_id'])['passing_yards'].sum().reset_index()\n",
        "\n",
        "games_per_team = dpassing_yards_per_game.groupby('defteam')['game_id'].nunique().reset_index()\n",
        "games_per_team.columns = ['team', 'total_games']\n",
        "\n",
        "total_dpassing_yards_per_team = dpassing_yards_per_game.groupby('defteam')['passing_yards'].sum().reset_index()\n",
        "total_dpassing_yards_per_team.columns = ['team', 'total_dpassing_yards']\n",
        "\n",
        "team_stats = pd.merge(total_dpassing_yards_per_team, games_per_team, on='team')\n",
        "\n",
        "team_stats['avg_dpassing_yards_per_game'] = team_stats['total_dpassing_yards'] / team_stats['total_games']\n",
        "\n",
        "team_stats = team_stats.sort_values(by='avg_dpassing_yards_per_game', ascending=False)\n",
        "\n",
        "print(team_stats[['team', 'total_dpassing_yards', 'total_games', 'avg_dpassing_yards_per_game']])"
      ]
    },
    {
      "cell_type": "markdown",
      "metadata": {
        "id": "51Gz81ZN2orA"
      },
      "source": [
        "## 2023 Rushing Defense"
      ]
    },
    {
      "cell_type": "code",
      "execution_count": null,
      "metadata": {
        "colab": {
          "base_uri": "https://localhost:8080/"
        },
        "id": "ZUbazHfa2twA",
        "outputId": "67a90e9b-c0f3-4087-e336-97b951ea9aeb"
      },
      "outputs": [
        {
          "output_type": "stream",
          "name": "stdout",
          "text": [
            "2023 done.\n",
            "Downcasting floats.\n",
            "  team  total_drush_yards  total_games  avg_drush_yards_per_game\n",
            "1  DEN             2344.0           17                137.882353\n",
            "7  WAS             2166.0           17                127.411765\n",
            "4  PIT             2147.0           18                119.277778\n",
            "2  HOU             1935.0           19                101.842105\n",
            "3  MIA             1817.0           18                100.944444\n",
            "5   SF             1982.0           20                 99.100000\n",
            "6   TB             1780.0           19                 93.684211\n",
            "0  CHI             1482.0           17                 87.176471\n"
          ]
        }
      ],
      "source": [
        "pbp_data_2023 = nfl.import_pbp_data([2023])\n",
        "\n",
        "my_teams = ['MIA', 'PIT', 'HOU', 'DEN', 'WAS', 'CHI', 'TB', 'SF']\n",
        "\n",
        "drush_plays = pbp_data_2023[pbp_data_2023['play_type'] == 'run']\n",
        "\n",
        "drush_plays_filtered = drush_plays[drush_plays['defteam'].isin(my_teams)]\n",
        "\n",
        "drush_yards_per_game = drush_plays_filtered.groupby(['defteam', 'game_id'])['rushing_yards'].sum().reset_index()\n",
        "\n",
        "games_per_team = drush_yards_per_game.groupby('defteam')['game_id'].nunique().reset_index()\n",
        "games_per_team.columns = ['team', 'total_games']\n",
        "\n",
        "total_drush_yards_per_team = drush_yards_per_game.groupby('defteam')['rushing_yards'].sum().reset_index()\n",
        "total_drush_yards_per_team.columns = ['team', 'total_drush_yards']\n",
        "\n",
        "team_stats = pd.merge(total_drush_yards_per_team, games_per_team, on='team')\n",
        "\n",
        "team_stats['avg_drush_yards_per_game'] = team_stats['total_drush_yards'] / team_stats['total_games']\n",
        "\n",
        "team_stats = team_stats.sort_values(by='avg_drush_yards_per_game', ascending=False)\n",
        "\n",
        "print(team_stats[['team', 'total_drush_yards', 'total_games', 'avg_drush_yards_per_game']])"
      ]
    },
    {
      "cell_type": "markdown",
      "metadata": {
        "id": "LzruXD2cwzDM"
      },
      "source": [
        "##**Major Takeaways**\n",
        "\n",
        "- The Houston Texans far and away showed the greatest improvement between the 2022 and '23 seasons, increasing their win total from 3 wins to 11 wins and reaching the NFL playoffs, even winning a game in the Wild Card round. Much of this dramatic improvement can be attributed to the addition of rookie QB C.J. Stroud. In 2022, with Davis Mills at QB, the Texans struggled to the tune of 214 Passing yards per game. In 2023 with Stroud, that number was 265 passing yards per game. Beyond this, Mills' \"bad throw\" rate was a whopping 23.2% with a brutal \"on-target\" % of 70%, well below the other QB's I analyzed in this list. Stroud proved to be a large improvement in both categories, posting numbers of 20% and 75%.\n",
        "\n",
        "- The numbers I pulled supported the infamous reputation of the Chicago Bears to be a run-first, poor-passing offense. In both 2022 and 2023, the Bears led my list of teams in rushing yards per game and were last in passing yards per game. Amazingly, the Bears averaged only 152 yards passing per game in 2022! While former QB Justin Fields is a dynamic athlete with an ability to make breathtaking plays, his passing ability simply never developed in Chicago to a place where they could reliably and effectively use his arm. That's why they drafted Caleb Williams with the no.1 overall pick last April.\n",
        "\n",
        "- The consensus top team in my list of selected franchises for this project, the 49ers success appears to have a lot to do with a dominant defense. In both 2022 and 2023, the 49ers reached the postseason, including a super bowl appearance last season. In both 2022 and 2023, the 49ers defense allowed less than 100 yards per game, while improving their pass defense greatly between '22-'23. The offense more than held their own as well, ranking #2 among my teams in both passing and rushing offense in 2023. Interestingly enough, the 49ers have maintained and built upon their offensive success while changing QB's, with Jimmy Garoppolo and Trey Lance both seing extensive reps before coach Mike Shanahan settled on Brock Purdy as the face of the franchise. Those are the ingredients of a well-run franchise that hopes to continue competing for super bowls in the future.\n",
        "\n"
      ]
    },
    {
      "cell_type": "markdown",
      "metadata": {
        "id": "5b8tQRYkw35s"
      },
      "source": [
        "##**Alignment with Research**\n",
        "- In the previous research assignment, I asserted that two of my franchises (the Miami Dolphins and the San Francisco 49ers) in particular are known for creative, balanced, and explosive offenses. I think that assertion is supported by the research in this assignment:\n",
        "  - Miami Dolphins offensive rankings (among my teams)\n",
        "    - Passing: #1\n",
        "    - Rushing: #3\n",
        "  - San Francisco 49ers offensive rankings (among my teams)\n",
        "    - Passing: #2\n",
        "    - Rushing: #2\n",
        "\n",
        "- In addition, I believe this research aligns with the common thought that QB play is the strongest indicator of a team's success. I have previously pointed out with the Houston Texans struggles in 2022 with Davis Mills at QB versus their success in 2023 with rising star C.J. Stroud at the helm, but this isn't the only example in my 8-team scope. In the opposite direction, the Washington Commanders win total decreased 4 games from somewhat-competitive 8-9 record in 2022, to an abysmal 4-13 record in 2023. This correlates with the Commanders' change from the servicable Taylor Heinicke to a young, inexperienced QB in Sam Howell."
      ]
    }
  ],
  "metadata": {
    "colab": {
      "collapsed_sections": [
        "p39J62QTKpBG",
        "YalsdfSjwKR1",
        "5QPwbcMrwSm7",
        "R6MRrCkkx5cJ",
        "4NQQtilS0ogL",
        "6IV8rsXOK7Is",
        "5yp75CuHLBRJ",
        "8l8wfzE3v1Wx",
        "3EofK4sexCIT",
        "jKSU4O8O0Ii1",
        "51Gz81ZN2orA"
      ],
      "provenance": [],
      "authorship_tag": "ABX9TyMNpjUGuTAnhM51omjBr3sV",
      "include_colab_link": true
    },
    "kernelspec": {
      "display_name": "Python 3",
      "name": "python3"
    },
    "language_info": {
      "name": "python"
    }
  },
  "nbformat": 4,
  "nbformat_minor": 0
}